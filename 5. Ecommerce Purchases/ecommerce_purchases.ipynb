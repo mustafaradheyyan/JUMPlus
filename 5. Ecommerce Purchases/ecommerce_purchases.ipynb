{
 "cells": [
  {
   "attachments": {},
   "cell_type": "markdown",
   "metadata": {},
   "source": [
    "#### Author: Mustafa Radheyyan\n",
    "#### Date: 05/01/2023\n",
    "#### Assignment: Cognixia JUMPlus Python Project 5\n",
    "~~~~~~~~~~~~~~~~~~~~~~~~~~~~~~~~~~~~~~~~~~~~~~~~~"
   ]
  },
  {
   "attachments": {},
   "cell_type": "markdown",
   "metadata": {},
   "source": [
    "## Import required libraries"
   ]
  },
  {
   "cell_type": "code",
   "execution_count": 1,
   "metadata": {},
   "outputs": [],
   "source": [
    "import pandas as pd"
   ]
  },
  {
   "attachments": {},
   "cell_type": "markdown",
   "metadata": {},
   "source": [
    "Path of data source"
   ]
  },
  {
   "cell_type": "code",
   "execution_count": 2,
   "metadata": {},
   "outputs": [],
   "source": [
    "ECOMMERCE_PURCHASES_CSV_PATH = 'Ecommerce_purchases.csv'"
   ]
  },
  {
   "attachments": {},
   "cell_type": "markdown",
   "metadata": {},
   "source": [
    "Context Manager helper functions for displaying DataFrames differently than the default configuration settings"
   ]
  },
  {
   "cell_type": "code",
   "execution_count": 3,
   "metadata": {},
   "outputs": [],
   "source": [
    "def force_show_all_columns(df):\n",
    "    with pd.option_context('display.max_columns', None, 'display.width', None):\n",
    "        display(df)"
   ]
  },
  {
   "cell_type": "code",
   "execution_count": 4,
   "metadata": {},
   "outputs": [],
   "source": [
    "def force_show_all_rows(df):\n",
    "    with pd.option_context('display.max_rows', None, 'display.width', None):\n",
    "        display(df)"
   ]
  },
  {
   "cell_type": "code",
   "execution_count": 5,
   "metadata": {},
   "outputs": [],
   "source": [
    "def use_inf_as_na(df, df_command):\n",
    "    with pd.option_context('mode.use_inf_as_na', True):\n",
    "        return df_command(df)"
   ]
  },
  {
   "attachments": {},
   "cell_type": "markdown",
   "metadata": {},
   "source": [
    "## Read the csv file"
   ]
  },
  {
   "attachments": {},
   "cell_type": "markdown",
   "metadata": {},
   "source": [
    "There are no specific index columns in this dataset."
   ]
  },
  {
   "cell_type": "code",
   "execution_count": 6,
   "metadata": {},
   "outputs": [],
   "source": [
    "ecommerce_purchases_df = pd.read_csv(ECOMMERCE_PURCHASES_CSV_PATH)"
   ]
  },
  {
   "attachments": {},
   "cell_type": "markdown",
   "metadata": {},
   "source": [
    "## Data Cleaning"
   ]
  },
  {
   "attachments": {},
   "cell_type": "markdown",
   "metadata": {},
   "source": [
    "##### Convert DF Column Name List"
   ]
  },
  {
   "attachments": {},
   "cell_type": "markdown",
   "metadata": {},
   "source": [
    "Made DataFrame's columns snake case in order to be more computing friendly<br></br>\n",
    "Made a list of the dataframe's columns to enable easier searching of column names"
   ]
  },
  {
   "cell_type": "code",
   "execution_count": 7,
   "metadata": {},
   "outputs": [
    {
     "data": {
      "text/plain": [
       "['address',\n",
       " 'lot',\n",
       " 'am_or_pm',\n",
       " 'browser_info',\n",
       " 'company',\n",
       " 'credit_card',\n",
       " 'cc_exp_date',\n",
       " 'cc_security_code',\n",
       " 'cc_provider',\n",
       " 'email',\n",
       " 'job',\n",
       " 'ip_address',\n",
       " 'language',\n",
       " 'purchase_price']"
      ]
     },
     "execution_count": 7,
     "metadata": {},
     "output_type": "execute_result"
    }
   ],
   "source": [
    "ecommerce_purchases_df.columns = ecommerce_purchases_df.columns.str.replace(' ', '_').str.lower()\n",
    "ecommerce_purchases_columns = list(ecommerce_purchases_df.columns)\n",
    "ecommerce_purchases_columns"
   ]
  },
  {
   "attachments": {},
   "cell_type": "markdown",
   "metadata": {},
   "source": [
    "#### Data Cleaning"
   ]
  },
  {
   "cell_type": "code",
   "execution_count": 8,
   "metadata": {},
   "outputs": [
    {
     "data": {
      "text/plain": [
       "'16629 Pace Camp Apt. 448\\r\\nAlexisborough, NE 77130-7478'"
      ]
     },
     "execution_count": 8,
     "metadata": {},
     "output_type": "execute_result"
    }
   ],
   "source": [
    "ecommerce_purchases_df.loc[0, 'address']"
   ]
  },
  {
   "cell_type": "code",
   "execution_count": 9,
   "metadata": {},
   "outputs": [],
   "source": [
    "ecommerce_purchases_df['address'] = ecommerce_purchases_df['address'].str.replace('\\n', '')"
   ]
  },
  {
   "cell_type": "code",
   "execution_count": 10,
   "metadata": {},
   "outputs": [
    {
     "data": {
      "text/plain": [
       "array(['PM', 'AM'], dtype=object)"
      ]
     },
     "execution_count": 10,
     "metadata": {},
     "output_type": "execute_result"
    }
   ],
   "source": [
    "ecommerce_purchases_df['am_or_pm'].unique()"
   ]
  },
  {
   "cell_type": "code",
   "execution_count": 11,
   "metadata": {},
   "outputs": [],
   "source": [
    "def am_or_pm_conversion(cell_value):\n",
    "    if cell_value == \"AM\":\n",
    "        return True\n",
    "    elif cell_value == \"PM\":\n",
    "        return False\n"
   ]
  },
  {
   "cell_type": "code",
   "execution_count": 12,
   "metadata": {},
   "outputs": [],
   "source": [
    "ecommerce_purchases_df['am_or_pm'] = ecommerce_purchases_df['am_or_pm'].apply(am_or_pm_conversion)"
   ]
  },
  {
   "cell_type": "code",
   "execution_count": 13,
   "metadata": {},
   "outputs": [
    {
     "data": {
      "text/plain": [
       "9822"
      ]
     },
     "execution_count": 13,
     "metadata": {},
     "output_type": "execute_result"
    }
   ],
   "source": [
    "len(ecommerce_purchases_df['lot'].unique())"
   ]
  },
  {
   "cell_type": "code",
   "execution_count": 14,
   "metadata": {},
   "outputs": [],
   "source": [
    "ecommerce_purchases_df = ecommerce_purchases_df.rename(columns={'am_or_pm': 'time_am'})"
   ]
  },
  {
   "cell_type": "code",
   "execution_count": 15,
   "metadata": {},
   "outputs": [],
   "source": [
    "ecommerce_purchases_df = ecommerce_purchases_df.convert_dtypes()"
   ]
  },
  {
   "cell_type": "code",
   "execution_count": 16,
   "metadata": {},
   "outputs": [],
   "source": [
    "ecommerce_purchases_columns = list(ecommerce_purchases_df.columns)"
   ]
  },
  {
   "attachments": {},
   "cell_type": "markdown",
   "metadata": {},
   "source": [
    "## 1. Display Top 10 Rows of The Dataset"
   ]
  },
  {
   "cell_type": "code",
   "execution_count": 17,
   "metadata": {},
   "outputs": [
    {
     "data": {
      "text/html": [
       "<div>\n",
       "<style scoped>\n",
       "    .dataframe tbody tr th:only-of-type {\n",
       "        vertical-align: middle;\n",
       "    }\n",
       "\n",
       "    .dataframe tbody tr th {\n",
       "        vertical-align: top;\n",
       "    }\n",
       "\n",
       "    .dataframe thead th {\n",
       "        text-align: right;\n",
       "    }\n",
       "</style>\n",
       "<table border=\"1\" class=\"dataframe\">\n",
       "  <thead>\n",
       "    <tr style=\"text-align: right;\">\n",
       "      <th></th>\n",
       "      <th>address</th>\n",
       "      <th>lot</th>\n",
       "      <th>time_am</th>\n",
       "      <th>browser_info</th>\n",
       "      <th>company</th>\n",
       "      <th>credit_card</th>\n",
       "      <th>cc_exp_date</th>\n",
       "      <th>cc_security_code</th>\n",
       "      <th>cc_provider</th>\n",
       "      <th>email</th>\n",
       "      <th>job</th>\n",
       "      <th>ip_address</th>\n",
       "      <th>language</th>\n",
       "      <th>purchase_price</th>\n",
       "    </tr>\n",
       "  </thead>\n",
       "  <tbody>\n",
       "    <tr>\n",
       "      <th>0</th>\n",
       "      <td>16629 Pace Camp Apt. 448\rAlexisborough, NE 771...</td>\n",
       "      <td>46 in</td>\n",
       "      <td>False</td>\n",
       "      <td>Opera/9.56.(X11; Linux x86_64; sl-SI) Presto/2...</td>\n",
       "      <td>Martinez-Herman</td>\n",
       "      <td>6011929061123406</td>\n",
       "      <td>02/20</td>\n",
       "      <td>900</td>\n",
       "      <td>JCB 16 digit</td>\n",
       "      <td>pdunlap@yahoo.com</td>\n",
       "      <td>Scientist, product/process development</td>\n",
       "      <td>149.146.147.205</td>\n",
       "      <td>el</td>\n",
       "      <td>98.14</td>\n",
       "    </tr>\n",
       "    <tr>\n",
       "      <th>1</th>\n",
       "      <td>9374 Jasmine Spurs Suite 508\rSouth John, TN 84...</td>\n",
       "      <td>28 rn</td>\n",
       "      <td>False</td>\n",
       "      <td>Opera/8.93.(Windows 98; Win 9x 4.90; en-US) Pr...</td>\n",
       "      <td>Fletcher, Richards and Whitaker</td>\n",
       "      <td>3337758169645356</td>\n",
       "      <td>11/18</td>\n",
       "      <td>561</td>\n",
       "      <td>Mastercard</td>\n",
       "      <td>anthony41@reed.com</td>\n",
       "      <td>Drilling engineer</td>\n",
       "      <td>15.160.41.51</td>\n",
       "      <td>fr</td>\n",
       "      <td>70.73</td>\n",
       "    </tr>\n",
       "    <tr>\n",
       "      <th>2</th>\n",
       "      <td>Unit 0065 Box 5052\rDPO AP 27450</td>\n",
       "      <td>94 vE</td>\n",
       "      <td>False</td>\n",
       "      <td>Mozilla/5.0 (compatible; MSIE 9.0; Windows NT ...</td>\n",
       "      <td>Simpson, Williams and Pham</td>\n",
       "      <td>675957666125</td>\n",
       "      <td>08/19</td>\n",
       "      <td>699</td>\n",
       "      <td>JCB 16 digit</td>\n",
       "      <td>amymiller@morales-harrison.com</td>\n",
       "      <td>Customer service manager</td>\n",
       "      <td>132.207.160.22</td>\n",
       "      <td>de</td>\n",
       "      <td>0.95</td>\n",
       "    </tr>\n",
       "    <tr>\n",
       "      <th>3</th>\n",
       "      <td>7780 Julia Fords\rNew Stacy, WA 45798</td>\n",
       "      <td>36 vm</td>\n",
       "      <td>False</td>\n",
       "      <td>Mozilla/5.0 (Macintosh; Intel Mac OS X 10_8_0 ...</td>\n",
       "      <td>Williams, Marshall and Buchanan</td>\n",
       "      <td>6011578504430710</td>\n",
       "      <td>02/24</td>\n",
       "      <td>384</td>\n",
       "      <td>Discover</td>\n",
       "      <td>brent16@olson-robinson.info</td>\n",
       "      <td>Drilling engineer</td>\n",
       "      <td>30.250.74.19</td>\n",
       "      <td>es</td>\n",
       "      <td>78.04</td>\n",
       "    </tr>\n",
       "    <tr>\n",
       "      <th>4</th>\n",
       "      <td>23012 Munoz Drive Suite 337\rNew Cynthia, TX 57826</td>\n",
       "      <td>20 IE</td>\n",
       "      <td>True</td>\n",
       "      <td>Opera/9.58.(X11; Linux x86_64; it-IT) Presto/2...</td>\n",
       "      <td>Brown, Watson and Andrews</td>\n",
       "      <td>6011456623207998</td>\n",
       "      <td>10/25</td>\n",
       "      <td>678</td>\n",
       "      <td>Diners Club / Carte Blanche</td>\n",
       "      <td>christopherwright@gmail.com</td>\n",
       "      <td>Fine artist</td>\n",
       "      <td>24.140.33.94</td>\n",
       "      <td>es</td>\n",
       "      <td>77.82</td>\n",
       "    </tr>\n",
       "    <tr>\n",
       "      <th>5</th>\n",
       "      <td>7502 Powell Mission Apt. 768\rTravisland, VA 30...</td>\n",
       "      <td>21 XT</td>\n",
       "      <td>False</td>\n",
       "      <td>Mozilla/5.0 (Macintosh; U; PPC Mac OS X 10_8_5...</td>\n",
       "      <td>Silva-Anderson</td>\n",
       "      <td>30246185196287</td>\n",
       "      <td>07/25</td>\n",
       "      <td>7169</td>\n",
       "      <td>Discover</td>\n",
       "      <td>ynguyen@gmail.com</td>\n",
       "      <td>Fish farm manager</td>\n",
       "      <td>55.96.152.147</td>\n",
       "      <td>ru</td>\n",
       "      <td>25.15</td>\n",
       "    </tr>\n",
       "    <tr>\n",
       "      <th>6</th>\n",
       "      <td>93971 Conway Causeway\rAndersonburgh, AZ 75107</td>\n",
       "      <td>96 Xt</td>\n",
       "      <td>True</td>\n",
       "      <td>Mozilla/5.0 (compatible; MSIE 7.0; Windows NT ...</td>\n",
       "      <td>Gibson and Sons</td>\n",
       "      <td>6011398782655569</td>\n",
       "      <td>07/24</td>\n",
       "      <td>714</td>\n",
       "      <td>VISA 16 digit</td>\n",
       "      <td>olivia04@yahoo.com</td>\n",
       "      <td>Dancer</td>\n",
       "      <td>127.252.144.18</td>\n",
       "      <td>de</td>\n",
       "      <td>88.56</td>\n",
       "    </tr>\n",
       "    <tr>\n",
       "      <th>7</th>\n",
       "      <td>260 Rachel Plains Suite 366\rCastroberg, WV 248...</td>\n",
       "      <td>96 pG</td>\n",
       "      <td>False</td>\n",
       "      <td>Mozilla/5.0 (X11; Linux i686) AppleWebKit/5350...</td>\n",
       "      <td>Marshall-Collins</td>\n",
       "      <td>561252141909</td>\n",
       "      <td>06/25</td>\n",
       "      <td>256</td>\n",
       "      <td>VISA 13 digit</td>\n",
       "      <td>phillip48@parks.info</td>\n",
       "      <td>Event organiser</td>\n",
       "      <td>224.247.97.150</td>\n",
       "      <td>pt</td>\n",
       "      <td>44.25</td>\n",
       "    </tr>\n",
       "    <tr>\n",
       "      <th>8</th>\n",
       "      <td>2129 Dylan Burg\rNew Michelle, ME 28650</td>\n",
       "      <td>45 JN</td>\n",
       "      <td>False</td>\n",
       "      <td>Mozilla/5.0 (Macintosh; U; Intel Mac OS X 10_7...</td>\n",
       "      <td>Galloway and Sons</td>\n",
       "      <td>180041795790001</td>\n",
       "      <td>04/24</td>\n",
       "      <td>899</td>\n",
       "      <td>JCB 16 digit</td>\n",
       "      <td>kdavis@rasmussen.com</td>\n",
       "      <td>Financial manager</td>\n",
       "      <td>146.234.201.229</td>\n",
       "      <td>ru</td>\n",
       "      <td>59.54</td>\n",
       "    </tr>\n",
       "    <tr>\n",
       "      <th>9</th>\n",
       "      <td>3795 Dawson Extensions\rLake Tinafort, ID 88739</td>\n",
       "      <td>15 Ug</td>\n",
       "      <td>True</td>\n",
       "      <td>Mozilla/5.0 (X11; Linux i686; rv:1.9.7.20) Gec...</td>\n",
       "      <td>Rivera, Buchanan and Ramirez</td>\n",
       "      <td>4396283918371</td>\n",
       "      <td>01/17</td>\n",
       "      <td>931</td>\n",
       "      <td>American Express</td>\n",
       "      <td>qcoleman@hunt-huerta.com</td>\n",
       "      <td>Forensic scientist</td>\n",
       "      <td>236.198.199.8</td>\n",
       "      <td>zh</td>\n",
       "      <td>95.63</td>\n",
       "    </tr>\n",
       "  </tbody>\n",
       "</table>\n",
       "</div>"
      ],
      "text/plain": [
       "                                             address    lot  time_am   \n",
       "0  16629 Pace Camp Apt. 448\n",
       "Alexisborough, NE 771...  46 in    False  \\\n",
       "1  9374 Jasmine Spurs Suite 508\n",
       "South John, TN 84...  28 rn    False   \n",
       "2                    Unit 0065 Box 5052\n",
       "DPO AP 27450  94 vE    False   \n",
       "3               7780 Julia Fords\n",
       "New Stacy, WA 45798  36 vm    False   \n",
       "4  23012 Munoz Drive Suite 337\n",
       "New Cynthia, TX 57826  20 IE     True   \n",
       "5  7502 Powell Mission Apt. 768\n",
       "Travisland, VA 30...  21 XT    False   \n",
       "6      93971 Conway Causeway\n",
       "Andersonburgh, AZ 75107  96 Xt     True   \n",
       "7  260 Rachel Plains Suite 366\n",
       "Castroberg, WV 248...  96 pG    False   \n",
       "8             2129 Dylan Burg\n",
       "New Michelle, ME 28650  45 JN    False   \n",
       "9     3795 Dawson Extensions\n",
       "Lake Tinafort, ID 88739  15 Ug     True   \n",
       "\n",
       "                                        browser_info   \n",
       "0  Opera/9.56.(X11; Linux x86_64; sl-SI) Presto/2...  \\\n",
       "1  Opera/8.93.(Windows 98; Win 9x 4.90; en-US) Pr...   \n",
       "2  Mozilla/5.0 (compatible; MSIE 9.0; Windows NT ...   \n",
       "3  Mozilla/5.0 (Macintosh; Intel Mac OS X 10_8_0 ...   \n",
       "4  Opera/9.58.(X11; Linux x86_64; it-IT) Presto/2...   \n",
       "5  Mozilla/5.0 (Macintosh; U; PPC Mac OS X 10_8_5...   \n",
       "6  Mozilla/5.0 (compatible; MSIE 7.0; Windows NT ...   \n",
       "7  Mozilla/5.0 (X11; Linux i686) AppleWebKit/5350...   \n",
       "8  Mozilla/5.0 (Macintosh; U; Intel Mac OS X 10_7...   \n",
       "9  Mozilla/5.0 (X11; Linux i686; rv:1.9.7.20) Gec...   \n",
       "\n",
       "                           company       credit_card cc_exp_date   \n",
       "0                  Martinez-Herman  6011929061123406       02/20  \\\n",
       "1  Fletcher, Richards and Whitaker  3337758169645356       11/18   \n",
       "2       Simpson, Williams and Pham      675957666125       08/19   \n",
       "3  Williams, Marshall and Buchanan  6011578504430710       02/24   \n",
       "4        Brown, Watson and Andrews  6011456623207998       10/25   \n",
       "5                   Silva-Anderson    30246185196287       07/25   \n",
       "6                  Gibson and Sons  6011398782655569       07/24   \n",
       "7                 Marshall-Collins      561252141909       06/25   \n",
       "8                Galloway and Sons   180041795790001       04/24   \n",
       "9     Rivera, Buchanan and Ramirez     4396283918371       01/17   \n",
       "\n",
       "   cc_security_code                  cc_provider   \n",
       "0               900                 JCB 16 digit  \\\n",
       "1               561                   Mastercard   \n",
       "2               699                 JCB 16 digit   \n",
       "3               384                     Discover   \n",
       "4               678  Diners Club / Carte Blanche   \n",
       "5              7169                     Discover   \n",
       "6               714                VISA 16 digit   \n",
       "7               256                VISA 13 digit   \n",
       "8               899                 JCB 16 digit   \n",
       "9               931             American Express   \n",
       "\n",
       "                            email                                     job   \n",
       "0               pdunlap@yahoo.com  Scientist, product/process development  \\\n",
       "1              anthony41@reed.com                       Drilling engineer   \n",
       "2  amymiller@morales-harrison.com                Customer service manager   \n",
       "3     brent16@olson-robinson.info                       Drilling engineer   \n",
       "4     christopherwright@gmail.com                             Fine artist   \n",
       "5               ynguyen@gmail.com                       Fish farm manager   \n",
       "6              olivia04@yahoo.com                                  Dancer   \n",
       "7            phillip48@parks.info                         Event organiser   \n",
       "8            kdavis@rasmussen.com                       Financial manager   \n",
       "9        qcoleman@hunt-huerta.com                      Forensic scientist   \n",
       "\n",
       "        ip_address language  purchase_price  \n",
       "0  149.146.147.205       el           98.14  \n",
       "1     15.160.41.51       fr           70.73  \n",
       "2   132.207.160.22       de            0.95  \n",
       "3     30.250.74.19       es           78.04  \n",
       "4     24.140.33.94       es           77.82  \n",
       "5    55.96.152.147       ru           25.15  \n",
       "6   127.252.144.18       de           88.56  \n",
       "7   224.247.97.150       pt           44.25  \n",
       "8  146.234.201.229       ru           59.54  \n",
       "9    236.198.199.8       zh           95.63  "
      ]
     },
     "execution_count": 17,
     "metadata": {},
     "output_type": "execute_result"
    }
   ],
   "source": [
    "ecommerce_purchases_df.head(10)"
   ]
  },
  {
   "attachments": {},
   "cell_type": "markdown",
   "metadata": {},
   "source": [
    "## 2. Check Last 10 Rows of The Dataset"
   ]
  },
  {
   "cell_type": "code",
   "execution_count": 18,
   "metadata": {},
   "outputs": [
    {
     "data": {
      "text/html": [
       "<div>\n",
       "<style scoped>\n",
       "    .dataframe tbody tr th:only-of-type {\n",
       "        vertical-align: middle;\n",
       "    }\n",
       "\n",
       "    .dataframe tbody tr th {\n",
       "        vertical-align: top;\n",
       "    }\n",
       "\n",
       "    .dataframe thead th {\n",
       "        text-align: right;\n",
       "    }\n",
       "</style>\n",
       "<table border=\"1\" class=\"dataframe\">\n",
       "  <thead>\n",
       "    <tr style=\"text-align: right;\">\n",
       "      <th></th>\n",
       "      <th>address</th>\n",
       "      <th>lot</th>\n",
       "      <th>time_am</th>\n",
       "      <th>browser_info</th>\n",
       "      <th>company</th>\n",
       "      <th>credit_card</th>\n",
       "      <th>cc_exp_date</th>\n",
       "      <th>cc_security_code</th>\n",
       "      <th>cc_provider</th>\n",
       "      <th>email</th>\n",
       "      <th>job</th>\n",
       "      <th>ip_address</th>\n",
       "      <th>language</th>\n",
       "      <th>purchase_price</th>\n",
       "    </tr>\n",
       "  </thead>\n",
       "  <tbody>\n",
       "    <tr>\n",
       "      <th>9990</th>\n",
       "      <td>75731 Molly Springs\rWest Danielle, VT 96934-5102</td>\n",
       "      <td>93 ty</td>\n",
       "      <td>False</td>\n",
       "      <td>Mozilla/5.0 (Macintosh; Intel Mac OS X 10_7_4;...</td>\n",
       "      <td>Pace, Vazquez and Richards</td>\n",
       "      <td>869968197049750</td>\n",
       "      <td>04/24</td>\n",
       "      <td>877</td>\n",
       "      <td>JCB 15 digit</td>\n",
       "      <td>andersonmichael@sherman.biz</td>\n",
       "      <td>Early years teacher</td>\n",
       "      <td>54.170.3.185</td>\n",
       "      <td>ru</td>\n",
       "      <td>18.35</td>\n",
       "    </tr>\n",
       "    <tr>\n",
       "      <th>9991</th>\n",
       "      <td>PSC 8165, Box 8498\rAPO AP 60327-0346</td>\n",
       "      <td>50 dA</td>\n",
       "      <td>True</td>\n",
       "      <td>Mozilla/5.0 (compatible; MSIE 8.0; Windows NT ...</td>\n",
       "      <td>Snyder Inc</td>\n",
       "      <td>4221582137197481</td>\n",
       "      <td>02/24</td>\n",
       "      <td>969</td>\n",
       "      <td>Voyager</td>\n",
       "      <td>kking@wise-liu.com</td>\n",
       "      <td>IT sales professional</td>\n",
       "      <td>254.25.31.156</td>\n",
       "      <td>el</td>\n",
       "      <td>25.93</td>\n",
       "    </tr>\n",
       "    <tr>\n",
       "      <th>9992</th>\n",
       "      <td>885 Allen Mountains Apt. 230\rWallhaven, LA 16995</td>\n",
       "      <td>40 vH</td>\n",
       "      <td>False</td>\n",
       "      <td>Mozilla/5.0 (Macintosh; PPC Mac OS X 10_6_5) A...</td>\n",
       "      <td>Wells Ltd</td>\n",
       "      <td>4664825258997302</td>\n",
       "      <td>10/20</td>\n",
       "      <td>431</td>\n",
       "      <td>Discover</td>\n",
       "      <td>bberry@wright.net</td>\n",
       "      <td>Set designer</td>\n",
       "      <td>174.173.51.32</td>\n",
       "      <td>de</td>\n",
       "      <td>67.96</td>\n",
       "    </tr>\n",
       "    <tr>\n",
       "      <th>9993</th>\n",
       "      <td>7555 Larson Locks Suite 229\rEllisburgh, MA 349...</td>\n",
       "      <td>72 jg</td>\n",
       "      <td>False</td>\n",
       "      <td>Mozilla/5.0 (Macintosh; U; Intel Mac OS X 10_8...</td>\n",
       "      <td>Colon and Sons</td>\n",
       "      <td>30025560104631</td>\n",
       "      <td>10/25</td>\n",
       "      <td>629</td>\n",
       "      <td>Maestro</td>\n",
       "      <td>chelseawilliams@lopez.biz</td>\n",
       "      <td>Designer, exhibition/display</td>\n",
       "      <td>177.46.82.128</td>\n",
       "      <td>el</td>\n",
       "      <td>65.61</td>\n",
       "    </tr>\n",
       "    <tr>\n",
       "      <th>9994</th>\n",
       "      <td>6276 Rojas Hollow\rLake Louis, WY 56410-7837</td>\n",
       "      <td>93 Ex</td>\n",
       "      <td>False</td>\n",
       "      <td>Opera/9.68.(X11; Linux x86_64; sl-SI) Presto/2...</td>\n",
       "      <td>Ritter-Smith</td>\n",
       "      <td>3112186784121077</td>\n",
       "      <td>01/25</td>\n",
       "      <td>1823</td>\n",
       "      <td>Maestro</td>\n",
       "      <td>iroberts@gmail.com</td>\n",
       "      <td>Education officer, museum</td>\n",
       "      <td>242.44.112.18</td>\n",
       "      <td>zh</td>\n",
       "      <td>31.85</td>\n",
       "    </tr>\n",
       "    <tr>\n",
       "      <th>9995</th>\n",
       "      <td>966 Castaneda Locks\rWest Juliafurt, CO 96415</td>\n",
       "      <td>92 XI</td>\n",
       "      <td>False</td>\n",
       "      <td>Mozilla/5.0 (Windows NT 5.1) AppleWebKit/5352 ...</td>\n",
       "      <td>Randall-Sloan</td>\n",
       "      <td>342945015358701</td>\n",
       "      <td>03/22</td>\n",
       "      <td>838</td>\n",
       "      <td>JCB 15 digit</td>\n",
       "      <td>iscott@wade-garner.com</td>\n",
       "      <td>Printmaker</td>\n",
       "      <td>29.73.197.114</td>\n",
       "      <td>it</td>\n",
       "      <td>82.21</td>\n",
       "    </tr>\n",
       "    <tr>\n",
       "      <th>9996</th>\n",
       "      <td>832 Curtis Dam Suite 785\rNorth Edwardburgh, TX...</td>\n",
       "      <td>41 JY</td>\n",
       "      <td>True</td>\n",
       "      <td>Mozilla/5.0 (compatible; MSIE 9.0; Windows NT ...</td>\n",
       "      <td>Hale, Collins and Wilson</td>\n",
       "      <td>210033169205009</td>\n",
       "      <td>07/25</td>\n",
       "      <td>207</td>\n",
       "      <td>JCB 16 digit</td>\n",
       "      <td>mary85@hotmail.com</td>\n",
       "      <td>Energy engineer</td>\n",
       "      <td>121.133.168.51</td>\n",
       "      <td>pt</td>\n",
       "      <td>25.63</td>\n",
       "    </tr>\n",
       "    <tr>\n",
       "      <th>9997</th>\n",
       "      <td>Unit 4434 Box 6343\rDPO AE 28026-0283</td>\n",
       "      <td>74 Zh</td>\n",
       "      <td>True</td>\n",
       "      <td>Mozilla/5.0 (Macintosh; U; Intel Mac OS X 10_7...</td>\n",
       "      <td>Anderson Ltd</td>\n",
       "      <td>6011539787356311</td>\n",
       "      <td>05/21</td>\n",
       "      <td>1</td>\n",
       "      <td>VISA 16 digit</td>\n",
       "      <td>tyler16@gmail.com</td>\n",
       "      <td>Veterinary surgeon</td>\n",
       "      <td>156.210.0.254</td>\n",
       "      <td>el</td>\n",
       "      <td>83.98</td>\n",
       "    </tr>\n",
       "    <tr>\n",
       "      <th>9998</th>\n",
       "      <td>0096 English Rest\rRoystad, IA 12457</td>\n",
       "      <td>74 cL</td>\n",
       "      <td>False</td>\n",
       "      <td>Mozilla/5.0 (Macintosh; Intel Mac OS X 10_8_8;...</td>\n",
       "      <td>Cook Inc</td>\n",
       "      <td>180003348082930</td>\n",
       "      <td>11/17</td>\n",
       "      <td>987</td>\n",
       "      <td>American Express</td>\n",
       "      <td>elizabethmoore@reid.net</td>\n",
       "      <td>Local government officer</td>\n",
       "      <td>55.78.26.143</td>\n",
       "      <td>es</td>\n",
       "      <td>38.84</td>\n",
       "    </tr>\n",
       "    <tr>\n",
       "      <th>9999</th>\n",
       "      <td>40674 Barrett Stravenue\rGrimesville, WI 79682</td>\n",
       "      <td>64 Hr</td>\n",
       "      <td>True</td>\n",
       "      <td>Mozilla/5.0 (X11; Linux i686; rv:1.9.5.20) Gec...</td>\n",
       "      <td>Greene Inc</td>\n",
       "      <td>4139972901927273</td>\n",
       "      <td>02/19</td>\n",
       "      <td>302</td>\n",
       "      <td>JCB 15 digit</td>\n",
       "      <td>rachelford@vaughn.com</td>\n",
       "      <td>Embryologist, clinical</td>\n",
       "      <td>176.119.198.199</td>\n",
       "      <td>el</td>\n",
       "      <td>67.59</td>\n",
       "    </tr>\n",
       "  </tbody>\n",
       "</table>\n",
       "</div>"
      ],
      "text/plain": [
       "                                                address    lot  time_am   \n",
       "9990   75731 Molly Springs\n",
       "West Danielle, VT 96934-5102  93 ty    False  \\\n",
       "9991               PSC 8165, Box 8498\n",
       "APO AP 60327-0346  50 dA     True   \n",
       "9992   885 Allen Mountains Apt. 230\n",
       "Wallhaven, LA 16995  40 vH    False   \n",
       "9993  7555 Larson Locks Suite 229\n",
       "Ellisburgh, MA 349...  72 jg    False   \n",
       "9994        6276 Rojas Hollow\n",
       "Lake Louis, WY 56410-7837  93 Ex    False   \n",
       "9995       966 Castaneda Locks\n",
       "West Juliafurt, CO 96415  92 XI    False   \n",
       "9996  832 Curtis Dam Suite 785\n",
       "North Edwardburgh, TX...  41 JY     True   \n",
       "9997               Unit 4434 Box 6343\n",
       "DPO AE 28026-0283  74 Zh     True   \n",
       "9998                0096 English Rest\n",
       "Roystad, IA 12457  74 cL    False   \n",
       "9999      40674 Barrett Stravenue\n",
       "Grimesville, WI 79682  64 Hr     True   \n",
       "\n",
       "                                           browser_info   \n",
       "9990  Mozilla/5.0 (Macintosh; Intel Mac OS X 10_7_4;...  \\\n",
       "9991  Mozilla/5.0 (compatible; MSIE 8.0; Windows NT ...   \n",
       "9992  Mozilla/5.0 (Macintosh; PPC Mac OS X 10_6_5) A...   \n",
       "9993  Mozilla/5.0 (Macintosh; U; Intel Mac OS X 10_8...   \n",
       "9994  Opera/9.68.(X11; Linux x86_64; sl-SI) Presto/2...   \n",
       "9995  Mozilla/5.0 (Windows NT 5.1) AppleWebKit/5352 ...   \n",
       "9996  Mozilla/5.0 (compatible; MSIE 9.0; Windows NT ...   \n",
       "9997  Mozilla/5.0 (Macintosh; U; Intel Mac OS X 10_7...   \n",
       "9998  Mozilla/5.0 (Macintosh; Intel Mac OS X 10_8_8;...   \n",
       "9999  Mozilla/5.0 (X11; Linux i686; rv:1.9.5.20) Gec...   \n",
       "\n",
       "                         company       credit_card cc_exp_date   \n",
       "9990  Pace, Vazquez and Richards   869968197049750       04/24  \\\n",
       "9991                  Snyder Inc  4221582137197481       02/24   \n",
       "9992                   Wells Ltd  4664825258997302       10/20   \n",
       "9993              Colon and Sons    30025560104631       10/25   \n",
       "9994                Ritter-Smith  3112186784121077       01/25   \n",
       "9995               Randall-Sloan   342945015358701       03/22   \n",
       "9996    Hale, Collins and Wilson   210033169205009       07/25   \n",
       "9997                Anderson Ltd  6011539787356311       05/21   \n",
       "9998                    Cook Inc   180003348082930       11/17   \n",
       "9999                  Greene Inc  4139972901927273       02/19   \n",
       "\n",
       "      cc_security_code       cc_provider                        email   \n",
       "9990               877      JCB 15 digit  andersonmichael@sherman.biz  \\\n",
       "9991               969           Voyager           kking@wise-liu.com   \n",
       "9992               431          Discover            bberry@wright.net   \n",
       "9993               629           Maestro    chelseawilliams@lopez.biz   \n",
       "9994              1823           Maestro           iroberts@gmail.com   \n",
       "9995               838      JCB 15 digit       iscott@wade-garner.com   \n",
       "9996               207      JCB 16 digit           mary85@hotmail.com   \n",
       "9997                 1     VISA 16 digit            tyler16@gmail.com   \n",
       "9998               987  American Express      elizabethmoore@reid.net   \n",
       "9999               302      JCB 15 digit        rachelford@vaughn.com   \n",
       "\n",
       "                               job       ip_address language  purchase_price  \n",
       "9990           Early years teacher     54.170.3.185       ru           18.35  \n",
       "9991         IT sales professional    254.25.31.156       el           25.93  \n",
       "9992                  Set designer    174.173.51.32       de           67.96  \n",
       "9993  Designer, exhibition/display    177.46.82.128       el           65.61  \n",
       "9994     Education officer, museum    242.44.112.18       zh           31.85  \n",
       "9995                    Printmaker    29.73.197.114       it           82.21  \n",
       "9996               Energy engineer   121.133.168.51       pt           25.63  \n",
       "9997            Veterinary surgeon    156.210.0.254       el           83.98  \n",
       "9998      Local government officer     55.78.26.143       es           38.84  \n",
       "9999        Embryologist, clinical  176.119.198.199       el           67.59  "
      ]
     },
     "execution_count": 18,
     "metadata": {},
     "output_type": "execute_result"
    }
   ],
   "source": [
    "ecommerce_purchases_df.tail(10)"
   ]
  },
  {
   "attachments": {},
   "cell_type": "markdown",
   "metadata": {},
   "source": [
    "## 3. Check Datatype of Each Column"
   ]
  },
  {
   "cell_type": "code",
   "execution_count": 19,
   "metadata": {},
   "outputs": [
    {
     "data": {
      "text/plain": [
       "address             string[python]\n",
       "lot                 string[python]\n",
       "time_am                    boolean\n",
       "browser_info        string[python]\n",
       "company             string[python]\n",
       "credit_card                  Int64\n",
       "cc_exp_date         string[python]\n",
       "cc_security_code             Int64\n",
       "cc_provider         string[python]\n",
       "email               string[python]\n",
       "job                 string[python]\n",
       "ip_address          string[python]\n",
       "language            string[python]\n",
       "purchase_price             Float64\n",
       "dtype: object"
      ]
     },
     "metadata": {},
     "output_type": "display_data"
    }
   ],
   "source": [
    "display(ecommerce_purchases_df.dtypes)"
   ]
  },
  {
   "attachments": {},
   "cell_type": "markdown",
   "metadata": {},
   "source": [
    "## 4. Check null values in the dataset"
   ]
  },
  {
   "attachments": {},
   "cell_type": "markdown",
   "metadata": {},
   "source": [
    "### a. When we write isnull() method it creates boolean table"
   ]
  },
  {
   "cell_type": "code",
   "execution_count": 20,
   "metadata": {},
   "outputs": [
    {
     "data": {
      "text/html": [
       "<div>\n",
       "<style scoped>\n",
       "    .dataframe tbody tr th:only-of-type {\n",
       "        vertical-align: middle;\n",
       "    }\n",
       "\n",
       "    .dataframe tbody tr th {\n",
       "        vertical-align: top;\n",
       "    }\n",
       "\n",
       "    .dataframe thead th {\n",
       "        text-align: right;\n",
       "    }\n",
       "</style>\n",
       "<table border=\"1\" class=\"dataframe\">\n",
       "  <thead>\n",
       "    <tr style=\"text-align: right;\">\n",
       "      <th></th>\n",
       "      <th>address</th>\n",
       "      <th>lot</th>\n",
       "      <th>time_am</th>\n",
       "      <th>browser_info</th>\n",
       "      <th>company</th>\n",
       "      <th>credit_card</th>\n",
       "      <th>cc_exp_date</th>\n",
       "      <th>cc_security_code</th>\n",
       "      <th>cc_provider</th>\n",
       "      <th>email</th>\n",
       "      <th>job</th>\n",
       "      <th>ip_address</th>\n",
       "      <th>language</th>\n",
       "      <th>purchase_price</th>\n",
       "    </tr>\n",
       "  </thead>\n",
       "  <tbody>\n",
       "    <tr>\n",
       "      <th>Has NaN or N/A</th>\n",
       "      <td>False</td>\n",
       "      <td>False</td>\n",
       "      <td>False</td>\n",
       "      <td>False</td>\n",
       "      <td>False</td>\n",
       "      <td>False</td>\n",
       "      <td>False</td>\n",
       "      <td>False</td>\n",
       "      <td>False</td>\n",
       "      <td>False</td>\n",
       "      <td>False</td>\n",
       "      <td>False</td>\n",
       "      <td>False</td>\n",
       "      <td>False</td>\n",
       "    </tr>\n",
       "  </tbody>\n",
       "</table>\n",
       "</div>"
      ],
      "text/plain": [
       "                address    lot  time_am  browser_info  company  credit_card   \n",
       "Has NaN or N/A    False  False    False         False    False        False  \\\n",
       "\n",
       "                cc_exp_date  cc_security_code  cc_provider  email    job   \n",
       "Has NaN or N/A        False             False        False  False  False  \\\n",
       "\n",
       "                ip_address  language  purchase_price  \n",
       "Has NaN or N/A       False     False           False  "
      ]
     },
     "metadata": {},
     "output_type": "display_data"
    }
   ],
   "source": [
    "force_show_all_columns(ecommerce_purchases_df.isna().any().to_frame(name='Has NaN or N/A').transpose())"
   ]
  },
  {
   "attachments": {},
   "cell_type": "markdown",
   "metadata": {},
   "source": [
    "### b. Now you have to count that is there any missing value in the dataset or not ?"
   ]
  },
  {
   "cell_type": "code",
   "execution_count": 21,
   "metadata": {},
   "outputs": [
    {
     "data": {
      "text/html": [
       "<div>\n",
       "<style scoped>\n",
       "    .dataframe tbody tr th:only-of-type {\n",
       "        vertical-align: middle;\n",
       "    }\n",
       "\n",
       "    .dataframe tbody tr th {\n",
       "        vertical-align: top;\n",
       "    }\n",
       "\n",
       "    .dataframe thead th {\n",
       "        text-align: right;\n",
       "    }\n",
       "</style>\n",
       "<table border=\"1\" class=\"dataframe\">\n",
       "  <thead>\n",
       "    <tr style=\"text-align: right;\">\n",
       "      <th></th>\n",
       "      <th>address</th>\n",
       "      <th>lot</th>\n",
       "      <th>time_am</th>\n",
       "      <th>browser_info</th>\n",
       "      <th>company</th>\n",
       "      <th>credit_card</th>\n",
       "      <th>cc_exp_date</th>\n",
       "      <th>cc_security_code</th>\n",
       "      <th>cc_provider</th>\n",
       "      <th>email</th>\n",
       "      <th>job</th>\n",
       "      <th>ip_address</th>\n",
       "      <th>language</th>\n",
       "      <th>purchase_price</th>\n",
       "    </tr>\n",
       "  </thead>\n",
       "  <tbody>\n",
       "    <tr>\n",
       "      <th># of null, empty, N/A</th>\n",
       "      <td>0</td>\n",
       "      <td>0</td>\n",
       "      <td>0</td>\n",
       "      <td>0</td>\n",
       "      <td>0</td>\n",
       "      <td>0</td>\n",
       "      <td>0</td>\n",
       "      <td>0</td>\n",
       "      <td>0</td>\n",
       "      <td>0</td>\n",
       "      <td>0</td>\n",
       "      <td>0</td>\n",
       "      <td>0</td>\n",
       "      <td>0</td>\n",
       "    </tr>\n",
       "  </tbody>\n",
       "</table>\n",
       "</div>"
      ],
      "text/plain": [
       "                       address  lot  time_am  browser_info  company   \n",
       "# of null, empty, N/A        0    0        0             0        0  \\\n",
       "\n",
       "                       credit_card  cc_exp_date  cc_security_code   \n",
       "# of null, empty, N/A            0            0                 0  \\\n",
       "\n",
       "                       cc_provider  email  job  ip_address  language   \n",
       "# of null, empty, N/A            0      0    0           0         0  \\\n",
       "\n",
       "                       purchase_price  \n",
       "# of null, empty, N/A               0  "
      ]
     },
     "metadata": {},
     "output_type": "display_data"
    }
   ],
   "source": [
    "null_ecommerce_purchases_df = (ecommerce_purchases_df.isna() | ecommerce_purchases_df.eq('')).astype('bool')\n",
    "\n",
    "null_ecommerce_purchases_count_df = (\n",
    "    null_ecommerce_purchases_df\n",
    "    .sum(axis=0)\n",
    "    .to_frame(name='# of null, empty, N/A')\n",
    "    .transpose()\n",
    ")\n",
    "\n",
    "force_show_all_columns(null_ecommerce_purchases_count_df)"
   ]
  },
  {
   "cell_type": "code",
   "execution_count": 22,
   "metadata": {},
   "outputs": [
    {
     "data": {
      "text/plain": [
       "0"
      ]
     },
     "execution_count": 22,
     "metadata": {},
     "output_type": "execute_result"
    }
   ],
   "source": [
    "num_of_missing_values_in_dataset = list(null_ecommerce_purchases_count_df.sum(axis=1).values)[0]\n",
    "num_of_missing_values_in_dataset"
   ]
  },
  {
   "cell_type": "code",
   "execution_count": 23,
   "metadata": {},
   "outputs": [
    {
     "data": {
      "text/html": [
       "<h1>There are no missing values in the dataset.</h2>"
      ],
      "text/plain": [
       "<IPython.core.display.HTML object>"
      ]
     },
     "metadata": {},
     "output_type": "display_data"
    }
   ],
   "source": [
    "from IPython.display import HTML\n",
    "\n",
    "display(HTML(f\"\"\"<h1>There {'are no missing values' if num_of_missing_values_in_dataset <= 0\n",
    "    else 'is 1 missing value' if num_of_missing_values_in_dataset == 1\n",
    "    else f'are {num_of_missing_values_in_dataset} missing values'} in the dataset.</h2>\"\"\"))"
   ]
  },
  {
   "attachments": {},
   "cell_type": "markdown",
   "metadata": {},
   "source": [
    "## 5. How many rows and columns are there in our Dataset?"
   ]
  },
  {
   "cell_type": "code",
   "execution_count": 24,
   "metadata": {},
   "outputs": [
    {
     "name": "stdout",
     "output_type": "stream",
     "text": [
      "Rows:    10000\n",
      "Columns: 14\n"
     ]
    }
   ],
   "source": [
    "ecommerce_purchases_df_shape = ecommerce_purchases_df.shape\n",
    "print(f\"Rows:    {ecommerce_purchases_df_shape[0]}\\nColumns: {ecommerce_purchases_df_shape[1]}\")"
   ]
  },
  {
   "attachments": {},
   "cell_type": "markdown",
   "metadata": {},
   "source": [
    "## 6. Show all columns first then find the length of them."
   ]
  },
  {
   "cell_type": "code",
   "execution_count": 25,
   "metadata": {},
   "outputs": [
    {
     "name": "stdout",
     "output_type": "stream",
     "text": [
      "['address', 'lot', 'time_am', 'browser_info', 'company', 'credit_card', 'cc_exp_date', 'cc_security_code', 'cc_provider', 'email', 'job', 'ip_address', 'language', 'purchase_price']\n",
      "\n",
      "Length of columns\n",
      "\n",
      "column                   # of rows\n",
      "\n",
      "address..................10000\n",
      "lot......................10000\n",
      "time_am..................10000\n",
      "browser_info.............10000\n",
      "company..................10000\n",
      "credit_card..............10000\n",
      "cc_exp_date..............10000\n",
      "cc_security_code.........10000\n",
      "cc_provider..............10000\n",
      "email....................10000\n",
      "job......................10000\n",
      "ip_address...............10000\n",
      "language.................10000\n",
      "purchase_price...........10000\n"
     ]
    }
   ],
   "source": [
    "TAB_SEPARATOR_LENGTH = 25\n",
    "\n",
    "print(ecommerce_purchases_df.columns.to_list())\n",
    "print(\"\\nLength of columns\", sep='')\n",
    "print(f\"\\n{'column':<{TAB_SEPARATOR_LENGTH}}# of rows\\n\")\n",
    "for column in ecommerce_purchases_df.columns:\n",
    "    print(f\"{column:.<{TAB_SEPARATOR_LENGTH}}{len(ecommerce_purchases_df[column])}\")"
   ]
  },
  {
   "attachments": {},
   "cell_type": "markdown",
   "metadata": {},
   "source": [
    "## 7. Show all number of rows"
   ]
  },
  {
   "cell_type": "code",
   "execution_count": 26,
   "metadata": {},
   "outputs": [
    {
     "name": "stdout",
     "output_type": "stream",
     "text": [
      "Number of rows: 10000\n"
     ]
    }
   ],
   "source": [
    "print('Number of rows:', len(ecommerce_purchases_df))"
   ]
  },
  {
   "attachments": {},
   "cell_type": "markdown",
   "metadata": {},
   "source": [
    "## 8. Show complete information of dataset"
   ]
  },
  {
   "cell_type": "code",
   "execution_count": 27,
   "metadata": {},
   "outputs": [],
   "source": [
    "def print_df_info(df):\n",
    "    print('Type of dataset:', type(df))\n",
    "    print('\\nIs the dataset empty?:', df.empty)\n",
    "    print('\\nAxes:\\n', df.axes, sep='')\n",
    "    print('\\nAttributes:\\n', df.attrs, sep='')\n",
    "    print('\\nFlags:\\n', df.flags, sep='')\n",
    "    print('\\nShape: (rows, columns)\\n', df.shape, sep='')\n",
    "    print('\\nData Types:')\n",
    "    display(df.dtypes)\n",
    "    print('\\nDescriptive Statistics:')\n",
    "    display(df.describe().round(2))"
   ]
  },
  {
   "cell_type": "code",
   "execution_count": 28,
   "metadata": {},
   "outputs": [
    {
     "name": "stdout",
     "output_type": "stream",
     "text": [
      "Type of dataset: <class 'pandas.core.frame.DataFrame'>\n",
      "\n",
      "Is the dataset empty?: False\n",
      "\n",
      "Axes:\n",
      "[RangeIndex(start=0, stop=10000, step=1), Index(['address', 'lot', 'time_am', 'browser_info', 'company', 'credit_card',\n",
      "       'cc_exp_date', 'cc_security_code', 'cc_provider', 'email', 'job',\n",
      "       'ip_address', 'language', 'purchase_price'],\n",
      "      dtype='object')]\n",
      "\n",
      "Attributes:\n",
      "{}\n",
      "\n",
      "Flags:\n",
      "<Flags(allows_duplicate_labels=True)>\n",
      "\n",
      "Shape: (rows, columns)\n",
      "(10000, 14)\n",
      "\n",
      "Data Types:\n"
     ]
    },
    {
     "data": {
      "text/plain": [
       "address             string[python]\n",
       "lot                 string[python]\n",
       "time_am                    boolean\n",
       "browser_info        string[python]\n",
       "company             string[python]\n",
       "credit_card                  Int64\n",
       "cc_exp_date         string[python]\n",
       "cc_security_code             Int64\n",
       "cc_provider         string[python]\n",
       "email               string[python]\n",
       "job                 string[python]\n",
       "ip_address          string[python]\n",
       "language            string[python]\n",
       "purchase_price             Float64\n",
       "dtype: object"
      ]
     },
     "metadata": {},
     "output_type": "display_data"
    },
    {
     "name": "stdout",
     "output_type": "stream",
     "text": [
      "\n",
      "Descriptive Statistics:\n"
     ]
    },
    {
     "data": {
      "text/html": [
       "<div>\n",
       "<style scoped>\n",
       "    .dataframe tbody tr th:only-of-type {\n",
       "        vertical-align: middle;\n",
       "    }\n",
       "\n",
       "    .dataframe tbody tr th {\n",
       "        vertical-align: top;\n",
       "    }\n",
       "\n",
       "    .dataframe thead th {\n",
       "        text-align: right;\n",
       "    }\n",
       "</style>\n",
       "<table border=\"1\" class=\"dataframe\">\n",
       "  <thead>\n",
       "    <tr style=\"text-align: right;\">\n",
       "      <th></th>\n",
       "      <th>credit_card</th>\n",
       "      <th>cc_security_code</th>\n",
       "      <th>purchase_price</th>\n",
       "    </tr>\n",
       "  </thead>\n",
       "  <tbody>\n",
       "    <tr>\n",
       "      <th>count</th>\n",
       "      <td>10000.0</td>\n",
       "      <td>10000.0</td>\n",
       "      <td>10000.0</td>\n",
       "    </tr>\n",
       "    <tr>\n",
       "      <th>mean</th>\n",
       "      <td>2341373942652652.0</td>\n",
       "      <td>907.22</td>\n",
       "      <td>50.35</td>\n",
       "    </tr>\n",
       "    <tr>\n",
       "      <th>std</th>\n",
       "      <td>2256102885223829.0</td>\n",
       "      <td>1589.69</td>\n",
       "      <td>29.02</td>\n",
       "    </tr>\n",
       "    <tr>\n",
       "      <th>min</th>\n",
       "      <td>60401860543.0</td>\n",
       "      <td>0.0</td>\n",
       "      <td>0.0</td>\n",
       "    </tr>\n",
       "    <tr>\n",
       "      <th>25%</th>\n",
       "      <td>30563223611130.5</td>\n",
       "      <td>280.0</td>\n",
       "      <td>25.15</td>\n",
       "    </tr>\n",
       "    <tr>\n",
       "      <th>50%</th>\n",
       "      <td>869994171540613.5</td>\n",
       "      <td>548.0</td>\n",
       "      <td>50.5</td>\n",
       "    </tr>\n",
       "    <tr>\n",
       "      <th>75%</th>\n",
       "      <td>4492297929116673.5</td>\n",
       "      <td>816.0</td>\n",
       "      <td>75.77</td>\n",
       "    </tr>\n",
       "    <tr>\n",
       "      <th>max</th>\n",
       "      <td>6011999761615928.0</td>\n",
       "      <td>9993.0</td>\n",
       "      <td>99.99</td>\n",
       "    </tr>\n",
       "  </tbody>\n",
       "</table>\n",
       "</div>"
      ],
      "text/plain": [
       "              credit_card  cc_security_code  purchase_price\n",
       "count             10000.0           10000.0         10000.0\n",
       "mean   2341373942652652.0            907.22           50.35\n",
       "std    2256102885223829.0           1589.69           29.02\n",
       "min         60401860543.0               0.0             0.0\n",
       "25%      30563223611130.5             280.0           25.15\n",
       "50%     869994171540613.5             548.0            50.5\n",
       "75%    4492297929116673.5             816.0           75.77\n",
       "max    6011999761615928.0            9993.0           99.99"
      ]
     },
     "metadata": {},
     "output_type": "display_data"
    }
   ],
   "source": [
    "print_df_info(ecommerce_purchases_df)"
   ]
  },
  {
   "cell_type": "code",
   "execution_count": 29,
   "metadata": {},
   "outputs": [
    {
     "name": "stdout",
     "output_type": "stream",
     "text": [
      "<class 'pandas.core.frame.DataFrame'>\n",
      "RangeIndex: 10000 entries, 0 to 9999\n",
      "Data columns (total 14 columns):\n",
      " #   Column            Non-Null Count  Dtype  \n",
      "---  ------            --------------  -----  \n",
      " 0   address           10000 non-null  string \n",
      " 1   lot               10000 non-null  string \n",
      " 2   time_am           10000 non-null  boolean\n",
      " 3   browser_info      10000 non-null  string \n",
      " 4   company           10000 non-null  string \n",
      " 5   credit_card       10000 non-null  Int64  \n",
      " 6   cc_exp_date       10000 non-null  string \n",
      " 7   cc_security_code  10000 non-null  Int64  \n",
      " 8   cc_provider       10000 non-null  string \n",
      " 9   email             10000 non-null  string \n",
      " 10  job               10000 non-null  string \n",
      " 11  ip_address        10000 non-null  string \n",
      " 12  language          10000 non-null  string \n",
      " 13  purchase_price    10000 non-null  Float64\n",
      "dtypes: Float64(1), Int64(2), boolean(1), string(10)\n",
      "memory usage: 1.0 MB\n"
     ]
    }
   ],
   "source": [
    "ecommerce_purchases_df.info()"
   ]
  },
  {
   "attachments": {},
   "cell_type": "markdown",
   "metadata": {},
   "source": [
    "## 9. Show Highest and Lowest Purchase Prices"
   ]
  },
  {
   "attachments": {},
   "cell_type": "markdown",
   "metadata": {},
   "source": [
    "### a. Try to show all columns names so that one can easily pick the column"
   ]
  },
  {
   "cell_type": "code",
   "execution_count": 30,
   "metadata": {},
   "outputs": [
    {
     "name": "stdout",
     "output_type": "stream",
     "text": [
      "['address', 'lot', 'time_am', 'browser_info', 'company', 'credit_card', 'cc_exp_date', 'cc_security_code', 'cc_provider', 'email', 'job', 'ip_address', 'language', 'purchase_price']\n"
     ]
    }
   ],
   "source": [
    "print(ecommerce_purchases_columns)"
   ]
  },
  {
   "cell_type": "code",
   "execution_count": 31,
   "metadata": {},
   "outputs": [],
   "source": [
    "PURCHASE_PRICE_COLUMN = 'purchase_price'"
   ]
  },
  {
   "cell_type": "code",
   "execution_count": 32,
   "metadata": {},
   "outputs": [
    {
     "name": "stdout",
     "output_type": "stream",
     "text": [
      "Number of rows with: min value: 2, max value: 2\n"
     ]
    }
   ],
   "source": [
    "print(f\"Number of rows with: min value: {len(ecommerce_purchases_df.loc[ecommerce_purchases_df[PURCHASE_PRICE_COLUMN] == ecommerce_purchases_df[PURCHASE_PRICE_COLUMN].min()])},\\\n",
    " max value: {len(ecommerce_purchases_df.loc[ecommerce_purchases_df[PURCHASE_PRICE_COLUMN] == ecommerce_purchases_df[PURCHASE_PRICE_COLUMN].max()])}\")\n"
   ]
  },
  {
   "cell_type": "code",
   "execution_count": 33,
   "metadata": {},
   "outputs": [
    {
     "data": {
      "text/plain": [
       "2876      0.0\n",
       "5487      0.0\n",
       "2092    99.99\n",
       "7807    99.99\n",
       "Name: purchase_price, dtype: Float64"
      ]
     },
     "execution_count": 33,
     "metadata": {},
     "output_type": "execute_result"
    }
   ],
   "source": [
    "ecommerce_purchases_df[PURCHASE_PRICE_COLUMN].loc[(ecommerce_purchases_df[PURCHASE_PRICE_COLUMN] == ecommerce_purchases_df[PURCHASE_PRICE_COLUMN].max())\n",
    "                           | (ecommerce_purchases_df[PURCHASE_PRICE_COLUMN] == ecommerce_purchases_df[PURCHASE_PRICE_COLUMN].min())].sort_values()"
   ]
  },
  {
   "cell_type": "code",
   "execution_count": 34,
   "metadata": {},
   "outputs": [
    {
     "data": {
      "text/html": [
       "<div>\n",
       "<style scoped>\n",
       "    .dataframe tbody tr th:only-of-type {\n",
       "        vertical-align: middle;\n",
       "    }\n",
       "\n",
       "    .dataframe tbody tr th {\n",
       "        vertical-align: top;\n",
       "    }\n",
       "\n",
       "    .dataframe thead th {\n",
       "        text-align: right;\n",
       "    }\n",
       "</style>\n",
       "<table border=\"1\" class=\"dataframe\">\n",
       "  <thead>\n",
       "    <tr style=\"text-align: right;\">\n",
       "      <th></th>\n",
       "      <th>address</th>\n",
       "      <th>lot</th>\n",
       "      <th>time_am</th>\n",
       "      <th>browser_info</th>\n",
       "      <th>company</th>\n",
       "      <th>credit_card</th>\n",
       "      <th>cc_exp_date</th>\n",
       "      <th>cc_security_code</th>\n",
       "      <th>cc_provider</th>\n",
       "      <th>email</th>\n",
       "      <th>job</th>\n",
       "      <th>ip_address</th>\n",
       "      <th>language</th>\n",
       "      <th>purchase_price</th>\n",
       "    </tr>\n",
       "  </thead>\n",
       "  <tbody>\n",
       "    <tr>\n",
       "      <th>2876</th>\n",
       "      <td>332 Jones Parkways\rEast Katherineville, GA 64230</td>\n",
       "      <td>39 GT</td>\n",
       "      <td>True</td>\n",
       "      <td>Mozilla/5.0 (Macintosh; U; PPC Mac OS X 10_6_9...</td>\n",
       "      <td>Lyons, Diaz and Clark</td>\n",
       "      <td>4204500444841766</td>\n",
       "      <td>01/18</td>\n",
       "      <td>38</td>\n",
       "      <td>VISA 16 digit</td>\n",
       "      <td>jennifer11@baker.com</td>\n",
       "      <td>Biomedical scientist</td>\n",
       "      <td>223.47.177.174</td>\n",
       "      <td>it</td>\n",
       "      <td>0.0</td>\n",
       "    </tr>\n",
       "    <tr>\n",
       "      <th>5487</th>\n",
       "      <td>465 Mallory Ways\rNorth Rebecca, RI 82734-1160</td>\n",
       "      <td>93 OH</td>\n",
       "      <td>False</td>\n",
       "      <td>Mozilla/5.0 (X11; Linux i686; rv:1.9.6.20) Gec...</td>\n",
       "      <td>Flynn and Sons</td>\n",
       "      <td>30469912089738</td>\n",
       "      <td>09/23</td>\n",
       "      <td>236</td>\n",
       "      <td>Discover</td>\n",
       "      <td>mjohnson@austin.org</td>\n",
       "      <td>Stage manager</td>\n",
       "      <td>43.99.56.59</td>\n",
       "      <td>zh</td>\n",
       "      <td>0.0</td>\n",
       "    </tr>\n",
       "    <tr>\n",
       "      <th>2092</th>\n",
       "      <td>63773 Shelton Greens\rAshleyton, MA 00493</td>\n",
       "      <td>56 lu</td>\n",
       "      <td>True</td>\n",
       "      <td>Mozilla/5.0 (X11; Linux x86_64) AppleWebKit/53...</td>\n",
       "      <td>Pitts Group</td>\n",
       "      <td>4292741269160</td>\n",
       "      <td>06/18</td>\n",
       "      <td>824</td>\n",
       "      <td>Maestro</td>\n",
       "      <td>heatherwoodard@lloyd.com</td>\n",
       "      <td>Surveyor, hydrographic</td>\n",
       "      <td>172.197.216.229</td>\n",
       "      <td>el</td>\n",
       "      <td>99.99</td>\n",
       "    </tr>\n",
       "    <tr>\n",
       "      <th>7807</th>\n",
       "      <td>PSC 6177, Box 1004\rAPO AA 57143-1269</td>\n",
       "      <td>64 Nf</td>\n",
       "      <td>True</td>\n",
       "      <td>Mozilla/5.0 (Macintosh; Intel Mac OS X 10_5_4)...</td>\n",
       "      <td>Porter, Johnson and Pratt</td>\n",
       "      <td>30109394842259</td>\n",
       "      <td>11/25</td>\n",
       "      <td>918</td>\n",
       "      <td>VISA 16 digit</td>\n",
       "      <td>kelli72@gmail.com</td>\n",
       "      <td>Surveyor, insurance</td>\n",
       "      <td>89.51.92.242</td>\n",
       "      <td>de</td>\n",
       "      <td>99.99</td>\n",
       "    </tr>\n",
       "  </tbody>\n",
       "</table>\n",
       "</div>"
      ],
      "text/plain": [
       "                                               address    lot  time_am   \n",
       "2876  332 Jones Parkways\n",
       "East Katherineville, GA 64230  39 GT     True  \\\n",
       "5487     465 Mallory Ways\n",
       "North Rebecca, RI 82734-1160  93 OH    False   \n",
       "2092          63773 Shelton Greens\n",
       "Ashleyton, MA 00493  56 lu     True   \n",
       "7807              PSC 6177, Box 1004\n",
       "APO AA 57143-1269  64 Nf     True   \n",
       "\n",
       "                                           browser_info   \n",
       "2876  Mozilla/5.0 (Macintosh; U; PPC Mac OS X 10_6_9...  \\\n",
       "5487  Mozilla/5.0 (X11; Linux i686; rv:1.9.6.20) Gec...   \n",
       "2092  Mozilla/5.0 (X11; Linux x86_64) AppleWebKit/53...   \n",
       "7807  Mozilla/5.0 (Macintosh; Intel Mac OS X 10_5_4)...   \n",
       "\n",
       "                        company       credit_card cc_exp_date   \n",
       "2876      Lyons, Diaz and Clark  4204500444841766       01/18  \\\n",
       "5487             Flynn and Sons    30469912089738       09/23   \n",
       "2092                Pitts Group     4292741269160       06/18   \n",
       "7807  Porter, Johnson and Pratt    30109394842259       11/25   \n",
       "\n",
       "      cc_security_code    cc_provider                     email   \n",
       "2876                38  VISA 16 digit      jennifer11@baker.com  \\\n",
       "5487               236       Discover       mjohnson@austin.org   \n",
       "2092               824        Maestro  heatherwoodard@lloyd.com   \n",
       "7807               918  VISA 16 digit         kelli72@gmail.com   \n",
       "\n",
       "                         job       ip_address language  purchase_price  \n",
       "2876    Biomedical scientist   223.47.177.174       it             0.0  \n",
       "5487           Stage manager      43.99.56.59       zh             0.0  \n",
       "2092  Surveyor, hydrographic  172.197.216.229       el           99.99  \n",
       "7807     Surveyor, insurance     89.51.92.242       de           99.99  "
      ]
     },
     "execution_count": 34,
     "metadata": {},
     "output_type": "execute_result"
    }
   ],
   "source": [
    "ecommerce_purchases_df.loc[(ecommerce_purchases_df[PURCHASE_PRICE_COLUMN] == ecommerce_purchases_df[PURCHASE_PRICE_COLUMN].max())\n",
    "                           | (ecommerce_purchases_df[PURCHASE_PRICE_COLUMN] == ecommerce_purchases_df[PURCHASE_PRICE_COLUMN].min())].sort_values(PURCHASE_PRICE_COLUMN)"
   ]
  },
  {
   "attachments": {},
   "cell_type": "markdown",
   "metadata": {},
   "source": [
    "## 10. Show average purchase price"
   ]
  },
  {
   "cell_type": "code",
   "execution_count": 35,
   "metadata": {},
   "outputs": [
    {
     "name": "stdout",
     "output_type": "stream",
     "text": [
      "$50.35\n"
     ]
    }
   ],
   "source": [
    "print(f'${round(ecommerce_purchases_df[PURCHASE_PRICE_COLUMN].mean(), 2)}')"
   ]
  },
  {
   "attachments": {},
   "cell_type": "markdown",
   "metadata": {},
   "source": [
    "## 11. How many people have French 'fr' as their Language?"
   ]
  },
  {
   "attachments": {},
   "cell_type": "markdown",
   "metadata": {},
   "source": [
    "### a. First show all columns then all languages"
   ]
  },
  {
   "cell_type": "code",
   "execution_count": 36,
   "metadata": {},
   "outputs": [
    {
     "name": "stdout",
     "output_type": "stream",
     "text": [
      "['address', 'lot', 'time_am', 'browser_info', 'company', 'credit_card', 'cc_exp_date', 'cc_security_code', 'cc_provider', 'email', 'job', 'ip_address', 'language', 'purchase_price']\n"
     ]
    }
   ],
   "source": [
    "print(ecommerce_purchases_columns)"
   ]
  },
  {
   "cell_type": "code",
   "execution_count": 37,
   "metadata": {},
   "outputs": [],
   "source": [
    "LANGUAGE_COLUMN = 'language'"
   ]
  },
  {
   "attachments": {},
   "cell_type": "markdown",
   "metadata": {},
   "source": [
    "### b. Check whether 'fr' is there or not"
   ]
  },
  {
   "cell_type": "code",
   "execution_count": 38,
   "metadata": {},
   "outputs": [
    {
     "data": {
      "text/plain": [
       "True"
      ]
     },
     "execution_count": 38,
     "metadata": {},
     "output_type": "execute_result"
    }
   ],
   "source": [
    "ecommerce_purchases_df[LANGUAGE_COLUMN].isin(['fr']).any()"
   ]
  },
  {
   "attachments": {},
   "cell_type": "markdown",
   "metadata": {},
   "source": [
    "### c. Compare language to 'fr'"
   ]
  },
  {
   "cell_type": "code",
   "execution_count": 39,
   "metadata": {},
   "outputs": [
    {
     "name": "stdout",
     "output_type": "stream",
     "text": [
      "1097 people have French as their language.\n"
     ]
    }
   ],
   "source": [
    "print(f\"{len(ecommerce_purchases_df.loc[ecommerce_purchases_df[LANGUAGE_COLUMN] == 'fr'])} people have French as their language.\")"
   ]
  },
  {
   "attachments": {},
   "cell_type": "markdown",
   "metadata": {},
   "source": [
    "## 12. Find Job Title Contains Engineer word"
   ]
  },
  {
   "attachments": {},
   "cell_type": "markdown",
   "metadata": {},
   "source": [
    "### a. Show all columns then look for 'Job' match it with 'engineer'"
   ]
  },
  {
   "cell_type": "code",
   "execution_count": 40,
   "metadata": {},
   "outputs": [
    {
     "name": "stdout",
     "output_type": "stream",
     "text": [
      "['address', 'lot', 'time_am', 'browser_info', 'company', 'credit_card', 'cc_exp_date', 'cc_security_code', 'cc_provider', 'email', 'job', 'ip_address', 'language', 'purchase_price']\n"
     ]
    }
   ],
   "source": [
    "print(ecommerce_purchases_columns)"
   ]
  },
  {
   "cell_type": "code",
   "execution_count": 41,
   "metadata": {},
   "outputs": [],
   "source": [
    "JOB_COLUMN = 'job'"
   ]
  },
  {
   "cell_type": "code",
   "execution_count": 42,
   "metadata": {},
   "outputs": [],
   "source": [
    "JOB_PROFESSION = 'engineer'"
   ]
  },
  {
   "attachments": {},
   "cell_type": "markdown",
   "metadata": {},
   "source": [
    "### b. Show all result rows having that word"
   ]
  },
  {
   "cell_type": "code",
   "execution_count": 43,
   "metadata": {},
   "outputs": [
    {
     "data": {
      "text/html": [
       "<div>\n",
       "<style scoped>\n",
       "    .dataframe tbody tr th:only-of-type {\n",
       "        vertical-align: middle;\n",
       "    }\n",
       "\n",
       "    .dataframe tbody tr th {\n",
       "        vertical-align: top;\n",
       "    }\n",
       "\n",
       "    .dataframe thead th {\n",
       "        text-align: right;\n",
       "    }\n",
       "</style>\n",
       "<table border=\"1\" class=\"dataframe\">\n",
       "  <thead>\n",
       "    <tr style=\"text-align: right;\">\n",
       "      <th></th>\n",
       "      <th>address</th>\n",
       "      <th>lot</th>\n",
       "      <th>time_am</th>\n",
       "      <th>browser_info</th>\n",
       "      <th>company</th>\n",
       "      <th>credit_card</th>\n",
       "      <th>cc_exp_date</th>\n",
       "      <th>cc_security_code</th>\n",
       "      <th>cc_provider</th>\n",
       "      <th>email</th>\n",
       "      <th>job</th>\n",
       "      <th>ip_address</th>\n",
       "      <th>language</th>\n",
       "      <th>purchase_price</th>\n",
       "    </tr>\n",
       "  </thead>\n",
       "  <tbody>\n",
       "    <tr>\n",
       "      <th>1</th>\n",
       "      <td>9374 Jasmine Spurs Suite 508\rSouth John, TN 84...</td>\n",
       "      <td>28 rn</td>\n",
       "      <td>False</td>\n",
       "      <td>Opera/8.93.(Windows 98; Win 9x 4.90; en-US) Pr...</td>\n",
       "      <td>Fletcher, Richards and Whitaker</td>\n",
       "      <td>3337758169645356</td>\n",
       "      <td>11/18</td>\n",
       "      <td>561</td>\n",
       "      <td>Mastercard</td>\n",
       "      <td>anthony41@reed.com</td>\n",
       "      <td>Drilling engineer</td>\n",
       "      <td>15.160.41.51</td>\n",
       "      <td>fr</td>\n",
       "      <td>70.73</td>\n",
       "    </tr>\n",
       "    <tr>\n",
       "      <th>3</th>\n",
       "      <td>7780 Julia Fords\rNew Stacy, WA 45798</td>\n",
       "      <td>36 vm</td>\n",
       "      <td>False</td>\n",
       "      <td>Mozilla/5.0 (Macintosh; Intel Mac OS X 10_8_0 ...</td>\n",
       "      <td>Williams, Marshall and Buchanan</td>\n",
       "      <td>6011578504430710</td>\n",
       "      <td>02/24</td>\n",
       "      <td>384</td>\n",
       "      <td>Discover</td>\n",
       "      <td>brent16@olson-robinson.info</td>\n",
       "      <td>Drilling engineer</td>\n",
       "      <td>30.250.74.19</td>\n",
       "      <td>es</td>\n",
       "      <td>78.04</td>\n",
       "    </tr>\n",
       "    <tr>\n",
       "      <th>50</th>\n",
       "      <td>41159 Michael Centers\rAdamsfort, RI 37108-6674</td>\n",
       "      <td>46 Ce</td>\n",
       "      <td>False</td>\n",
       "      <td>Mozilla/5.0 (Windows 98; Win 9x 4.90; sl-SI; r...</td>\n",
       "      <td>Wright, Williams and Mendez</td>\n",
       "      <td>4008586485908075</td>\n",
       "      <td>05/19</td>\n",
       "      <td>945</td>\n",
       "      <td>JCB 16 digit</td>\n",
       "      <td>susanvalentine@obrien.org</td>\n",
       "      <td>Mechanical engineer</td>\n",
       "      <td>213.203.143.215</td>\n",
       "      <td>de</td>\n",
       "      <td>36.85</td>\n",
       "    </tr>\n",
       "    <tr>\n",
       "      <th>103</th>\n",
       "      <td>480 Ronald Cape\rJohnville, MA 53644</td>\n",
       "      <td>11 wg</td>\n",
       "      <td>True</td>\n",
       "      <td>Mozilla/5.0 (Macintosh; U; Intel Mac OS X 10_5...</td>\n",
       "      <td>Brown Inc</td>\n",
       "      <td>30276609779632</td>\n",
       "      <td>03/22</td>\n",
       "      <td>676</td>\n",
       "      <td>Discover</td>\n",
       "      <td>wtownsend@jackson-johnson.biz</td>\n",
       "      <td>Technical sales engineer</td>\n",
       "      <td>119.178.136.56</td>\n",
       "      <td>it</td>\n",
       "      <td>51.37</td>\n",
       "    </tr>\n",
       "    <tr>\n",
       "      <th>193</th>\n",
       "      <td>1010 Mahoney Mills Suite 486\rWest Danielleview...</td>\n",
       "      <td>70 Fd</td>\n",
       "      <td>True</td>\n",
       "      <td>Mozilla/5.0 (X11; Linux i686; rv:1.9.5.20) Gec...</td>\n",
       "      <td>Wilson-Dennis</td>\n",
       "      <td>30359256148796</td>\n",
       "      <td>02/22</td>\n",
       "      <td>62</td>\n",
       "      <td>JCB 16 digit</td>\n",
       "      <td>stacy72@cruz.com</td>\n",
       "      <td>Energy engineer</td>\n",
       "      <td>189.183.41.220</td>\n",
       "      <td>pt</td>\n",
       "      <td>96.79</td>\n",
       "    </tr>\n",
       "  </tbody>\n",
       "</table>\n",
       "</div>"
      ],
      "text/plain": [
       "                                               address    lot  time_am   \n",
       "1    9374 Jasmine Spurs Suite 508\n",
       "South John, TN 84...  28 rn    False  \\\n",
       "3                 7780 Julia Fords\n",
       "New Stacy, WA 45798  36 vm    False   \n",
       "50      41159 Michael Centers\n",
       "Adamsfort, RI 37108-6674  46 Ce    False   \n",
       "103                480 Ronald Cape\n",
       "Johnville, MA 53644  11 wg     True   \n",
       "193  1010 Mahoney Mills Suite 486\n",
       "West Danielleview...  70 Fd     True   \n",
       "\n",
       "                                          browser_info   \n",
       "1    Opera/8.93.(Windows 98; Win 9x 4.90; en-US) Pr...  \\\n",
       "3    Mozilla/5.0 (Macintosh; Intel Mac OS X 10_8_0 ...   \n",
       "50   Mozilla/5.0 (Windows 98; Win 9x 4.90; sl-SI; r...   \n",
       "103  Mozilla/5.0 (Macintosh; U; Intel Mac OS X 10_5...   \n",
       "193  Mozilla/5.0 (X11; Linux i686; rv:1.9.5.20) Gec...   \n",
       "\n",
       "                             company       credit_card cc_exp_date   \n",
       "1    Fletcher, Richards and Whitaker  3337758169645356       11/18  \\\n",
       "3    Williams, Marshall and Buchanan  6011578504430710       02/24   \n",
       "50       Wright, Williams and Mendez  4008586485908075       05/19   \n",
       "103                        Brown Inc    30276609779632       03/22   \n",
       "193                    Wilson-Dennis    30359256148796       02/22   \n",
       "\n",
       "     cc_security_code   cc_provider                          email   \n",
       "1                 561    Mastercard             anthony41@reed.com  \\\n",
       "3                 384      Discover    brent16@olson-robinson.info   \n",
       "50                945  JCB 16 digit      susanvalentine@obrien.org   \n",
       "103               676      Discover  wtownsend@jackson-johnson.biz   \n",
       "193                62  JCB 16 digit               stacy72@cruz.com   \n",
       "\n",
       "                          job       ip_address language  purchase_price  \n",
       "1           Drilling engineer     15.160.41.51       fr           70.73  \n",
       "3           Drilling engineer     30.250.74.19       es           78.04  \n",
       "50        Mechanical engineer  213.203.143.215       de           36.85  \n",
       "103  Technical sales engineer   119.178.136.56       it           51.37  \n",
       "193           Energy engineer   189.183.41.220       pt           96.79  "
      ]
     },
     "execution_count": 43,
     "metadata": {},
     "output_type": "execute_result"
    }
   ],
   "source": [
    "ecommerce_purchases_df.loc[ecommerce_purchases_df[JOB_COLUMN].str.contains(JOB_PROFESSION)].head()"
   ]
  },
  {
   "attachments": {},
   "cell_type": "markdown",
   "metadata": {},
   "source": [
    "### c. Now make your search as case insensitive"
   ]
  },
  {
   "cell_type": "code",
   "execution_count": 44,
   "metadata": {},
   "outputs": [
    {
     "data": {
      "text/html": [
       "<div>\n",
       "<style scoped>\n",
       "    .dataframe tbody tr th:only-of-type {\n",
       "        vertical-align: middle;\n",
       "    }\n",
       "\n",
       "    .dataframe tbody tr th {\n",
       "        vertical-align: top;\n",
       "    }\n",
       "\n",
       "    .dataframe thead th {\n",
       "        text-align: right;\n",
       "    }\n",
       "</style>\n",
       "<table border=\"1\" class=\"dataframe\">\n",
       "  <thead>\n",
       "    <tr style=\"text-align: right;\">\n",
       "      <th></th>\n",
       "      <th>address</th>\n",
       "      <th>lot</th>\n",
       "      <th>time_am</th>\n",
       "      <th>browser_info</th>\n",
       "      <th>company</th>\n",
       "      <th>credit_card</th>\n",
       "      <th>cc_exp_date</th>\n",
       "      <th>cc_security_code</th>\n",
       "      <th>cc_provider</th>\n",
       "      <th>email</th>\n",
       "      <th>job</th>\n",
       "      <th>ip_address</th>\n",
       "      <th>language</th>\n",
       "      <th>purchase_price</th>\n",
       "    </tr>\n",
       "  </thead>\n",
       "  <tbody>\n",
       "    <tr>\n",
       "      <th>9948</th>\n",
       "      <td>95544 Johnson Isle Suite 939\rMichaelberg, RI 3...</td>\n",
       "      <td>91 bW</td>\n",
       "      <td>True</td>\n",
       "      <td>Opera/8.36.(X11; Linux x86_64; sl-SI) Presto/2...</td>\n",
       "      <td>Fox-Peterson</td>\n",
       "      <td>4762924304307</td>\n",
       "      <td>03/17</td>\n",
       "      <td>567</td>\n",
       "      <td>Mastercard</td>\n",
       "      <td>haleybenjamin@gmail.com</td>\n",
       "      <td>Structural engineer</td>\n",
       "      <td>120.36.140.58</td>\n",
       "      <td>en</td>\n",
       "      <td>71.89</td>\n",
       "    </tr>\n",
       "    <tr>\n",
       "      <th>9952</th>\n",
       "      <td>9991 Vaughn Hills\rRacheltown, PA 55409</td>\n",
       "      <td>36 KC</td>\n",
       "      <td>False</td>\n",
       "      <td>Mozilla/5.0 (X11; Linux i686; rv:1.9.5.20) Gec...</td>\n",
       "      <td>Ward, Smith and Castillo</td>\n",
       "      <td>6011679271321726</td>\n",
       "      <td>09/19</td>\n",
       "      <td>964</td>\n",
       "      <td>Voyager</td>\n",
       "      <td>jonesjennifer@olson.com</td>\n",
       "      <td>Engineer, energy</td>\n",
       "      <td>116.228.12.42</td>\n",
       "      <td>es</td>\n",
       "      <td>39.63</td>\n",
       "    </tr>\n",
       "    <tr>\n",
       "      <th>9970</th>\n",
       "      <td>0060 Keith Stream\rWestport, CO 47097</td>\n",
       "      <td>11 nt</td>\n",
       "      <td>False</td>\n",
       "      <td>Mozilla/5.0 (Macintosh; U; Intel Mac OS X 10_8...</td>\n",
       "      <td>Carpenter, Good and Hart</td>\n",
       "      <td>6011485664704662</td>\n",
       "      <td>07/19</td>\n",
       "      <td>543</td>\n",
       "      <td>Discover</td>\n",
       "      <td>rangelbrian@hotmail.com</td>\n",
       "      <td>Electrical engineer</td>\n",
       "      <td>242.8.85.205</td>\n",
       "      <td>en</td>\n",
       "      <td>17.76</td>\n",
       "    </tr>\n",
       "    <tr>\n",
       "      <th>9977</th>\n",
       "      <td>02182 Keith Expressway\rEast Shannon, CT 20578-...</td>\n",
       "      <td>34 RL</td>\n",
       "      <td>True</td>\n",
       "      <td>Mozilla/5.0 (compatible; MSIE 9.0; Windows NT ...</td>\n",
       "      <td>Deleon, Jacobson and Benton</td>\n",
       "      <td>4186094003664688</td>\n",
       "      <td>06/21</td>\n",
       "      <td>397</td>\n",
       "      <td>JCB 16 digit</td>\n",
       "      <td>daltoncarter@yahoo.com</td>\n",
       "      <td>Biomedical engineer</td>\n",
       "      <td>146.238.118.2</td>\n",
       "      <td>fr</td>\n",
       "      <td>94.93</td>\n",
       "    </tr>\n",
       "    <tr>\n",
       "      <th>9996</th>\n",
       "      <td>832 Curtis Dam Suite 785\rNorth Edwardburgh, TX...</td>\n",
       "      <td>41 JY</td>\n",
       "      <td>True</td>\n",
       "      <td>Mozilla/5.0 (compatible; MSIE 9.0; Windows NT ...</td>\n",
       "      <td>Hale, Collins and Wilson</td>\n",
       "      <td>210033169205009</td>\n",
       "      <td>07/25</td>\n",
       "      <td>207</td>\n",
       "      <td>JCB 16 digit</td>\n",
       "      <td>mary85@hotmail.com</td>\n",
       "      <td>Energy engineer</td>\n",
       "      <td>121.133.168.51</td>\n",
       "      <td>pt</td>\n",
       "      <td>25.63</td>\n",
       "    </tr>\n",
       "  </tbody>\n",
       "</table>\n",
       "</div>"
      ],
      "text/plain": [
       "                                                address    lot  time_am   \n",
       "9948  95544 Johnson Isle Suite 939\n",
       "Michaelberg, RI 3...  91 bW     True  \\\n",
       "9952             9991 Vaughn Hills\n",
       "Racheltown, PA 55409  36 KC    False   \n",
       "9970               0060 Keith Stream\n",
       "Westport, CO 47097  11 nt    False   \n",
       "9977  02182 Keith Expressway\n",
       "East Shannon, CT 20578-...  34 RL     True   \n",
       "9996  832 Curtis Dam Suite 785\n",
       "North Edwardburgh, TX...  41 JY     True   \n",
       "\n",
       "                                           browser_info   \n",
       "9948  Opera/8.36.(X11; Linux x86_64; sl-SI) Presto/2...  \\\n",
       "9952  Mozilla/5.0 (X11; Linux i686; rv:1.9.5.20) Gec...   \n",
       "9970  Mozilla/5.0 (Macintosh; U; Intel Mac OS X 10_8...   \n",
       "9977  Mozilla/5.0 (compatible; MSIE 9.0; Windows NT ...   \n",
       "9996  Mozilla/5.0 (compatible; MSIE 9.0; Windows NT ...   \n",
       "\n",
       "                          company       credit_card cc_exp_date   \n",
       "9948                 Fox-Peterson     4762924304307       03/17  \\\n",
       "9952     Ward, Smith and Castillo  6011679271321726       09/19   \n",
       "9970     Carpenter, Good and Hart  6011485664704662       07/19   \n",
       "9977  Deleon, Jacobson and Benton  4186094003664688       06/21   \n",
       "9996     Hale, Collins and Wilson   210033169205009       07/25   \n",
       "\n",
       "      cc_security_code   cc_provider                    email   \n",
       "9948               567    Mastercard  haleybenjamin@gmail.com  \\\n",
       "9952               964       Voyager  jonesjennifer@olson.com   \n",
       "9970               543      Discover  rangelbrian@hotmail.com   \n",
       "9977               397  JCB 16 digit   daltoncarter@yahoo.com   \n",
       "9996               207  JCB 16 digit       mary85@hotmail.com   \n",
       "\n",
       "                      job      ip_address language  purchase_price  \n",
       "9948  Structural engineer   120.36.140.58       en           71.89  \n",
       "9952     Engineer, energy   116.228.12.42       es           39.63  \n",
       "9970  Electrical engineer    242.8.85.205       en           17.76  \n",
       "9977  Biomedical engineer   146.238.118.2       fr           94.93  \n",
       "9996      Energy engineer  121.133.168.51       pt           25.63  "
      ]
     },
     "execution_count": 44,
     "metadata": {},
     "output_type": "execute_result"
    }
   ],
   "source": [
    "ecommerce_purchases_df.loc[ecommerce_purchases_df[JOB_COLUMN].str.lower().str.contains(JOB_PROFESSION)].tail()"
   ]
  },
  {
   "attachments": {},
   "cell_type": "markdown",
   "metadata": {},
   "source": [
    "### d. Find the length of resulting data too"
   ]
  },
  {
   "cell_type": "code",
   "execution_count": 45,
   "metadata": {},
   "outputs": [],
   "source": [
    "TAB_SEPARATOR_LENGTH = max(len('Length using case-sensitive engineer:'), len('Length using case-insensitive engineer:'))"
   ]
  },
  {
   "cell_type": "code",
   "execution_count": 46,
   "metadata": {},
   "outputs": [
    {
     "name": "stdout",
     "output_type": "stream",
     "text": [
      "Length using case-sensitive engineer:   531\n",
      "Length using case-insensitive engineer: 984\n"
     ]
    }
   ],
   "source": [
    "print(f\"{'Length using case-sensitive engineer:':<{TAB_SEPARATOR_LENGTH}} {len(ecommerce_purchases_df.loc[ecommerce_purchases_df[JOB_COLUMN].str.contains(JOB_PROFESSION)])}\\n\\\n",
    "{'Length using case-insensitive engineer:':<{TAB_SEPARATOR_LENGTH}} {len(ecommerce_purchases_df.loc[ecommerce_purchases_df[JOB_COLUMN].str.lower().str.contains(JOB_PROFESSION)])}\")"
   ]
  },
  {
   "attachments": {},
   "cell_type": "markdown",
   "metadata": {},
   "source": [
    "## 13. Find The Email of the person with the following IP Address: 132.207.160.22"
   ]
  },
  {
   "attachments": {},
   "cell_type": "markdown",
   "metadata": {},
   "source": [
    "### a. First display all column to know on which column you have to work"
   ]
  },
  {
   "cell_type": "code",
   "execution_count": 47,
   "metadata": {},
   "outputs": [
    {
     "data": {
      "text/plain": [
       "['address',\n",
       " 'lot',\n",
       " 'time_am',\n",
       " 'browser_info',\n",
       " 'company',\n",
       " 'credit_card',\n",
       " 'cc_exp_date',\n",
       " 'cc_security_code',\n",
       " 'cc_provider',\n",
       " 'email',\n",
       " 'job',\n",
       " 'ip_address',\n",
       " 'language',\n",
       " 'purchase_price']"
      ]
     },
     "execution_count": 47,
     "metadata": {},
     "output_type": "execute_result"
    }
   ],
   "source": [
    "ecommerce_purchases_columns"
   ]
  },
  {
   "cell_type": "code",
   "execution_count": 48,
   "metadata": {},
   "outputs": [],
   "source": [
    "EMAIL_COLUMN = 'email'\n",
    "IP_ADDRESS_COLUMN = 'ip_address'\n",
    "IP_ADDRESS = '132.207.160.22'"
   ]
  },
  {
   "attachments": {},
   "cell_type": "markdown",
   "metadata": {},
   "source": [
    "### b. Compare the column to ip address and show the results"
   ]
  },
  {
   "cell_type": "code",
   "execution_count": 49,
   "metadata": {},
   "outputs": [
    {
     "data": {
      "text/html": [
       "<div>\n",
       "<style scoped>\n",
       "    .dataframe tbody tr th:only-of-type {\n",
       "        vertical-align: middle;\n",
       "    }\n",
       "\n",
       "    .dataframe tbody tr th {\n",
       "        vertical-align: top;\n",
       "    }\n",
       "\n",
       "    .dataframe thead th {\n",
       "        text-align: right;\n",
       "    }\n",
       "</style>\n",
       "<table border=\"1\" class=\"dataframe\">\n",
       "  <thead>\n",
       "    <tr style=\"text-align: right;\">\n",
       "      <th></th>\n",
       "      <th>address</th>\n",
       "      <th>lot</th>\n",
       "      <th>time_am</th>\n",
       "      <th>browser_info</th>\n",
       "      <th>company</th>\n",
       "      <th>credit_card</th>\n",
       "      <th>cc_exp_date</th>\n",
       "      <th>cc_security_code</th>\n",
       "      <th>cc_provider</th>\n",
       "      <th>email</th>\n",
       "      <th>job</th>\n",
       "      <th>ip_address</th>\n",
       "      <th>language</th>\n",
       "      <th>purchase_price</th>\n",
       "    </tr>\n",
       "  </thead>\n",
       "  <tbody>\n",
       "    <tr>\n",
       "      <th>2</th>\n",
       "      <td>Unit 0065 Box 5052\rDPO AP 27450</td>\n",
       "      <td>94 vE</td>\n",
       "      <td>False</td>\n",
       "      <td>Mozilla/5.0 (compatible; MSIE 9.0; Windows NT ...</td>\n",
       "      <td>Simpson, Williams and Pham</td>\n",
       "      <td>675957666125</td>\n",
       "      <td>08/19</td>\n",
       "      <td>699</td>\n",
       "      <td>JCB 16 digit</td>\n",
       "      <td>amymiller@morales-harrison.com</td>\n",
       "      <td>Customer service manager</td>\n",
       "      <td>132.207.160.22</td>\n",
       "      <td>de</td>\n",
       "      <td>0.95</td>\n",
       "    </tr>\n",
       "  </tbody>\n",
       "</table>\n",
       "</div>"
      ],
      "text/plain": [
       "                           address    lot  time_am   \n",
       "2  Unit 0065 Box 5052\n",
       "DPO AP 27450  94 vE    False  \\\n",
       "\n",
       "                                        browser_info   \n",
       "2  Mozilla/5.0 (compatible; MSIE 9.0; Windows NT ...  \\\n",
       "\n",
       "                      company   credit_card cc_exp_date  cc_security_code   \n",
       "2  Simpson, Williams and Pham  675957666125       08/19               699  \\\n",
       "\n",
       "    cc_provider                           email                       job   \n",
       "2  JCB 16 digit  amymiller@morales-harrison.com  Customer service manager  \\\n",
       "\n",
       "       ip_address language  purchase_price  \n",
       "2  132.207.160.22       de            0.95  "
      ]
     },
     "execution_count": 49,
     "metadata": {},
     "output_type": "execute_result"
    }
   ],
   "source": [
    "ecommerce_purchases_df.loc[ecommerce_purchases_df[IP_ADDRESS_COLUMN] == IP_ADDRESS]"
   ]
  },
  {
   "attachments": {},
   "cell_type": "markdown",
   "metadata": {},
   "source": [
    "### c. Now display email only of that IP address"
   ]
  },
  {
   "cell_type": "code",
   "execution_count": 50,
   "metadata": {},
   "outputs": [
    {
     "data": {
      "text/html": [
       "<div>\n",
       "<style scoped>\n",
       "    .dataframe tbody tr th:only-of-type {\n",
       "        vertical-align: middle;\n",
       "    }\n",
       "\n",
       "    .dataframe tbody tr th {\n",
       "        vertical-align: top;\n",
       "    }\n",
       "\n",
       "    .dataframe thead th {\n",
       "        text-align: right;\n",
       "    }\n",
       "</style>\n",
       "<table border=\"1\" class=\"dataframe\">\n",
       "  <thead>\n",
       "    <tr style=\"text-align: right;\">\n",
       "      <th></th>\n",
       "      <th>email</th>\n",
       "    </tr>\n",
       "  </thead>\n",
       "  <tbody>\n",
       "    <tr>\n",
       "      <th>2</th>\n",
       "      <td>amymiller@morales-harrison.com</td>\n",
       "    </tr>\n",
       "  </tbody>\n",
       "</table>\n",
       "</div>"
      ],
      "text/plain": [
       "                            email\n",
       "2  amymiller@morales-harrison.com"
      ]
     },
     "metadata": {},
     "output_type": "display_data"
    },
    {
     "data": {
      "text/plain": [
       "'amymiller@morales-harrison.com'"
      ]
     },
     "execution_count": 50,
     "metadata": {},
     "output_type": "execute_result"
    }
   ],
   "source": [
    "ip_address_email_df = ecommerce_purchases_df[EMAIL_COLUMN].loc[ecommerce_purchases_df[IP_ADDRESS_COLUMN] == IP_ADDRESS]\n",
    "\n",
    "display(ip_address_email_df.to_frame())\n",
    "[email_address] = ip_address_email_df.to_list()\n",
    "email_address"
   ]
  },
  {
   "attachments": {},
   "cell_type": "markdown",
   "metadata": {},
   "source": [
    "## 14. How many People have Mastercard as their Credit Card Provider and made a purchase above 50 dollars?"
   ]
  },
  {
   "attachments": {},
   "cell_type": "markdown",
   "metadata": {},
   "source": [
    "### a. First display columns"
   ]
  },
  {
   "cell_type": "code",
   "execution_count": 51,
   "metadata": {},
   "outputs": [
    {
     "data": {
      "text/plain": [
       "['address',\n",
       " 'lot',\n",
       " 'time_am',\n",
       " 'browser_info',\n",
       " 'company',\n",
       " 'credit_card',\n",
       " 'cc_exp_date',\n",
       " 'cc_security_code',\n",
       " 'cc_provider',\n",
       " 'email',\n",
       " 'job',\n",
       " 'ip_address',\n",
       " 'language',\n",
       " 'purchase_price']"
      ]
     },
     "execution_count": 51,
     "metadata": {},
     "output_type": "execute_result"
    }
   ],
   "source": [
    "ecommerce_purchases_columns"
   ]
  },
  {
   "cell_type": "code",
   "execution_count": 52,
   "metadata": {},
   "outputs": [],
   "source": [
    "CREDIT_CARD_PROVIDER_COLUMN = 'cc_provider'\n",
    "CREDIT_CARD_PROVIDER = 'Mastercard'\n",
    "PURCHASE_PRICE_LIMIT = 50"
   ]
  },
  {
   "attachments": {},
   "cell_type": "markdown",
   "metadata": {},
   "source": [
    "### b. Do some comparisons and show numbers"
   ]
  },
  {
   "cell_type": "code",
   "execution_count": 53,
   "metadata": {},
   "outputs": [
    {
     "data": {
      "text/plain": [
       "405"
      ]
     },
     "execution_count": 53,
     "metadata": {},
     "output_type": "execute_result"
    }
   ],
   "source": [
    "len(ecommerce_purchases_df.loc[(ecommerce_purchases_df[CREDIT_CARD_PROVIDER_COLUMN] == CREDIT_CARD_PROVIDER) &\n",
    "                           (ecommerce_purchases_df[PURCHASE_PRICE_COLUMN] > PURCHASE_PRICE_LIMIT)])"
   ]
  },
  {
   "cell_type": "code",
   "execution_count": 54,
   "metadata": {},
   "outputs": [
    {
     "data": {
      "text/plain": [
       "405"
      ]
     },
     "execution_count": 54,
     "metadata": {},
     "output_type": "execute_result"
    }
   ],
   "source": [
    "len(ecommerce_purchases_df.loc[(ecommerce_purchases_df[CREDIT_CARD_PROVIDER_COLUMN].str.lower() == CREDIT_CARD_PROVIDER.lower()) &\n",
    "                           (ecommerce_purchases_df[PURCHASE_PRICE_COLUMN] > PURCHASE_PRICE_LIMIT)])"
   ]
  },
  {
   "cell_type": "code",
   "execution_count": 55,
   "metadata": {},
   "outputs": [
    {
     "data": {
      "text/plain": [
       "405"
      ]
     },
     "execution_count": 55,
     "metadata": {},
     "output_type": "execute_result"
    }
   ],
   "source": [
    "len(ecommerce_purchases_df.loc[(ecommerce_purchases_df[CREDIT_CARD_PROVIDER_COLUMN].str.lower() == CREDIT_CARD_PROVIDER.lower()) &\n",
    "                           (ecommerce_purchases_df[PURCHASE_PRICE_COLUMN] >= PURCHASE_PRICE_LIMIT)])"
   ]
  },
  {
   "attachments": {},
   "cell_type": "markdown",
   "metadata": {},
   "source": [
    "Comparing Mastercard purchases with less than $50 purchases, in which there are more as compared to greater than or equal to $50 (411 vs 405)"
   ]
  },
  {
   "cell_type": "code",
   "execution_count": 56,
   "metadata": {},
   "outputs": [
    {
     "data": {
      "text/plain": [
       "411"
      ]
     },
     "execution_count": 56,
     "metadata": {},
     "output_type": "execute_result"
    }
   ],
   "source": [
    "len(ecommerce_purchases_df.loc[(ecommerce_purchases_df[CREDIT_CARD_PROVIDER_COLUMN].str.lower() == CREDIT_CARD_PROVIDER.lower()) &\n",
    "                           (ecommerce_purchases_df[PURCHASE_PRICE_COLUMN] < PURCHASE_PRICE_LIMIT)])"
   ]
  },
  {
   "cell_type": "code",
   "execution_count": 57,
   "metadata": {},
   "outputs": [
    {
     "data": {
      "text/html": [
       "<div>\n",
       "<style scoped>\n",
       "    .dataframe tbody tr th:only-of-type {\n",
       "        vertical-align: middle;\n",
       "    }\n",
       "\n",
       "    .dataframe tbody tr th {\n",
       "        vertical-align: top;\n",
       "    }\n",
       "\n",
       "    .dataframe thead th {\n",
       "        text-align: right;\n",
       "    }\n",
       "</style>\n",
       "<table border=\"1\" class=\"dataframe\">\n",
       "  <thead>\n",
       "    <tr style=\"text-align: right;\">\n",
       "      <th></th>\n",
       "      <th>address</th>\n",
       "      <th>lot</th>\n",
       "      <th>time_am</th>\n",
       "      <th>browser_info</th>\n",
       "      <th>company</th>\n",
       "      <th>credit_card</th>\n",
       "      <th>cc_exp_date</th>\n",
       "      <th>cc_security_code</th>\n",
       "      <th>cc_provider</th>\n",
       "      <th>email</th>\n",
       "      <th>job</th>\n",
       "      <th>ip_address</th>\n",
       "      <th>language</th>\n",
       "      <th>purchase_price</th>\n",
       "    </tr>\n",
       "  </thead>\n",
       "  <tbody>\n",
       "    <tr>\n",
       "      <th>1</th>\n",
       "      <td>9374 Jasmine Spurs Suite 508\rSouth John, TN 84...</td>\n",
       "      <td>28 rn</td>\n",
       "      <td>False</td>\n",
       "      <td>Opera/8.93.(Windows 98; Win 9x 4.90; en-US) Pr...</td>\n",
       "      <td>Fletcher, Richards and Whitaker</td>\n",
       "      <td>3337758169645356</td>\n",
       "      <td>11/18</td>\n",
       "      <td>561</td>\n",
       "      <td>Mastercard</td>\n",
       "      <td>anthony41@reed.com</td>\n",
       "      <td>Drilling engineer</td>\n",
       "      <td>15.160.41.51</td>\n",
       "      <td>fr</td>\n",
       "      <td>70.73</td>\n",
       "    </tr>\n",
       "    <tr>\n",
       "      <th>18</th>\n",
       "      <td>461 Christopher Square\rWest Michaelchester, CA...</td>\n",
       "      <td>17 SB</td>\n",
       "      <td>False</td>\n",
       "      <td>Mozilla/5.0 (X11; Linux i686; rv:1.9.6.20) Gec...</td>\n",
       "      <td>Beard, Abbott and Pena</td>\n",
       "      <td>6011350184276270</td>\n",
       "      <td>12/22</td>\n",
       "      <td>767</td>\n",
       "      <td>Mastercard</td>\n",
       "      <td>hannah63@yahoo.com</td>\n",
       "      <td>Photographer</td>\n",
       "      <td>73.250.176.201</td>\n",
       "      <td>el</td>\n",
       "      <td>70.15</td>\n",
       "    </tr>\n",
       "    <tr>\n",
       "      <th>31</th>\n",
       "      <td>USNS Alvarado\rFPO AA 27052-1231</td>\n",
       "      <td>26 Lh</td>\n",
       "      <td>False</td>\n",
       "      <td>Opera/8.84.(X11; Linux i686; sl-SI) Presto/2.9...</td>\n",
       "      <td>Nicholson Group</td>\n",
       "      <td>4614997834548</td>\n",
       "      <td>03/22</td>\n",
       "      <td>909</td>\n",
       "      <td>Mastercard</td>\n",
       "      <td>ashley12@hotmail.com</td>\n",
       "      <td>Sales executive</td>\n",
       "      <td>94.176.142.201</td>\n",
       "      <td>en</td>\n",
       "      <td>94.14</td>\n",
       "    </tr>\n",
       "    <tr>\n",
       "      <th>35</th>\n",
       "      <td>93392 Webb Gardens Apt. 220\rLaurabury, AR 9993...</td>\n",
       "      <td>37 om</td>\n",
       "      <td>True</td>\n",
       "      <td>Mozilla/5.0 (Macintosh; U; Intel Mac OS X 10_7...</td>\n",
       "      <td>Mora Ltd</td>\n",
       "      <td>6011049630969815</td>\n",
       "      <td>09/16</td>\n",
       "      <td>367</td>\n",
       "      <td>Mastercard</td>\n",
       "      <td>hgonzalez@mcdowell.com</td>\n",
       "      <td>Lecturer, further education</td>\n",
       "      <td>216.23.95.40</td>\n",
       "      <td>zh</td>\n",
       "      <td>97.46</td>\n",
       "    </tr>\n",
       "    <tr>\n",
       "      <th>90</th>\n",
       "      <td>431 Bowen Lights\rFergusonborough, MH 01362</td>\n",
       "      <td>31 tG</td>\n",
       "      <td>True</td>\n",
       "      <td>Mozilla/5.0 (Windows NT 5.2; it-IT; rv:1.9.1.2...</td>\n",
       "      <td>Copeland-Lee</td>\n",
       "      <td>639032576097</td>\n",
       "      <td>06/18</td>\n",
       "      <td>868</td>\n",
       "      <td>Mastercard</td>\n",
       "      <td>nrogers@brown.com</td>\n",
       "      <td>Teacher, English as a foreign language</td>\n",
       "      <td>153.188.13.203</td>\n",
       "      <td>es</td>\n",
       "      <td>78.86</td>\n",
       "    </tr>\n",
       "  </tbody>\n",
       "</table>\n",
       "</div>"
      ],
      "text/plain": [
       "                                              address    lot  time_am   \n",
       "1   9374 Jasmine Spurs Suite 508\n",
       "South John, TN 84...  28 rn    False  \\\n",
       "18  461 Christopher Square\n",
       "West Michaelchester, CA...  17 SB    False   \n",
       "31                    USNS Alvarado\n",
       "FPO AA 27052-1231  26 Lh    False   \n",
       "35  93392 Webb Gardens Apt. 220\n",
       "Laurabury, AR 9993...  37 om     True   \n",
       "90         431 Bowen Lights\n",
       "Fergusonborough, MH 01362  31 tG     True   \n",
       "\n",
       "                                         browser_info   \n",
       "1   Opera/8.93.(Windows 98; Win 9x 4.90; en-US) Pr...  \\\n",
       "18  Mozilla/5.0 (X11; Linux i686; rv:1.9.6.20) Gec...   \n",
       "31  Opera/8.84.(X11; Linux i686; sl-SI) Presto/2.9...   \n",
       "35  Mozilla/5.0 (Macintosh; U; Intel Mac OS X 10_7...   \n",
       "90  Mozilla/5.0 (Windows NT 5.2; it-IT; rv:1.9.1.2...   \n",
       "\n",
       "                            company       credit_card cc_exp_date   \n",
       "1   Fletcher, Richards and Whitaker  3337758169645356       11/18  \\\n",
       "18           Beard, Abbott and Pena  6011350184276270       12/22   \n",
       "31                  Nicholson Group     4614997834548       03/22   \n",
       "35                         Mora Ltd  6011049630969815       09/16   \n",
       "90                     Copeland-Lee      639032576097       06/18   \n",
       "\n",
       "    cc_security_code cc_provider                   email   \n",
       "1                561  Mastercard      anthony41@reed.com  \\\n",
       "18               767  Mastercard      hannah63@yahoo.com   \n",
       "31               909  Mastercard    ashley12@hotmail.com   \n",
       "35               367  Mastercard  hgonzalez@mcdowell.com   \n",
       "90               868  Mastercard       nrogers@brown.com   \n",
       "\n",
       "                                       job      ip_address language   \n",
       "1                        Drilling engineer    15.160.41.51       fr  \\\n",
       "18                            Photographer  73.250.176.201       el   \n",
       "31                         Sales executive  94.176.142.201       en   \n",
       "35             Lecturer, further education    216.23.95.40       zh   \n",
       "90  Teacher, English as a foreign language  153.188.13.203       es   \n",
       "\n",
       "    purchase_price  \n",
       "1            70.73  \n",
       "18           70.15  \n",
       "31           94.14  \n",
       "35           97.46  \n",
       "90           78.86  "
      ]
     },
     "execution_count": 57,
     "metadata": {},
     "output_type": "execute_result"
    }
   ],
   "source": [
    "ecommerce_purchases_df.loc[(ecommerce_purchases_df[CREDIT_CARD_PROVIDER_COLUMN].str.lower() == CREDIT_CARD_PROVIDER.lower()) &\n",
    "                           (ecommerce_purchases_df[PURCHASE_PRICE_COLUMN] > PURCHASE_PRICE_LIMIT)].head()"
   ]
  },
  {
   "attachments": {},
   "cell_type": "markdown",
   "metadata": {},
   "source": [
    "## 15. Find the email of the person with the following Credit Card Number: 4664825258997302"
   ]
  },
  {
   "cell_type": "code",
   "execution_count": 58,
   "metadata": {},
   "outputs": [
    {
     "data": {
      "text/plain": [
       "['address',\n",
       " 'lot',\n",
       " 'time_am',\n",
       " 'browser_info',\n",
       " 'company',\n",
       " 'credit_card',\n",
       " 'cc_exp_date',\n",
       " 'cc_security_code',\n",
       " 'cc_provider',\n",
       " 'email',\n",
       " 'job',\n",
       " 'ip_address',\n",
       " 'language',\n",
       " 'purchase_price']"
      ]
     },
     "execution_count": 58,
     "metadata": {},
     "output_type": "execute_result"
    }
   ],
   "source": [
    "ecommerce_purchases_columns"
   ]
  },
  {
   "cell_type": "code",
   "execution_count": 59,
   "metadata": {},
   "outputs": [],
   "source": [
    "CREDIT_CARD_NUMBER_COLUMN = 'credit_card'\n",
    "CREDIT_CARD_NUMBER = 4664825258997302"
   ]
  },
  {
   "cell_type": "code",
   "execution_count": 60,
   "metadata": {},
   "outputs": [
    {
     "data": {
      "text/html": [
       "<div>\n",
       "<style scoped>\n",
       "    .dataframe tbody tr th:only-of-type {\n",
       "        vertical-align: middle;\n",
       "    }\n",
       "\n",
       "    .dataframe tbody tr th {\n",
       "        vertical-align: top;\n",
       "    }\n",
       "\n",
       "    .dataframe thead th {\n",
       "        text-align: right;\n",
       "    }\n",
       "</style>\n",
       "<table border=\"1\" class=\"dataframe\">\n",
       "  <thead>\n",
       "    <tr style=\"text-align: right;\">\n",
       "      <th></th>\n",
       "      <th>email</th>\n",
       "    </tr>\n",
       "  </thead>\n",
       "  <tbody>\n",
       "    <tr>\n",
       "      <th>9992</th>\n",
       "      <td>bberry@wright.net</td>\n",
       "    </tr>\n",
       "  </tbody>\n",
       "</table>\n",
       "</div>"
      ],
      "text/plain": [
       "                  email\n",
       "9992  bberry@wright.net"
      ]
     },
     "metadata": {},
     "output_type": "display_data"
    },
    {
     "data": {
      "text/plain": [
       "'bberry@wright.net'"
      ]
     },
     "execution_count": 60,
     "metadata": {},
     "output_type": "execute_result"
    }
   ],
   "source": [
    "credit_card_number_email = ecommerce_purchases_df[EMAIL_COLUMN].loc[ecommerce_purchases_df[CREDIT_CARD_NUMBER_COLUMN] == CREDIT_CARD_NUMBER]\n",
    "\n",
    "display(credit_card_number_email.to_frame())\n",
    "[email_address] = credit_card_number_email.to_list()\n",
    "email_address"
   ]
  },
  {
   "attachments": {},
   "cell_type": "markdown",
   "metadata": {},
   "source": [
    "## 16. How many people purchase during the AM and how many people purchase during PM?"
   ]
  },
  {
   "cell_type": "code",
   "execution_count": 61,
   "metadata": {},
   "outputs": [
    {
     "data": {
      "text/plain": [
       "['address',\n",
       " 'lot',\n",
       " 'time_am',\n",
       " 'browser_info',\n",
       " 'company',\n",
       " 'credit_card',\n",
       " 'cc_exp_date',\n",
       " 'cc_security_code',\n",
       " 'cc_provider',\n",
       " 'email',\n",
       " 'job',\n",
       " 'ip_address',\n",
       " 'language',\n",
       " 'purchase_price']"
      ]
     },
     "execution_count": 61,
     "metadata": {},
     "output_type": "execute_result"
    }
   ],
   "source": [
    "ecommerce_purchases_columns"
   ]
  },
  {
   "cell_type": "code",
   "execution_count": 62,
   "metadata": {},
   "outputs": [],
   "source": [
    "AM_PM_COLUMN = 'time_am'"
   ]
  },
  {
   "cell_type": "code",
   "execution_count": 63,
   "metadata": {},
   "outputs": [
    {
     "name": "stdout",
     "output_type": "stream",
     "text": [
      "4932 people purchase during the AM and 5068 people purchase during the PM.\n"
     ]
    }
   ],
   "source": [
    "print(f\"{len(ecommerce_purchases_df.loc[ecommerce_purchases_df[AM_PM_COLUMN]])} people purchase during the AM and \\\n",
    "{len(ecommerce_purchases_df.loc[~ecommerce_purchases_df[AM_PM_COLUMN]])} people purchase during the PM.\") "
   ]
  },
  {
   "attachments": {},
   "cell_type": "markdown",
   "metadata": {},
   "source": [
    "## 17. How many people have a credit card that expires in 2020?"
   ]
  },
  {
   "attachments": {},
   "cell_type": "markdown",
   "metadata": {},
   "source": [
    "### a. Show columns first"
   ]
  },
  {
   "cell_type": "code",
   "execution_count": 64,
   "metadata": {},
   "outputs": [
    {
     "data": {
      "text/plain": [
       "['address',\n",
       " 'lot',\n",
       " 'time_am',\n",
       " 'browser_info',\n",
       " 'company',\n",
       " 'credit_card',\n",
       " 'cc_exp_date',\n",
       " 'cc_security_code',\n",
       " 'cc_provider',\n",
       " 'email',\n",
       " 'job',\n",
       " 'ip_address',\n",
       " 'language',\n",
       " 'purchase_price']"
      ]
     },
     "execution_count": 64,
     "metadata": {},
     "output_type": "execute_result"
    }
   ],
   "source": [
    "ecommerce_purchases_columns"
   ]
  },
  {
   "cell_type": "code",
   "execution_count": 65,
   "metadata": {},
   "outputs": [],
   "source": [
    "CREDIT_CARD_DATE_COLUMN = 'cc_exp_date'\n",
    "YEAR_OF_EXPIRY = '20'"
   ]
  },
  {
   "attachments": {},
   "cell_type": "markdown",
   "metadata": {},
   "source": [
    "### b. Check the format of date"
   ]
  },
  {
   "cell_type": "code",
   "execution_count": 66,
   "metadata": {},
   "outputs": [
    {
     "data": {
      "text/plain": [
       "0       02/20\n",
       "1       11/18\n",
       "2       08/19\n",
       "3       02/24\n",
       "4       10/25\n",
       "        ...  \n",
       "9995    03/22\n",
       "9996    07/25\n",
       "9997    05/21\n",
       "9998    11/17\n",
       "9999    02/19\n",
       "Name: cc_exp_date, Length: 10000, dtype: string"
      ]
     },
     "execution_count": 66,
     "metadata": {},
     "output_type": "execute_result"
    }
   ],
   "source": [
    "ecommerce_purchases_df[CREDIT_CARD_DATE_COLUMN]"
   ]
  },
  {
   "attachments": {},
   "cell_type": "markdown",
   "metadata": {},
   "source": [
    "### c. Create a user defined function which counts how many persons having credit card expired in 2020"
   ]
  },
  {
   "cell_type": "code",
   "execution_count": 67,
   "metadata": {},
   "outputs": [],
   "source": [
    "def count_credit_card_expired(df, year):\n",
    "    return len(df.loc[df.str[-2:] == year])"
   ]
  },
  {
   "attachments": {},
   "cell_type": "markdown",
   "metadata": {},
   "source": [
    "### d. Iterate the date using for loop and split date and count it"
   ]
  },
  {
   "cell_type": "code",
   "execution_count": 68,
   "metadata": {},
   "outputs": [],
   "source": [
    "count_expired_cards = 0\n",
    "for row in ecommerce_purchases_df[CREDIT_CARD_DATE_COLUMN]:\n",
    "    date_result = row.split('/')\n",
    "    if date_result[1] == YEAR_OF_EXPIRY:\n",
    "        count_expired_cards += 1"
   ]
  },
  {
   "attachments": {},
   "cell_type": "markdown",
   "metadata": {},
   "source": [
    "### e. Show total sum of count"
   ]
  },
  {
   "cell_type": "code",
   "execution_count": 69,
   "metadata": {},
   "outputs": [
    {
     "name": "stdout",
     "output_type": "stream",
     "text": [
      "Total sum of expired count: 988\n"
     ]
    }
   ],
   "source": [
    "print(f\"Total sum of expired count: {count_expired_cards}\")"
   ]
  },
  {
   "attachments": {},
   "cell_type": "markdown",
   "metadata": {},
   "source": [
    "### f. You can use any other method too"
   ]
  },
  {
   "cell_type": "code",
   "execution_count": 70,
   "metadata": {},
   "outputs": [
    {
     "name": "stdout",
     "output_type": "stream",
     "text": [
      "Total sum of expired count: 988\n"
     ]
    }
   ],
   "source": [
    "print(f\"Total sum of expired count: {count_credit_card_expired(ecommerce_purchases_df[CREDIT_CARD_DATE_COLUMN], YEAR_OF_EXPIRY)}\")"
   ]
  },
  {
   "attachments": {},
   "cell_type": "markdown",
   "metadata": {},
   "source": [
    "## 18. What are the top 5 most popular email providers (e.g. Gmail.com, yahoo.com, etc...)"
   ]
  },
  {
   "attachments": {},
   "cell_type": "markdown",
   "metadata": {},
   "source": [
    "### a. Create either a user defined function or use your own any other way for getting the result"
   ]
  },
  {
   "cell_type": "code",
   "execution_count": 71,
   "metadata": {},
   "outputs": [],
   "source": [
    "def top_values_from_df(df, numbers_to_rank, column_to_compare):\n",
    "    return df.groupby([column_to_compare]).size().sort_values(ascending=False).head(numbers_to_rank)"
   ]
  },
  {
   "cell_type": "code",
   "execution_count": 72,
   "metadata": {},
   "outputs": [],
   "source": [
    "def top_values_from_series(series, numbers_to_rank):\n",
    "    return series.value_counts().head(numbers_to_rank)"
   ]
  },
  {
   "cell_type": "code",
   "execution_count": 73,
   "metadata": {},
   "outputs": [],
   "source": [
    "ecommerce_purchases_email_provider = ecommerce_purchases_df.copy()\n",
    "ecommerce_purchases_email_provider[EMAIL_COLUMN] = ecommerce_purchases_df[EMAIL_COLUMN].str.split('@').str[1]"
   ]
  },
  {
   "cell_type": "code",
   "execution_count": 74,
   "metadata": {},
   "outputs": [
    {
     "data": {
      "text/html": [
       "<div>\n",
       "<style scoped>\n",
       "    .dataframe tbody tr th:only-of-type {\n",
       "        vertical-align: middle;\n",
       "    }\n",
       "\n",
       "    .dataframe tbody tr th {\n",
       "        vertical-align: top;\n",
       "    }\n",
       "\n",
       "    .dataframe thead th {\n",
       "        text-align: right;\n",
       "    }\n",
       "</style>\n",
       "<table border=\"1\" class=\"dataframe\">\n",
       "  <thead>\n",
       "    <tr style=\"text-align: right;\">\n",
       "      <th></th>\n",
       "      <th>count</th>\n",
       "    </tr>\n",
       "    <tr>\n",
       "      <th>email</th>\n",
       "      <th></th>\n",
       "    </tr>\n",
       "  </thead>\n",
       "  <tbody>\n",
       "    <tr>\n",
       "      <th>hotmail.com</th>\n",
       "      <td>1638</td>\n",
       "    </tr>\n",
       "    <tr>\n",
       "      <th>yahoo.com</th>\n",
       "      <td>1616</td>\n",
       "    </tr>\n",
       "    <tr>\n",
       "      <th>gmail.com</th>\n",
       "      <td>1605</td>\n",
       "    </tr>\n",
       "    <tr>\n",
       "      <th>smith.com</th>\n",
       "      <td>42</td>\n",
       "    </tr>\n",
       "    <tr>\n",
       "      <th>williams.com</th>\n",
       "      <td>37</td>\n",
       "    </tr>\n",
       "  </tbody>\n",
       "</table>\n",
       "</div>"
      ],
      "text/plain": [
       "              count\n",
       "email              \n",
       "hotmail.com    1638\n",
       "yahoo.com      1616\n",
       "gmail.com      1605\n",
       "smith.com        42\n",
       "williams.com     37"
      ]
     },
     "execution_count": 74,
     "metadata": {},
     "output_type": "execute_result"
    }
   ],
   "source": [
    "top_values_from_df(ecommerce_purchases_email_provider, 5, EMAIL_COLUMN).to_frame(name='count')"
   ]
  },
  {
   "cell_type": "code",
   "execution_count": 75,
   "metadata": {},
   "outputs": [
    {
     "data": {
      "text/html": [
       "<div>\n",
       "<style scoped>\n",
       "    .dataframe tbody tr th:only-of-type {\n",
       "        vertical-align: middle;\n",
       "    }\n",
       "\n",
       "    .dataframe tbody tr th {\n",
       "        vertical-align: top;\n",
       "    }\n",
       "\n",
       "    .dataframe thead th {\n",
       "        text-align: right;\n",
       "    }\n",
       "</style>\n",
       "<table border=\"1\" class=\"dataframe\">\n",
       "  <thead>\n",
       "    <tr style=\"text-align: right;\">\n",
       "      <th></th>\n",
       "      <th>count</th>\n",
       "    </tr>\n",
       "    <tr>\n",
       "      <th>email</th>\n",
       "      <th></th>\n",
       "    </tr>\n",
       "  </thead>\n",
       "  <tbody>\n",
       "    <tr>\n",
       "      <th>hotmail.com</th>\n",
       "      <td>1638</td>\n",
       "    </tr>\n",
       "    <tr>\n",
       "      <th>yahoo.com</th>\n",
       "      <td>1616</td>\n",
       "    </tr>\n",
       "    <tr>\n",
       "      <th>gmail.com</th>\n",
       "      <td>1605</td>\n",
       "    </tr>\n",
       "    <tr>\n",
       "      <th>smith.com</th>\n",
       "      <td>42</td>\n",
       "    </tr>\n",
       "    <tr>\n",
       "      <th>williams.com</th>\n",
       "      <td>37</td>\n",
       "    </tr>\n",
       "  </tbody>\n",
       "</table>\n",
       "</div>"
      ],
      "text/plain": [
       "              count\n",
       "email              \n",
       "hotmail.com    1638\n",
       "yahoo.com      1616\n",
       "gmail.com      1605\n",
       "smith.com        42\n",
       "williams.com     37"
      ]
     },
     "execution_count": 75,
     "metadata": {},
     "output_type": "execute_result"
    }
   ],
   "source": [
    "top_values_from_series(ecommerce_purchases_email_provider[EMAIL_COLUMN], 5).to_frame()"
   ]
  },
  {
   "attachments": {},
   "cell_type": "markdown",
   "metadata": {},
   "source": [
    "## Bonus: Export dataframe to desired location with no index column"
   ]
  },
  {
   "attachments": {},
   "cell_type": "markdown",
   "metadata": {},
   "source": [
    "### Data Visualization/Analysis Additions Before Exporting"
   ]
  },
  {
   "cell_type": "code",
   "execution_count": 76,
   "metadata": {},
   "outputs": [],
   "source": [
    "ecommerce_purchases_df['email_provider'] = ecommerce_purchases_df[EMAIL_COLUMN].str.split('@').str[1]"
   ]
  },
  {
   "cell_type": "code",
   "execution_count": 77,
   "metadata": {},
   "outputs": [],
   "source": [
    "language_dict = {\n",
    "    'de': \"German\", 'el': \"Greek\", \"en\": \"English\", \"es\": \"Spanish\",\n",
    "    \"fr\": \"French\", \"it\": \"Italian\", \"pt\": \"Portuguese\", \n",
    "    \"ru\": \"Russian\", \"zh\": \"Chinese\"\n",
    "}"
   ]
  },
  {
   "cell_type": "code",
   "execution_count": 78,
   "metadata": {},
   "outputs": [],
   "source": [
    "ecommerce_purchases_df[LANGUAGE_COLUMN] = ecommerce_purchases_df[LANGUAGE_COLUMN].replace(language_dict)"
   ]
  },
  {
   "cell_type": "code",
   "execution_count": 79,
   "metadata": {},
   "outputs": [],
   "source": [
    "ecommerce_purchases_df['state'] = ecommerce_purchases_df['address'].str.split().str[-2]"
   ]
  },
  {
   "cell_type": "code",
   "execution_count": 80,
   "metadata": {},
   "outputs": [],
   "source": [
    "states_list = [ 'AK', 'AL', 'AR', 'AZ', 'CA', 'CO', 'CT', 'DC', 'DE', 'FL', 'GA',\n",
    "           'HI', 'IA', 'ID', 'IL', 'IN', 'KS', 'KY', 'LA', 'MA', 'MD', 'ME',\n",
    "           'MI', 'MN', 'MO', 'MS', 'MT', 'NC', 'ND', 'NE', 'NH', 'NJ', 'NM',\n",
    "           'NV', 'NY', 'OH', 'OK', 'OR', 'PA', 'RI', 'SC', 'SD', 'TN', 'TX',\n",
    "           'UT', 'VA', 'VT', 'WA', 'WI', 'WV', 'WY']"
   ]
  },
  {
   "cell_type": "code",
   "execution_count": 81,
   "metadata": {},
   "outputs": [],
   "source": [
    "states_dictionary = { \n",
    "    'AK': 'Alaska', 'AL': 'Alabama', 'AR': 'Arkansas',\n",
    "    'AZ': 'Arizona', 'CA': 'California', 'CO': 'Colorado', 'CT': 'Connecticut',\n",
    "    'DC': 'District of Columbia', 'DE': 'Delaware', 'FL': 'Florida', 'GA': 'Georgia',\n",
    "    'HI': 'Hawaii', 'IA': 'Iowa', 'ID': 'Idaho', 'IL': 'Illinois', 'IN': 'Indiana',\n",
    "    'KS': 'Kansas', 'KY': 'Kentucky', 'LA': 'Louisiana', 'MA': 'Massachusetts',\n",
    "    'MD': 'Maryland', 'ME': 'Maine', 'MI': 'Michigan', 'MN': 'Minnesota',\n",
    "    'MO': 'Missouri', 'MS': 'Mississippi', 'MT': 'Montana', 'NC': 'North Carolina',\n",
    "    'ND': 'North Dakota', 'NE': 'Nebraska', 'NH': 'New Hampshire', 'NJ': 'New Jersey',\n",
    "    'NM': 'New Mexico', 'NV': 'Nevada', 'NY': 'New York', 'OH': 'Ohio',\n",
    "    'OK': 'Oklahoma', 'OR': 'Oregon', 'PA': 'Pennsylvania', 'RI': 'Rhode Island',\n",
    "    'SC': 'South Carolina', 'SD': 'South Dakota', 'TN': 'Tennessee', 'TX': 'Texas',\n",
    "    'UT': 'Utah', 'VA': 'Virginia', 'VT': 'Vermont', 'WA': 'Washington',\n",
    "    'WI': 'Wisconsin', 'WV': 'West Virginia', 'WY': 'Wyoming'\n",
    "}"
   ]
  },
  {
   "cell_type": "code",
   "execution_count": 82,
   "metadata": {},
   "outputs": [],
   "source": [
    "american_territory_replacement = {'AS': 'American Samoa', 'VI': \"Virgin Islands\", 'GU': \"Guam\", \"PR\": \"Puerto Rico\",\n",
    "    'MH': \"Marshall Islands\", 'PW': 'Palau', 'AE': \"Armed Forces Europe\", \"AA\": \"Armed Forces America\", \"AP\": \"Armed Forces Pacific\",\n",
    "    \"FM\": \"Micronesia\", \"MP\": \"Northern Mariana Islands\"\n",
    "}"
   ]
  },
  {
   "cell_type": "code",
   "execution_count": 83,
   "metadata": {},
   "outputs": [],
   "source": [
    "american_territory_latitude_replacement = {\n",
    "    'MH': \"7.116667\", 'PW': '7.5', 'AE': \"52.52\", \"AA\": \"38.895\", \"AP\": \"37.56\",\n",
    "    \"FM\": \"6.916\", \"MP\": \"15.19\"\n",
    "}"
   ]
  },
  {
   "cell_type": "code",
   "execution_count": 84,
   "metadata": {},
   "outputs": [],
   "source": [
    "american_territory_longitude_replacement = {\n",
    "    'MH': \"171.066667\", 'PW': '134.616667', 'AE': \"13.405\", \"AA\": \"-77.036\", \"AP\": \"126.99\",\n",
    "    \"FM\": \"158.183\", \"MP\": \"145.74\"\n",
    "}"
   ]
  },
  {
   "cell_type": "code",
   "execution_count": 85,
   "metadata": {},
   "outputs": [],
   "source": [
    "ecommerce_purchases_df['territory'] = ecommerce_purchases_df['state'].where(~ecommerce_purchases_df['state'].isin(states_list), None)"
   ]
  },
  {
   "cell_type": "code",
   "execution_count": 86,
   "metadata": {},
   "outputs": [],
   "source": [
    "ecommerce_purchases_df['state'] = ecommerce_purchases_df['state'].where(ecommerce_purchases_df['state'].isin(states_list), None)"
   ]
  },
  {
   "cell_type": "code",
   "execution_count": 87,
   "metadata": {},
   "outputs": [],
   "source": [
    "ecommerce_purchases_df['state'] = ecommerce_purchases_df['state'].replace(states_dictionary)\n",
    "ecommerce_purchases_df['territory_lat'] = ecommerce_purchases_df['territory'].replace(american_territory_latitude_replacement)\n",
    "ecommerce_purchases_df['territory_long'] = ecommerce_purchases_df['territory'].replace(american_territory_longitude_replacement)\n",
    "ecommerce_purchases_df['territory'] = ecommerce_purchases_df['territory'].replace(american_territory_replacement)"
   ]
  },
  {
   "cell_type": "code",
   "execution_count": 88,
   "metadata": {},
   "outputs": [],
   "source": [
    "ecommerce_purchases_df.columns = ecommerce_purchases_df.columns.str.replace('_', ' ').str.title()"
   ]
  },
  {
   "attachments": {},
   "cell_type": "markdown",
   "metadata": {},
   "source": [
    "### Export Cleaned Dataframe to File"
   ]
  },
  {
   "cell_type": "code",
   "execution_count": 89,
   "metadata": {},
   "outputs": [],
   "source": [
    "ecommerce_purchases_df.to_csv('ecommerce_purchases_clean.csv', index=False)"
   ]
  }
 ],
 "metadata": {
  "kernelspec": {
   "display_name": "base",
   "language": "python",
   "name": "python3"
  },
  "language_info": {
   "codemirror_mode": {
    "name": "ipython",
    "version": 3
   },
   "file_extension": ".py",
   "mimetype": "text/x-python",
   "name": "python",
   "nbconvert_exporter": "python",
   "pygments_lexer": "ipython3",
   "version": "3.11.3"
  },
  "orig_nbformat": 4
 },
 "nbformat": 4,
 "nbformat_minor": 2
}
