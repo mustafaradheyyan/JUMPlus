{
 "cells": [
  {
   "attachments": {},
   "cell_type": "markdown",
   "metadata": {},
   "source": [
    "#### Author: Mustafa Radheyyan\n",
    "#### Date: 05/08/2023\n",
    "#### Assignment: Cognixia JUMPlus Python Project 6\n",
    "~~~~~~~~~~~~~~~~~~~~~~~~~~~~~~~~~~~~~~~~~~~~~~~~~"
   ]
  },
  {
   "attachments": {},
   "cell_type": "markdown",
   "metadata": {},
   "source": [
    "## 1. Import all required libraries"
   ]
  },
  {
   "cell_type": "code",
   "execution_count": 559,
   "metadata": {},
   "outputs": [],
   "source": [
    "import pandas as pd\n",
    "import seaborn as sns\n",
    "import matplotlib.pyplot as plt"
   ]
  },
  {
   "attachments": {},
   "cell_type": "markdown",
   "metadata": {},
   "source": [
    "Path of data source"
   ]
  },
  {
   "cell_type": "code",
   "execution_count": 560,
   "metadata": {},
   "outputs": [],
   "source": [
    "AMAZON_CSV_PATH = 'amazon.csv'"
   ]
  },
  {
   "attachments": {},
   "cell_type": "markdown",
   "metadata": {},
   "source": [
    "Context Manager helper functions for displaying DataFrames differently than the default configuration settings"
   ]
  },
  {
   "cell_type": "code",
   "execution_count": 561,
   "metadata": {},
   "outputs": [],
   "source": [
    "def force_show_all_columns(df):\n",
    "    with pd.option_context('display.max_columns', None, 'display.width', None):\n",
    "        display(df)"
   ]
  },
  {
   "cell_type": "code",
   "execution_count": 562,
   "metadata": {},
   "outputs": [],
   "source": [
    "def force_show_all_rows(df):\n",
    "    with pd.option_context('display.max_rows', None, 'display.width', None):\n",
    "        display(df)"
   ]
  },
  {
   "cell_type": "code",
   "execution_count": 563,
   "metadata": {},
   "outputs": [],
   "source": [
    "def use_inf_as_na(df, df_command):\n",
    "    with pd.option_context('mode.use_inf_as_na', True):\n",
    "        return df_command(df)"
   ]
  },
  {
   "attachments": {},
   "cell_type": "markdown",
   "metadata": {},
   "source": [
    "## 2. Read the csv file and if you experience ‘unicodedecodeerror’ then give second parameter in read_csv method as ‘encoding=iso-8859-1’"
   ]
  },
  {
   "attachments": {},
   "cell_type": "markdown",
   "metadata": {},
   "source": [
    "There are no specific index columns in this dataset."
   ]
  },
  {
   "cell_type": "code",
   "execution_count": 564,
   "metadata": {},
   "outputs": [],
   "source": [
    "amazon_df = pd.read_csv(AMAZON_CSV_PATH, encoding = \"ISO-8859-1\")"
   ]
  },
  {
   "cell_type": "code",
   "execution_count": 565,
   "metadata": {},
   "outputs": [
    {
     "name": "stdout",
     "output_type": "stream",
     "text": [
      "20 out of 6454\n",
      "23 out of 6454\n",
      "12 out of 6454\n",
      "1479 out of 6454\n",
      "20 out of 6454\n"
     ]
    }
   ],
   "source": [
    "for column in amazon_df.columns:\n",
    "    print(len(amazon_df[column].unique()), 'out of', len(amazon_df))"
   ]
  },
  {
   "cell_type": "code",
   "execution_count": 566,
   "metadata": {},
   "outputs": [
    {
     "data": {
      "text/html": [
       "<div>\n",
       "<style scoped>\n",
       "    .dataframe tbody tr th:only-of-type {\n",
       "        vertical-align: middle;\n",
       "    }\n",
       "\n",
       "    .dataframe tbody tr th {\n",
       "        vertical-align: top;\n",
       "    }\n",
       "\n",
       "    .dataframe thead th {\n",
       "        text-align: right;\n",
       "    }\n",
       "</style>\n",
       "<table border=\"1\" class=\"dataframe\">\n",
       "  <thead>\n",
       "    <tr style=\"text-align: right;\">\n",
       "      <th></th>\n",
       "      <th>year</th>\n",
       "      <th>state</th>\n",
       "      <th>month</th>\n",
       "      <th>number</th>\n",
       "      <th>date</th>\n",
       "    </tr>\n",
       "  </thead>\n",
       "  <tbody>\n",
       "    <tr>\n",
       "      <th>0</th>\n",
       "      <td>1998</td>\n",
       "      <td>Acre</td>\n",
       "      <td>Janeiro</td>\n",
       "      <td>0.0</td>\n",
       "      <td>1998-01-01</td>\n",
       "    </tr>\n",
       "    <tr>\n",
       "      <th>1</th>\n",
       "      <td>1999</td>\n",
       "      <td>Acre</td>\n",
       "      <td>Janeiro</td>\n",
       "      <td>0.0</td>\n",
       "      <td>1999-01-01</td>\n",
       "    </tr>\n",
       "    <tr>\n",
       "      <th>2</th>\n",
       "      <td>2000</td>\n",
       "      <td>Acre</td>\n",
       "      <td>Janeiro</td>\n",
       "      <td>0.0</td>\n",
       "      <td>2000-01-01</td>\n",
       "    </tr>\n",
       "    <tr>\n",
       "      <th>3</th>\n",
       "      <td>2001</td>\n",
       "      <td>Acre</td>\n",
       "      <td>Janeiro</td>\n",
       "      <td>0.0</td>\n",
       "      <td>2001-01-01</td>\n",
       "    </tr>\n",
       "    <tr>\n",
       "      <th>4</th>\n",
       "      <td>2002</td>\n",
       "      <td>Acre</td>\n",
       "      <td>Janeiro</td>\n",
       "      <td>0.0</td>\n",
       "      <td>2002-01-01</td>\n",
       "    </tr>\n",
       "    <tr>\n",
       "      <th>...</th>\n",
       "      <td>...</td>\n",
       "      <td>...</td>\n",
       "      <td>...</td>\n",
       "      <td>...</td>\n",
       "      <td>...</td>\n",
       "    </tr>\n",
       "    <tr>\n",
       "      <th>6449</th>\n",
       "      <td>2012</td>\n",
       "      <td>Tocantins</td>\n",
       "      <td>Dezembro</td>\n",
       "      <td>128.0</td>\n",
       "      <td>2012-01-01</td>\n",
       "    </tr>\n",
       "    <tr>\n",
       "      <th>6450</th>\n",
       "      <td>2013</td>\n",
       "      <td>Tocantins</td>\n",
       "      <td>Dezembro</td>\n",
       "      <td>85.0</td>\n",
       "      <td>2013-01-01</td>\n",
       "    </tr>\n",
       "    <tr>\n",
       "      <th>6451</th>\n",
       "      <td>2014</td>\n",
       "      <td>Tocantins</td>\n",
       "      <td>Dezembro</td>\n",
       "      <td>223.0</td>\n",
       "      <td>2014-01-01</td>\n",
       "    </tr>\n",
       "    <tr>\n",
       "      <th>6452</th>\n",
       "      <td>2015</td>\n",
       "      <td>Tocantins</td>\n",
       "      <td>Dezembro</td>\n",
       "      <td>373.0</td>\n",
       "      <td>2015-01-01</td>\n",
       "    </tr>\n",
       "    <tr>\n",
       "      <th>6453</th>\n",
       "      <td>2016</td>\n",
       "      <td>Tocantins</td>\n",
       "      <td>Dezembro</td>\n",
       "      <td>119.0</td>\n",
       "      <td>2016-01-01</td>\n",
       "    </tr>\n",
       "  </tbody>\n",
       "</table>\n",
       "<p>6454 rows × 5 columns</p>\n",
       "</div>"
      ],
      "text/plain": [
       "      year      state     month  number        date\n",
       "0     1998       Acre   Janeiro     0.0  1998-01-01\n",
       "1     1999       Acre   Janeiro     0.0  1999-01-01\n",
       "2     2000       Acre   Janeiro     0.0  2000-01-01\n",
       "3     2001       Acre   Janeiro     0.0  2001-01-01\n",
       "4     2002       Acre   Janeiro     0.0  2002-01-01\n",
       "...    ...        ...       ...     ...         ...\n",
       "6449  2012  Tocantins  Dezembro   128.0  2012-01-01\n",
       "6450  2013  Tocantins  Dezembro    85.0  2013-01-01\n",
       "6451  2014  Tocantins  Dezembro   223.0  2014-01-01\n",
       "6452  2015  Tocantins  Dezembro   373.0  2015-01-01\n",
       "6453  2016  Tocantins  Dezembro   119.0  2016-01-01\n",
       "\n",
       "[6454 rows x 5 columns]"
      ]
     },
     "execution_count": 566,
     "metadata": {},
     "output_type": "execute_result"
    }
   ],
   "source": [
    "amazon_df"
   ]
  },
  {
   "attachments": {},
   "cell_type": "markdown",
   "metadata": {},
   "source": [
    "## Data Cleaning"
   ]
  },
  {
   "attachments": {},
   "cell_type": "markdown",
   "metadata": {},
   "source": [
    "##### Convert DF Column Name List"
   ]
  },
  {
   "attachments": {},
   "cell_type": "markdown",
   "metadata": {},
   "source": [
    "Made DataFrame's columns snake case in order to be more computing friendly<br></br>\n",
    "Made a list of the dataframe's columns to enable easier searching of column names"
   ]
  },
  {
   "cell_type": "code",
   "execution_count": 567,
   "metadata": {},
   "outputs": [
    {
     "data": {
      "text/plain": [
       "['year', 'state', 'month', 'number', 'date']"
      ]
     },
     "execution_count": 567,
     "metadata": {},
     "output_type": "execute_result"
    }
   ],
   "source": [
    "amazon_df.columns = amazon_df.columns.str.replace(' ', '_').str.lower()\n",
    "amazon_columns = list(amazon_df.columns)\n",
    "amazon_columns"
   ]
  },
  {
   "attachments": {},
   "cell_type": "markdown",
   "metadata": {},
   "source": [
    "#### Data Cleaning"
   ]
  },
  {
   "attachments": {},
   "cell_type": "markdown",
   "metadata": {},
   "source": [
    "Validating if the 'year' column is identical to the year in the 'date' column.\n",
    "\n",
    "The results have validated that the 'year' column is identical to the year in the 'date' column."
   ]
  },
  {
   "cell_type": "code",
   "execution_count": 568,
   "metadata": {},
   "outputs": [
    {
     "data": {
      "text/plain": [
       "(6454,\n",
       "       year      state     month  number        date\n",
       " 0     1998       Acre   Janeiro     0.0  1998-01-01\n",
       " 1     1999       Acre   Janeiro     0.0  1999-01-01\n",
       " 2     2000       Acre   Janeiro     0.0  2000-01-01\n",
       " 3     2001       Acre   Janeiro     0.0  2001-01-01\n",
       " 4     2002       Acre   Janeiro     0.0  2002-01-01\n",
       " ...    ...        ...       ...     ...         ...\n",
       " 6449  2012  Tocantins  Dezembro   128.0  2012-01-01\n",
       " 6450  2013  Tocantins  Dezembro    85.0  2013-01-01\n",
       " 6451  2014  Tocantins  Dezembro   223.0  2014-01-01\n",
       " 6452  2015  Tocantins  Dezembro   373.0  2015-01-01\n",
       " 6453  2016  Tocantins  Dezembro   119.0  2016-01-01\n",
       " \n",
       " [6454 rows x 5 columns])"
      ]
     },
     "execution_count": 568,
     "metadata": {},
     "output_type": "execute_result"
    }
   ],
   "source": [
    "len(amazon_df), amazon_df.loc[amazon_df['year'] == amazon_df['date'].str[:4].astype(int)]"
   ]
  },
  {
   "cell_type": "code",
   "execution_count": 569,
   "metadata": {},
   "outputs": [
    {
     "data": {
      "text/plain": [
       "array(['Janeiro', 'Fevereiro', 'Marï¿½o', 'Abril', 'Maio', 'Junho',\n",
       "       'Julho', 'Agosto', 'Setembro', 'Outubro', 'Novembro', 'Dezembro'],\n",
       "      dtype=object)"
      ]
     },
     "execution_count": 569,
     "metadata": {},
     "output_type": "execute_result"
    }
   ],
   "source": [
    "amazon_df['month'].unique()"
   ]
  },
  {
   "attachments": {},
   "cell_type": "markdown",
   "metadata": {},
   "source": [
    "Fixing occurrences of misspelled or misplaced Março (March) month name"
   ]
  },
  {
   "cell_type": "code",
   "execution_count": 570,
   "metadata": {},
   "outputs": [],
   "source": [
    "unicode_character_replacement_ç = {'Mar\\uFFFDo': \"Março\",\n",
    "                                 'Marï¿½o': \"Março\"}"
   ]
  },
  {
   "cell_type": "code",
   "execution_count": 571,
   "metadata": {},
   "outputs": [],
   "source": [
    "amazon_df['month'] = amazon_df['month'].replace(unicode_character_replacement_ç, regex=True)"
   ]
  },
  {
   "cell_type": "code",
   "execution_count": 572,
   "metadata": {},
   "outputs": [
    {
     "data": {
      "text/plain": [
       "array(['Janeiro', 'Fevereiro', 'Março', 'Abril', 'Maio', 'Junho', 'Julho',\n",
       "       'Agosto', 'Setembro', 'Outubro', 'Novembro', 'Dezembro'],\n",
       "      dtype=object)"
      ]
     },
     "execution_count": 572,
     "metadata": {},
     "output_type": "execute_result"
    }
   ],
   "source": [
    "amazon_df['month'].unique()"
   ]
  },
  {
   "cell_type": "code",
   "execution_count": 573,
   "metadata": {},
   "outputs": [],
   "source": [
    "portuguese_month_names_dict = {\"01\": \"janeiro\",\n",
    "                               \"02\": \"fevereiro\",\n",
    "                               \"03\": \"março\",\n",
    "                               \"04\": \"abril\",\n",
    "                               \"05\": \"maio\",\n",
    "                               \"06\": \"junho\",\n",
    "                               \"07\": \"julho\",\n",
    "                               \"08\": \"agosto\",\n",
    "                               \"09\": \"setembro\",\n",
    "                               \"10\": \"outubro\",\n",
    "                               \"11\": \"novembro\",\n",
    "                               \"12\": \"dezembro\" \n",
    "}"
   ]
  },
  {
   "cell_type": "code",
   "execution_count": 574,
   "metadata": {},
   "outputs": [],
   "source": [
    "portuguese_month_number_dict = {\"janeiro\": \"01\",\n",
    "                               \"fevereiro\": \"02\",\n",
    "                               \"março\": \"03\",\n",
    "                               \"abril\": \"04\",\n",
    "                               \"maio\": \"05\",\n",
    "                               \"junho\": \"06\",\n",
    "                               \"julho\": \"07\",\n",
    "                               \"agosto\": \"08\",\n",
    "                               \"setembro\": \"09\",\n",
    "                               \"outubro\": \"10\",\n",
    "                               \"novembro\": \"11\",\n",
    "                               \"dezembro\": \"12\"\n",
    "}"
   ]
  },
  {
   "cell_type": "code",
   "execution_count": 575,
   "metadata": {},
   "outputs": [
    {
     "data": {
      "text/plain": [
       "array(['01'], dtype=object)"
      ]
     },
     "execution_count": 575,
     "metadata": {},
     "output_type": "execute_result"
    }
   ],
   "source": [
    "amazon_df['date'].str[5:7].unique()"
   ]
  },
  {
   "cell_type": "code",
   "execution_count": 576,
   "metadata": {},
   "outputs": [
    {
     "data": {
      "text/plain": [
       "array(['01'], dtype=object)"
      ]
     },
     "execution_count": 576,
     "metadata": {},
     "output_type": "execute_result"
    }
   ],
   "source": [
    "amazon_df['date'].str[-2:].unique()"
   ]
  },
  {
   "cell_type": "code",
   "execution_count": 577,
   "metadata": {},
   "outputs": [
    {
     "data": {
      "text/plain": [
       "array(['-01-01'], dtype=object)"
      ]
     },
     "execution_count": 577,
     "metadata": {},
     "output_type": "execute_result"
    }
   ],
   "source": [
    "amazon_df['date'].str[4:].unique()"
   ]
  },
  {
   "attachments": {},
   "cell_type": "markdown",
   "metadata": {},
   "source": [
    "Comparing month of \"date\" column to month as written out in the \"month\" column"
   ]
  },
  {
   "cell_type": "code",
   "execution_count": 578,
   "metadata": {},
   "outputs": [
    {
     "data": {
      "text/plain": [
       "(6454,\n",
       "       year      state    month  number        date\n",
       " 0     1998       Acre  Janeiro     0.0  1998-01-01\n",
       " 1     1999       Acre  Janeiro     0.0  1999-01-01\n",
       " 2     2000       Acre  Janeiro     0.0  2000-01-01\n",
       " 3     2001       Acre  Janeiro     0.0  2001-01-01\n",
       " 4     2002       Acre  Janeiro     0.0  2002-01-01\n",
       " ...    ...        ...      ...     ...         ...\n",
       " 6230  2013  Tocantins  Janeiro    50.0  2013-01-01\n",
       " 6231  2014  Tocantins  Janeiro    89.0  2014-01-01\n",
       " 6232  2015  Tocantins  Janeiro   186.0  2015-01-01\n",
       " 6233  2016  Tocantins  Janeiro    42.0  2016-01-01\n",
       " 6234  2017  Tocantins  Janeiro    61.0  2017-01-01\n",
       " \n",
       " [541 rows x 5 columns])"
      ]
     },
     "execution_count": 578,
     "metadata": {},
     "output_type": "execute_result"
    }
   ],
   "source": [
    "len(amazon_df), (\n",
    "    amazon_df\n",
    "    .loc[\n",
    "        amazon_df['month']\n",
    "        .str\n",
    "        .lower() \n",
    "        == \n",
    "        amazon_df['date']\n",
    "        .str[5:7]\n",
    "        .replace(portuguese_month_names_dict)\n",
    "        .str\n",
    "        .lower()\n",
    "        ]\n",
    "    )"
   ]
  },
  {
   "cell_type": "code",
   "execution_count": 579,
   "metadata": {},
   "outputs": [],
   "source": [
    "amazon_df['date'] = amazon_df['date'].str.removesuffix('-01')"
   ]
  },
  {
   "cell_type": "code",
   "execution_count": 580,
   "metadata": {},
   "outputs": [],
   "source": [
    "amazon_df = amazon_df.rename(columns={'date': 'date-yyyy-mm'})"
   ]
  },
  {
   "cell_type": "code",
   "execution_count": 581,
   "metadata": {},
   "outputs": [
    {
     "data": {
      "text/html": [
       "<div>\n",
       "<style scoped>\n",
       "    .dataframe tbody tr th:only-of-type {\n",
       "        vertical-align: middle;\n",
       "    }\n",
       "\n",
       "    .dataframe tbody tr th {\n",
       "        vertical-align: top;\n",
       "    }\n",
       "\n",
       "    .dataframe thead th {\n",
       "        text-align: right;\n",
       "    }\n",
       "</style>\n",
       "<table border=\"1\" class=\"dataframe\">\n",
       "  <thead>\n",
       "    <tr style=\"text-align: right;\">\n",
       "      <th></th>\n",
       "      <th>year</th>\n",
       "      <th>state</th>\n",
       "      <th>month</th>\n",
       "      <th>number</th>\n",
       "      <th>date-yyyy-mm</th>\n",
       "    </tr>\n",
       "  </thead>\n",
       "  <tbody>\n",
       "    <tr>\n",
       "      <th>0</th>\n",
       "      <td>1998</td>\n",
       "      <td>Acre</td>\n",
       "      <td>Janeiro</td>\n",
       "      <td>0.0</td>\n",
       "      <td>1998-01</td>\n",
       "    </tr>\n",
       "    <tr>\n",
       "      <th>1</th>\n",
       "      <td>1999</td>\n",
       "      <td>Acre</td>\n",
       "      <td>Janeiro</td>\n",
       "      <td>0.0</td>\n",
       "      <td>1999-01</td>\n",
       "    </tr>\n",
       "    <tr>\n",
       "      <th>2</th>\n",
       "      <td>2000</td>\n",
       "      <td>Acre</td>\n",
       "      <td>Janeiro</td>\n",
       "      <td>0.0</td>\n",
       "      <td>2000-01</td>\n",
       "    </tr>\n",
       "    <tr>\n",
       "      <th>3</th>\n",
       "      <td>2001</td>\n",
       "      <td>Acre</td>\n",
       "      <td>Janeiro</td>\n",
       "      <td>0.0</td>\n",
       "      <td>2001-01</td>\n",
       "    </tr>\n",
       "    <tr>\n",
       "      <th>4</th>\n",
       "      <td>2002</td>\n",
       "      <td>Acre</td>\n",
       "      <td>Janeiro</td>\n",
       "      <td>0.0</td>\n",
       "      <td>2002-01</td>\n",
       "    </tr>\n",
       "    <tr>\n",
       "      <th>...</th>\n",
       "      <td>...</td>\n",
       "      <td>...</td>\n",
       "      <td>...</td>\n",
       "      <td>...</td>\n",
       "      <td>...</td>\n",
       "    </tr>\n",
       "    <tr>\n",
       "      <th>6449</th>\n",
       "      <td>2012</td>\n",
       "      <td>Tocantins</td>\n",
       "      <td>Dezembro</td>\n",
       "      <td>128.0</td>\n",
       "      <td>2012-01</td>\n",
       "    </tr>\n",
       "    <tr>\n",
       "      <th>6450</th>\n",
       "      <td>2013</td>\n",
       "      <td>Tocantins</td>\n",
       "      <td>Dezembro</td>\n",
       "      <td>85.0</td>\n",
       "      <td>2013-01</td>\n",
       "    </tr>\n",
       "    <tr>\n",
       "      <th>6451</th>\n",
       "      <td>2014</td>\n",
       "      <td>Tocantins</td>\n",
       "      <td>Dezembro</td>\n",
       "      <td>223.0</td>\n",
       "      <td>2014-01</td>\n",
       "    </tr>\n",
       "    <tr>\n",
       "      <th>6452</th>\n",
       "      <td>2015</td>\n",
       "      <td>Tocantins</td>\n",
       "      <td>Dezembro</td>\n",
       "      <td>373.0</td>\n",
       "      <td>2015-01</td>\n",
       "    </tr>\n",
       "    <tr>\n",
       "      <th>6453</th>\n",
       "      <td>2016</td>\n",
       "      <td>Tocantins</td>\n",
       "      <td>Dezembro</td>\n",
       "      <td>119.0</td>\n",
       "      <td>2016-01</td>\n",
       "    </tr>\n",
       "  </tbody>\n",
       "</table>\n",
       "<p>6454 rows × 5 columns</p>\n",
       "</div>"
      ],
      "text/plain": [
       "      year      state     month  number date-yyyy-mm\n",
       "0     1998       Acre   Janeiro     0.0      1998-01\n",
       "1     1999       Acre   Janeiro     0.0      1999-01\n",
       "2     2000       Acre   Janeiro     0.0      2000-01\n",
       "3     2001       Acre   Janeiro     0.0      2001-01\n",
       "4     2002       Acre   Janeiro     0.0      2002-01\n",
       "...    ...        ...       ...     ...          ...\n",
       "6449  2012  Tocantins  Dezembro   128.0      2012-01\n",
       "6450  2013  Tocantins  Dezembro    85.0      2013-01\n",
       "6451  2014  Tocantins  Dezembro   223.0      2014-01\n",
       "6452  2015  Tocantins  Dezembro   373.0      2015-01\n",
       "6453  2016  Tocantins  Dezembro   119.0      2016-01\n",
       "\n",
       "[6454 rows x 5 columns]"
      ]
     },
     "execution_count": 581,
     "metadata": {},
     "output_type": "execute_result"
    }
   ],
   "source": [
    "amazon_df"
   ]
  },
  {
   "attachments": {},
   "cell_type": "markdown",
   "metadata": {},
   "source": [
    "Comparing year of \"date\" column to year as the number in the \"year\" column"
   ]
  },
  {
   "cell_type": "code",
   "execution_count": 582,
   "metadata": {},
   "outputs": [
    {
     "data": {
      "text/plain": [
       "(6454,\n",
       "       year      state     month  number date-yyyy-mm\n",
       " 0     1998       Acre   Janeiro     0.0      1998-01\n",
       " 1     1999       Acre   Janeiro     0.0      1999-01\n",
       " 2     2000       Acre   Janeiro     0.0      2000-01\n",
       " 3     2001       Acre   Janeiro     0.0      2001-01\n",
       " 4     2002       Acre   Janeiro     0.0      2002-01\n",
       " ...    ...        ...       ...     ...          ...\n",
       " 6449  2012  Tocantins  Dezembro   128.0      2012-01\n",
       " 6450  2013  Tocantins  Dezembro    85.0      2013-01\n",
       " 6451  2014  Tocantins  Dezembro   223.0      2014-01\n",
       " 6452  2015  Tocantins  Dezembro   373.0      2015-01\n",
       " 6453  2016  Tocantins  Dezembro   119.0      2016-01\n",
       " \n",
       " [6454 rows x 5 columns])"
      ]
     },
     "execution_count": 582,
     "metadata": {},
     "output_type": "execute_result"
    }
   ],
   "source": [
    "len(amazon_df), amazon_df.loc[amazon_df['year'] == amazon_df['date-yyyy-mm'].str[:4].astype(int)]"
   ]
  },
  {
   "attachments": {},
   "cell_type": "markdown",
   "metadata": {},
   "source": [
    "Testing out the portuguese month to number dictionary replacement"
   ]
  },
  {
   "cell_type": "code",
   "execution_count": 583,
   "metadata": {},
   "outputs": [
    {
     "data": {
      "text/plain": [
       "0       01\n",
       "1       01\n",
       "2       01\n",
       "3       01\n",
       "4       01\n",
       "        ..\n",
       "6449    12\n",
       "6450    12\n",
       "6451    12\n",
       "6452    12\n",
       "6453    12\n",
       "Name: month, Length: 6454, dtype: object"
      ]
     },
     "execution_count": 583,
     "metadata": {},
     "output_type": "execute_result"
    }
   ],
   "source": [
    "amazon_df['month'].str.lower().replace(portuguese_month_number_dict)"
   ]
  },
  {
   "attachments": {},
   "cell_type": "markdown",
   "metadata": {},
   "source": [
    "Adding a date string column by appending the year and the 2-digit value of the month columns"
   ]
  },
  {
   "cell_type": "code",
   "execution_count": 584,
   "metadata": {},
   "outputs": [],
   "source": [
    "amazon_df['date-yyyy-mm'] = (amazon_df['year']\n",
    "                             .astype('str')\n",
    "                             + '-' \n",
    "                             + amazon_df['month']\n",
    "                             .str\n",
    "                             .lower()\n",
    "                             .replace(portuguese_month_number_dict)\n",
    ")"
   ]
  },
  {
   "cell_type": "code",
   "execution_count": 585,
   "metadata": {},
   "outputs": [
    {
     "data": {
      "text/plain": [
       "0       1998-01\n",
       "1       1999-01\n",
       "2       2000-01\n",
       "3       2001-01\n",
       "4       2002-01\n",
       "         ...   \n",
       "6449    2012-12\n",
       "6450    2013-12\n",
       "6451    2014-12\n",
       "6452    2015-12\n",
       "6453    2016-12\n",
       "Name: date-yyyy-mm, Length: 6454, dtype: object"
      ]
     },
     "execution_count": 585,
     "metadata": {},
     "output_type": "execute_result"
    }
   ],
   "source": [
    "amazon_df['date-yyyy-mm']"
   ]
  },
  {
   "attachments": {},
   "cell_type": "markdown",
   "metadata": {},
   "source": [
    "Comparing month of \"date\" column to month as written out in the \"month\" column"
   ]
  },
  {
   "cell_type": "code",
   "execution_count": 586,
   "metadata": {},
   "outputs": [
    {
     "data": {
      "text/plain": [
       "(6454,\n",
       "       year      state     month  number date-yyyy-mm\n",
       " 0     1998       Acre   Janeiro     0.0      1998-01\n",
       " 1     1999       Acre   Janeiro     0.0      1999-01\n",
       " 2     2000       Acre   Janeiro     0.0      2000-01\n",
       " 3     2001       Acre   Janeiro     0.0      2001-01\n",
       " 4     2002       Acre   Janeiro     0.0      2002-01\n",
       " ...    ...        ...       ...     ...          ...\n",
       " 6449  2012  Tocantins  Dezembro   128.0      2012-12\n",
       " 6450  2013  Tocantins  Dezembro    85.0      2013-12\n",
       " 6451  2014  Tocantins  Dezembro   223.0      2014-12\n",
       " 6452  2015  Tocantins  Dezembro   373.0      2015-12\n",
       " 6453  2016  Tocantins  Dezembro   119.0      2016-12\n",
       " \n",
       " [6454 rows x 5 columns])"
      ]
     },
     "execution_count": 586,
     "metadata": {},
     "output_type": "execute_result"
    }
   ],
   "source": [
    "len(amazon_df), (\n",
    "    amazon_df\n",
    "    .loc[\n",
    "        amazon_df['date-yyyy-mm']\n",
    "        .str[-2:] \n",
    "        == \n",
    "        amazon_df['month']\n",
    "        .str\n",
    "        .lower()\n",
    "        .replace(portuguese_month_number_dict)\n",
    "        ]\n",
    ")"
   ]
  },
  {
   "cell_type": "code",
   "execution_count": 587,
   "metadata": {},
   "outputs": [
    {
     "data": {
      "text/html": [
       "<div>\n",
       "<style scoped>\n",
       "    .dataframe tbody tr th:only-of-type {\n",
       "        vertical-align: middle;\n",
       "    }\n",
       "\n",
       "    .dataframe tbody tr th {\n",
       "        vertical-align: top;\n",
       "    }\n",
       "\n",
       "    .dataframe thead th {\n",
       "        text-align: right;\n",
       "    }\n",
       "</style>\n",
       "<table border=\"1\" class=\"dataframe\">\n",
       "  <thead>\n",
       "    <tr style=\"text-align: right;\">\n",
       "      <th></th>\n",
       "      <th>year</th>\n",
       "      <th>state</th>\n",
       "      <th>month</th>\n",
       "      <th>number</th>\n",
       "      <th>date-yyyy-mm</th>\n",
       "    </tr>\n",
       "  </thead>\n",
       "  <tbody>\n",
       "    <tr>\n",
       "      <th>0</th>\n",
       "      <td>1998</td>\n",
       "      <td>Acre</td>\n",
       "      <td>Janeiro</td>\n",
       "      <td>0.0</td>\n",
       "      <td>1998-01</td>\n",
       "    </tr>\n",
       "    <tr>\n",
       "      <th>1</th>\n",
       "      <td>1999</td>\n",
       "      <td>Acre</td>\n",
       "      <td>Janeiro</td>\n",
       "      <td>0.0</td>\n",
       "      <td>1999-01</td>\n",
       "    </tr>\n",
       "    <tr>\n",
       "      <th>2</th>\n",
       "      <td>2000</td>\n",
       "      <td>Acre</td>\n",
       "      <td>Janeiro</td>\n",
       "      <td>0.0</td>\n",
       "      <td>2000-01</td>\n",
       "    </tr>\n",
       "    <tr>\n",
       "      <th>3</th>\n",
       "      <td>2001</td>\n",
       "      <td>Acre</td>\n",
       "      <td>Janeiro</td>\n",
       "      <td>0.0</td>\n",
       "      <td>2001-01</td>\n",
       "    </tr>\n",
       "    <tr>\n",
       "      <th>4</th>\n",
       "      <td>2002</td>\n",
       "      <td>Acre</td>\n",
       "      <td>Janeiro</td>\n",
       "      <td>0.0</td>\n",
       "      <td>2002-01</td>\n",
       "    </tr>\n",
       "    <tr>\n",
       "      <th>...</th>\n",
       "      <td>...</td>\n",
       "      <td>...</td>\n",
       "      <td>...</td>\n",
       "      <td>...</td>\n",
       "      <td>...</td>\n",
       "    </tr>\n",
       "    <tr>\n",
       "      <th>6449</th>\n",
       "      <td>2012</td>\n",
       "      <td>Tocantins</td>\n",
       "      <td>Dezembro</td>\n",
       "      <td>128.0</td>\n",
       "      <td>2012-12</td>\n",
       "    </tr>\n",
       "    <tr>\n",
       "      <th>6450</th>\n",
       "      <td>2013</td>\n",
       "      <td>Tocantins</td>\n",
       "      <td>Dezembro</td>\n",
       "      <td>85.0</td>\n",
       "      <td>2013-12</td>\n",
       "    </tr>\n",
       "    <tr>\n",
       "      <th>6451</th>\n",
       "      <td>2014</td>\n",
       "      <td>Tocantins</td>\n",
       "      <td>Dezembro</td>\n",
       "      <td>223.0</td>\n",
       "      <td>2014-12</td>\n",
       "    </tr>\n",
       "    <tr>\n",
       "      <th>6452</th>\n",
       "      <td>2015</td>\n",
       "      <td>Tocantins</td>\n",
       "      <td>Dezembro</td>\n",
       "      <td>373.0</td>\n",
       "      <td>2015-12</td>\n",
       "    </tr>\n",
       "    <tr>\n",
       "      <th>6453</th>\n",
       "      <td>2016</td>\n",
       "      <td>Tocantins</td>\n",
       "      <td>Dezembro</td>\n",
       "      <td>119.0</td>\n",
       "      <td>2016-12</td>\n",
       "    </tr>\n",
       "  </tbody>\n",
       "</table>\n",
       "<p>6454 rows × 5 columns</p>\n",
       "</div>"
      ],
      "text/plain": [
       "      year      state     month  number date-yyyy-mm\n",
       "0     1998       Acre   Janeiro     0.0      1998-01\n",
       "1     1999       Acre   Janeiro     0.0      1999-01\n",
       "2     2000       Acre   Janeiro     0.0      2000-01\n",
       "3     2001       Acre   Janeiro     0.0      2001-01\n",
       "4     2002       Acre   Janeiro     0.0      2002-01\n",
       "...    ...        ...       ...     ...          ...\n",
       "6449  2012  Tocantins  Dezembro   128.0      2012-12\n",
       "6450  2013  Tocantins  Dezembro    85.0      2013-12\n",
       "6451  2014  Tocantins  Dezembro   223.0      2014-12\n",
       "6452  2015  Tocantins  Dezembro   373.0      2015-12\n",
       "6453  2016  Tocantins  Dezembro   119.0      2016-12\n",
       "\n",
       "[6454 rows x 5 columns]"
      ]
     },
     "execution_count": 587,
     "metadata": {},
     "output_type": "execute_result"
    }
   ],
   "source": [
    "amazon_df"
   ]
  },
  {
   "attachments": {},
   "cell_type": "markdown",
   "metadata": {},
   "source": [
    "Dropping redundant year and month columns"
   ]
  },
  {
   "cell_type": "code",
   "execution_count": 588,
   "metadata": {},
   "outputs": [],
   "source": [
    "amazon_df_clean = amazon_df.drop(columns=['year', 'month'])"
   ]
  },
  {
   "cell_type": "code",
   "execution_count": 589,
   "metadata": {},
   "outputs": [
    {
     "data": {
      "text/html": [
       "<div>\n",
       "<style scoped>\n",
       "    .dataframe tbody tr th:only-of-type {\n",
       "        vertical-align: middle;\n",
       "    }\n",
       "\n",
       "    .dataframe tbody tr th {\n",
       "        vertical-align: top;\n",
       "    }\n",
       "\n",
       "    .dataframe thead th {\n",
       "        text-align: right;\n",
       "    }\n",
       "</style>\n",
       "<table border=\"1\" class=\"dataframe\">\n",
       "  <thead>\n",
       "    <tr style=\"text-align: right;\">\n",
       "      <th></th>\n",
       "      <th>state</th>\n",
       "      <th>number</th>\n",
       "      <th>date-yyyy-mm</th>\n",
       "    </tr>\n",
       "  </thead>\n",
       "  <tbody>\n",
       "    <tr>\n",
       "      <th>0</th>\n",
       "      <td>Acre</td>\n",
       "      <td>0.0</td>\n",
       "      <td>1998-01</td>\n",
       "    </tr>\n",
       "    <tr>\n",
       "      <th>1</th>\n",
       "      <td>Acre</td>\n",
       "      <td>0.0</td>\n",
       "      <td>1999-01</td>\n",
       "    </tr>\n",
       "    <tr>\n",
       "      <th>2</th>\n",
       "      <td>Acre</td>\n",
       "      <td>0.0</td>\n",
       "      <td>2000-01</td>\n",
       "    </tr>\n",
       "    <tr>\n",
       "      <th>3</th>\n",
       "      <td>Acre</td>\n",
       "      <td>0.0</td>\n",
       "      <td>2001-01</td>\n",
       "    </tr>\n",
       "    <tr>\n",
       "      <th>4</th>\n",
       "      <td>Acre</td>\n",
       "      <td>0.0</td>\n",
       "      <td>2002-01</td>\n",
       "    </tr>\n",
       "    <tr>\n",
       "      <th>...</th>\n",
       "      <td>...</td>\n",
       "      <td>...</td>\n",
       "      <td>...</td>\n",
       "    </tr>\n",
       "    <tr>\n",
       "      <th>6449</th>\n",
       "      <td>Tocantins</td>\n",
       "      <td>128.0</td>\n",
       "      <td>2012-12</td>\n",
       "    </tr>\n",
       "    <tr>\n",
       "      <th>6450</th>\n",
       "      <td>Tocantins</td>\n",
       "      <td>85.0</td>\n",
       "      <td>2013-12</td>\n",
       "    </tr>\n",
       "    <tr>\n",
       "      <th>6451</th>\n",
       "      <td>Tocantins</td>\n",
       "      <td>223.0</td>\n",
       "      <td>2014-12</td>\n",
       "    </tr>\n",
       "    <tr>\n",
       "      <th>6452</th>\n",
       "      <td>Tocantins</td>\n",
       "      <td>373.0</td>\n",
       "      <td>2015-12</td>\n",
       "    </tr>\n",
       "    <tr>\n",
       "      <th>6453</th>\n",
       "      <td>Tocantins</td>\n",
       "      <td>119.0</td>\n",
       "      <td>2016-12</td>\n",
       "    </tr>\n",
       "  </tbody>\n",
       "</table>\n",
       "<p>6454 rows × 3 columns</p>\n",
       "</div>"
      ],
      "text/plain": [
       "          state  number date-yyyy-mm\n",
       "0          Acre     0.0      1998-01\n",
       "1          Acre     0.0      1999-01\n",
       "2          Acre     0.0      2000-01\n",
       "3          Acre     0.0      2001-01\n",
       "4          Acre     0.0      2002-01\n",
       "...         ...     ...          ...\n",
       "6449  Tocantins   128.0      2012-12\n",
       "6450  Tocantins    85.0      2013-12\n",
       "6451  Tocantins   223.0      2014-12\n",
       "6452  Tocantins   373.0      2015-12\n",
       "6453  Tocantins   119.0      2016-12\n",
       "\n",
       "[6454 rows x 3 columns]"
      ]
     },
     "execution_count": 589,
     "metadata": {},
     "output_type": "execute_result"
    }
   ],
   "source": [
    "amazon_df_clean"
   ]
  },
  {
   "cell_type": "code",
   "execution_count": 590,
   "metadata": {},
   "outputs": [
    {
     "data": {
      "text/plain": [
       "array(['Acre', 'Alagoas', 'Amapa', 'Amazonas', 'Bahia', 'Ceara',\n",
       "       'Distrito Federal', 'Espirito Santo', 'Goias', 'Maranhao',\n",
       "       'Mato Grosso', 'Minas Gerais', 'Parï¿½', 'Paraiba', 'Pernambuco',\n",
       "       'Piau', 'Rio', 'Rondonia', 'Roraima', 'Santa Catarina',\n",
       "       'Sao Paulo', 'Sergipe', 'Tocantins'], dtype=object)"
      ]
     },
     "execution_count": 590,
     "metadata": {},
     "output_type": "execute_result"
    }
   ],
   "source": [
    "amazon_df_clean['state'].unique()"
   ]
  },
  {
   "attachments": {},
   "cell_type": "markdown",
   "metadata": {},
   "source": [
    "Fixing occurrences of misspelled or misplaced Pará state name"
   ]
  },
  {
   "cell_type": "code",
   "execution_count": 591,
   "metadata": {},
   "outputs": [],
   "source": [
    "unicode_character_replacement_pará = {'Par\\uFFFD': 'Pará',\n",
    "                                 'Parï¿½': 'Pará'}"
   ]
  },
  {
   "cell_type": "code",
   "execution_count": 592,
   "metadata": {},
   "outputs": [],
   "source": [
    "amazon_df_clean['state'] = amazon_df_clean['state'].replace(unicode_character_replacement_pará, regex=True)"
   ]
  },
  {
   "cell_type": "code",
   "execution_count": 593,
   "metadata": {},
   "outputs": [
    {
     "name": "stdout",
     "output_type": "stream",
     "text": [
      "<class 'pandas.core.frame.DataFrame'>\n",
      "RangeIndex: 6454 entries, 0 to 6453\n",
      "Data columns (total 3 columns):\n",
      " #   Column        Non-Null Count  Dtype  \n",
      "---  ------        --------------  -----  \n",
      " 0   state         6454 non-null   object \n",
      " 1   number        6454 non-null   float64\n",
      " 2   date-yyyy-mm  6454 non-null   object \n",
      "dtypes: float64(1), object(2)\n",
      "memory usage: 151.4+ KB\n"
     ]
    }
   ],
   "source": [
    "amazon_df_clean.info()"
   ]
  },
  {
   "attachments": {},
   "cell_type": "markdown",
   "metadata": {},
   "source": [
    "Searching for rows in the 'number' column where the number is not an integer (has a decimal part different than .0)."
   ]
  },
  {
   "cell_type": "code",
   "execution_count": 594,
   "metadata": {},
   "outputs": [
    {
     "data": {
      "text/html": [
       "<div>\n",
       "<style scoped>\n",
       "    .dataframe tbody tr th:only-of-type {\n",
       "        vertical-align: middle;\n",
       "    }\n",
       "\n",
       "    .dataframe tbody tr th {\n",
       "        vertical-align: top;\n",
       "    }\n",
       "\n",
       "    .dataframe thead th {\n",
       "        text-align: right;\n",
       "    }\n",
       "</style>\n",
       "<table border=\"1\" class=\"dataframe\">\n",
       "  <thead>\n",
       "    <tr style=\"text-align: right;\">\n",
       "      <th></th>\n",
       "      <th>state</th>\n",
       "      <th>number</th>\n",
       "      <th>date-yyyy-mm</th>\n",
       "    </tr>\n",
       "  </thead>\n",
       "  <tbody>\n",
       "    <tr>\n",
       "      <th>145</th>\n",
       "      <td>Acre</td>\n",
       "      <td>1.976</td>\n",
       "      <td>2003-08</td>\n",
       "    </tr>\n",
       "    <tr>\n",
       "      <th>147</th>\n",
       "      <td>Acre</td>\n",
       "      <td>4.198</td>\n",
       "      <td>2005-08</td>\n",
       "    </tr>\n",
       "    <tr>\n",
       "      <th>152</th>\n",
       "      <td>Acre</td>\n",
       "      <td>1.682</td>\n",
       "      <td>2010-08</td>\n",
       "    </tr>\n",
       "    <tr>\n",
       "      <th>156</th>\n",
       "      <td>Acre</td>\n",
       "      <td>1.100</td>\n",
       "      <td>2014-08</td>\n",
       "    </tr>\n",
       "    <tr>\n",
       "      <th>157</th>\n",
       "      <td>Acre</td>\n",
       "      <td>1.397</td>\n",
       "      <td>2015-08</td>\n",
       "    </tr>\n",
       "    <tr>\n",
       "      <th>...</th>\n",
       "      <td>...</td>\n",
       "      <td>...</td>\n",
       "      <td>...</td>\n",
       "    </tr>\n",
       "    <tr>\n",
       "      <th>6409</th>\n",
       "      <td>Tocantins</td>\n",
       "      <td>3.680</td>\n",
       "      <td>2012-10</td>\n",
       "    </tr>\n",
       "    <tr>\n",
       "      <th>6410</th>\n",
       "      <td>Tocantins</td>\n",
       "      <td>2.155</td>\n",
       "      <td>2013-10</td>\n",
       "    </tr>\n",
       "    <tr>\n",
       "      <th>6412</th>\n",
       "      <td>Tocantins</td>\n",
       "      <td>4.844</td>\n",
       "      <td>2015-10</td>\n",
       "    </tr>\n",
       "    <tr>\n",
       "      <th>6413</th>\n",
       "      <td>Tocantins</td>\n",
       "      <td>2.032</td>\n",
       "      <td>2016-10</td>\n",
       "    </tr>\n",
       "    <tr>\n",
       "      <th>6414</th>\n",
       "      <td>Tocantins</td>\n",
       "      <td>2.969</td>\n",
       "      <td>2017-10</td>\n",
       "    </tr>\n",
       "  </tbody>\n",
       "</table>\n",
       "<p>824 rows × 3 columns</p>\n",
       "</div>"
      ],
      "text/plain": [
       "          state  number date-yyyy-mm\n",
       "145        Acre   1.976      2003-08\n",
       "147        Acre   4.198      2005-08\n",
       "152        Acre   1.682      2010-08\n",
       "156        Acre   1.100      2014-08\n",
       "157        Acre   1.397      2015-08\n",
       "...         ...     ...          ...\n",
       "6409  Tocantins   3.680      2012-10\n",
       "6410  Tocantins   2.155      2013-10\n",
       "6412  Tocantins   4.844      2015-10\n",
       "6413  Tocantins   2.032      2016-10\n",
       "6414  Tocantins   2.969      2017-10\n",
       "\n",
       "[824 rows x 3 columns]"
      ]
     },
     "execution_count": 594,
     "metadata": {},
     "output_type": "execute_result"
    }
   ],
   "source": [
    "amazon_df_clean.loc[([not x.is_integer() for x in amazon_df_clean['number']])]"
   ]
  },
  {
   "attachments": {},
   "cell_type": "markdown",
   "metadata": {},
   "source": [
    "Rounding all of the numbers in the 'number' column to the nearest number with zero decimal points."
   ]
  },
  {
   "cell_type": "code",
   "execution_count": 595,
   "metadata": {},
   "outputs": [],
   "source": [
    "amazon_df_clean['number'] = amazon_df_clean['number'].round(0)"
   ]
  },
  {
   "attachments": {},
   "cell_type": "markdown",
   "metadata": {},
   "source": [
    "Explicitly converting data types of DataFrame (including converting the 'number' column to 'int64')"
   ]
  },
  {
   "cell_type": "code",
   "execution_count": 596,
   "metadata": {},
   "outputs": [],
   "source": [
    "amazon_df_clean = amazon_df_clean.convert_dtypes()"
   ]
  },
  {
   "attachments": {},
   "cell_type": "markdown",
   "metadata": {},
   "source": [
    "Adjusted position of date column to be the first column"
   ]
  },
  {
   "cell_type": "code",
   "execution_count": 597,
   "metadata": {},
   "outputs": [],
   "source": [
    "amazon_df_clean.insert(0, 'date-yyyy-mm', amazon_df_clean.pop('date-yyyy-mm'))"
   ]
  },
  {
   "cell_type": "code",
   "execution_count": 598,
   "metadata": {},
   "outputs": [
    {
     "data": {
      "text/html": [
       "<div>\n",
       "<style scoped>\n",
       "    .dataframe tbody tr th:only-of-type {\n",
       "        vertical-align: middle;\n",
       "    }\n",
       "\n",
       "    .dataframe tbody tr th {\n",
       "        vertical-align: top;\n",
       "    }\n",
       "\n",
       "    .dataframe thead th {\n",
       "        text-align: right;\n",
       "    }\n",
       "</style>\n",
       "<table border=\"1\" class=\"dataframe\">\n",
       "  <thead>\n",
       "    <tr style=\"text-align: right;\">\n",
       "      <th></th>\n",
       "      <th>date-yyyy-mm</th>\n",
       "      <th>state</th>\n",
       "      <th>number</th>\n",
       "    </tr>\n",
       "  </thead>\n",
       "  <tbody>\n",
       "    <tr>\n",
       "      <th>0</th>\n",
       "      <td>1998-01</td>\n",
       "      <td>Acre</td>\n",
       "      <td>0</td>\n",
       "    </tr>\n",
       "    <tr>\n",
       "      <th>1</th>\n",
       "      <td>1999-01</td>\n",
       "      <td>Acre</td>\n",
       "      <td>0</td>\n",
       "    </tr>\n",
       "    <tr>\n",
       "      <th>2</th>\n",
       "      <td>2000-01</td>\n",
       "      <td>Acre</td>\n",
       "      <td>0</td>\n",
       "    </tr>\n",
       "    <tr>\n",
       "      <th>3</th>\n",
       "      <td>2001-01</td>\n",
       "      <td>Acre</td>\n",
       "      <td>0</td>\n",
       "    </tr>\n",
       "    <tr>\n",
       "      <th>4</th>\n",
       "      <td>2002-01</td>\n",
       "      <td>Acre</td>\n",
       "      <td>0</td>\n",
       "    </tr>\n",
       "    <tr>\n",
       "      <th>...</th>\n",
       "      <td>...</td>\n",
       "      <td>...</td>\n",
       "      <td>...</td>\n",
       "    </tr>\n",
       "    <tr>\n",
       "      <th>6449</th>\n",
       "      <td>2012-12</td>\n",
       "      <td>Tocantins</td>\n",
       "      <td>128</td>\n",
       "    </tr>\n",
       "    <tr>\n",
       "      <th>6450</th>\n",
       "      <td>2013-12</td>\n",
       "      <td>Tocantins</td>\n",
       "      <td>85</td>\n",
       "    </tr>\n",
       "    <tr>\n",
       "      <th>6451</th>\n",
       "      <td>2014-12</td>\n",
       "      <td>Tocantins</td>\n",
       "      <td>223</td>\n",
       "    </tr>\n",
       "    <tr>\n",
       "      <th>6452</th>\n",
       "      <td>2015-12</td>\n",
       "      <td>Tocantins</td>\n",
       "      <td>373</td>\n",
       "    </tr>\n",
       "    <tr>\n",
       "      <th>6453</th>\n",
       "      <td>2016-12</td>\n",
       "      <td>Tocantins</td>\n",
       "      <td>119</td>\n",
       "    </tr>\n",
       "  </tbody>\n",
       "</table>\n",
       "<p>6454 rows × 3 columns</p>\n",
       "</div>"
      ],
      "text/plain": [
       "     date-yyyy-mm      state  number\n",
       "0         1998-01       Acre       0\n",
       "1         1999-01       Acre       0\n",
       "2         2000-01       Acre       0\n",
       "3         2001-01       Acre       0\n",
       "4         2002-01       Acre       0\n",
       "...           ...        ...     ...\n",
       "6449      2012-12  Tocantins     128\n",
       "6450      2013-12  Tocantins      85\n",
       "6451      2014-12  Tocantins     223\n",
       "6452      2015-12  Tocantins     373\n",
       "6453      2016-12  Tocantins     119\n",
       "\n",
       "[6454 rows x 3 columns]"
      ]
     },
     "execution_count": 598,
     "metadata": {},
     "output_type": "execute_result"
    }
   ],
   "source": [
    "amazon_df_clean"
   ]
  },
  {
   "cell_type": "code",
   "execution_count": 599,
   "metadata": {},
   "outputs": [],
   "source": [
    "amazon_columns = list(amazon_df_clean.columns)"
   ]
  },
  {
   "cell_type": "code",
   "execution_count": 600,
   "metadata": {},
   "outputs": [
    {
     "data": {
      "text/html": [
       "<div>\n",
       "<style scoped>\n",
       "    .dataframe tbody tr th:only-of-type {\n",
       "        vertical-align: middle;\n",
       "    }\n",
       "\n",
       "    .dataframe tbody tr th {\n",
       "        vertical-align: top;\n",
       "    }\n",
       "\n",
       "    .dataframe thead th {\n",
       "        text-align: right;\n",
       "    }\n",
       "</style>\n",
       "<table border=\"1\" class=\"dataframe\">\n",
       "  <thead>\n",
       "    <tr style=\"text-align: right;\">\n",
       "      <th></th>\n",
       "      <th>date-yyyy-mm</th>\n",
       "      <th>state</th>\n",
       "      <th>number</th>\n",
       "    </tr>\n",
       "  </thead>\n",
       "  <tbody>\n",
       "    <tr>\n",
       "      <th>0</th>\n",
       "      <td>1998-01</td>\n",
       "      <td>Acre</td>\n",
       "      <td>0</td>\n",
       "    </tr>\n",
       "    <tr>\n",
       "      <th>1</th>\n",
       "      <td>1999-01</td>\n",
       "      <td>Acre</td>\n",
       "      <td>0</td>\n",
       "    </tr>\n",
       "    <tr>\n",
       "      <th>2</th>\n",
       "      <td>2000-01</td>\n",
       "      <td>Acre</td>\n",
       "      <td>0</td>\n",
       "    </tr>\n",
       "    <tr>\n",
       "      <th>3</th>\n",
       "      <td>2001-01</td>\n",
       "      <td>Acre</td>\n",
       "      <td>0</td>\n",
       "    </tr>\n",
       "    <tr>\n",
       "      <th>4</th>\n",
       "      <td>2002-01</td>\n",
       "      <td>Acre</td>\n",
       "      <td>0</td>\n",
       "    </tr>\n",
       "    <tr>\n",
       "      <th>5</th>\n",
       "      <td>2003-01</td>\n",
       "      <td>Acre</td>\n",
       "      <td>10</td>\n",
       "    </tr>\n",
       "    <tr>\n",
       "      <th>6</th>\n",
       "      <td>2004-01</td>\n",
       "      <td>Acre</td>\n",
       "      <td>0</td>\n",
       "    </tr>\n",
       "    <tr>\n",
       "      <th>7</th>\n",
       "      <td>2005-01</td>\n",
       "      <td>Acre</td>\n",
       "      <td>12</td>\n",
       "    </tr>\n",
       "    <tr>\n",
       "      <th>8</th>\n",
       "      <td>2006-01</td>\n",
       "      <td>Acre</td>\n",
       "      <td>4</td>\n",
       "    </tr>\n",
       "    <tr>\n",
       "      <th>9</th>\n",
       "      <td>2007-01</td>\n",
       "      <td>Acre</td>\n",
       "      <td>0</td>\n",
       "    </tr>\n",
       "  </tbody>\n",
       "</table>\n",
       "</div>"
      ],
      "text/plain": [
       "  date-yyyy-mm state  number\n",
       "0      1998-01  Acre       0\n",
       "1      1999-01  Acre       0\n",
       "2      2000-01  Acre       0\n",
       "3      2001-01  Acre       0\n",
       "4      2002-01  Acre       0\n",
       "5      2003-01  Acre      10\n",
       "6      2004-01  Acre       0\n",
       "7      2005-01  Acre      12\n",
       "8      2006-01  Acre       4\n",
       "9      2007-01  Acre       0"
      ]
     },
     "execution_count": 600,
     "metadata": {},
     "output_type": "execute_result"
    }
   ],
   "source": [
    "amazon_df_clean.head(10)"
   ]
  },
  {
   "cell_type": "code",
   "execution_count": 601,
   "metadata": {},
   "outputs": [
    {
     "data": {
      "text/html": [
       "<div>\n",
       "<style scoped>\n",
       "    .dataframe tbody tr th:only-of-type {\n",
       "        vertical-align: middle;\n",
       "    }\n",
       "\n",
       "    .dataframe tbody tr th {\n",
       "        vertical-align: top;\n",
       "    }\n",
       "\n",
       "    .dataframe thead th {\n",
       "        text-align: right;\n",
       "    }\n",
       "</style>\n",
       "<table border=\"1\" class=\"dataframe\">\n",
       "  <thead>\n",
       "    <tr style=\"text-align: right;\">\n",
       "      <th></th>\n",
       "      <th>date-yyyy-mm</th>\n",
       "      <th>state</th>\n",
       "      <th>number</th>\n",
       "    </tr>\n",
       "  </thead>\n",
       "  <tbody>\n",
       "    <tr>\n",
       "      <th>6444</th>\n",
       "      <td>2007-12</td>\n",
       "      <td>Tocantins</td>\n",
       "      <td>13</td>\n",
       "    </tr>\n",
       "    <tr>\n",
       "      <th>6445</th>\n",
       "      <td>2008-12</td>\n",
       "      <td>Tocantins</td>\n",
       "      <td>7</td>\n",
       "    </tr>\n",
       "    <tr>\n",
       "      <th>6446</th>\n",
       "      <td>2009-12</td>\n",
       "      <td>Tocantins</td>\n",
       "      <td>46</td>\n",
       "    </tr>\n",
       "    <tr>\n",
       "      <th>6447</th>\n",
       "      <td>2010-12</td>\n",
       "      <td>Tocantins</td>\n",
       "      <td>72</td>\n",
       "    </tr>\n",
       "    <tr>\n",
       "      <th>6448</th>\n",
       "      <td>2011-12</td>\n",
       "      <td>Tocantins</td>\n",
       "      <td>105</td>\n",
       "    </tr>\n",
       "    <tr>\n",
       "      <th>6449</th>\n",
       "      <td>2012-12</td>\n",
       "      <td>Tocantins</td>\n",
       "      <td>128</td>\n",
       "    </tr>\n",
       "    <tr>\n",
       "      <th>6450</th>\n",
       "      <td>2013-12</td>\n",
       "      <td>Tocantins</td>\n",
       "      <td>85</td>\n",
       "    </tr>\n",
       "    <tr>\n",
       "      <th>6451</th>\n",
       "      <td>2014-12</td>\n",
       "      <td>Tocantins</td>\n",
       "      <td>223</td>\n",
       "    </tr>\n",
       "    <tr>\n",
       "      <th>6452</th>\n",
       "      <td>2015-12</td>\n",
       "      <td>Tocantins</td>\n",
       "      <td>373</td>\n",
       "    </tr>\n",
       "    <tr>\n",
       "      <th>6453</th>\n",
       "      <td>2016-12</td>\n",
       "      <td>Tocantins</td>\n",
       "      <td>119</td>\n",
       "    </tr>\n",
       "  </tbody>\n",
       "</table>\n",
       "</div>"
      ],
      "text/plain": [
       "     date-yyyy-mm      state  number\n",
       "6444      2007-12  Tocantins      13\n",
       "6445      2008-12  Tocantins       7\n",
       "6446      2009-12  Tocantins      46\n",
       "6447      2010-12  Tocantins      72\n",
       "6448      2011-12  Tocantins     105\n",
       "6449      2012-12  Tocantins     128\n",
       "6450      2013-12  Tocantins      85\n",
       "6451      2014-12  Tocantins     223\n",
       "6452      2015-12  Tocantins     373\n",
       "6453      2016-12  Tocantins     119"
      ]
     },
     "execution_count": 601,
     "metadata": {},
     "output_type": "execute_result"
    }
   ],
   "source": [
    "amazon_df_clean.tail(10)"
   ]
  },
  {
   "attachments": {},
   "cell_type": "markdown",
   "metadata": {},
   "source": [
    "## 3. Check data type of each column"
   ]
  },
  {
   "cell_type": "code",
   "execution_count": 602,
   "metadata": {},
   "outputs": [
    {
     "data": {
      "text/plain": [
       "date-yyyy-mm    string[python]\n",
       "state           string[python]\n",
       "number                   Int64\n",
       "dtype: object"
      ]
     },
     "metadata": {},
     "output_type": "display_data"
    }
   ],
   "source": [
    "display(amazon_df_clean.dtypes)"
   ]
  },
  {
   "attachments": {},
   "cell_type": "markdown",
   "metadata": {},
   "source": [
    "### a. Find what is the type of ‘date’ column is"
   ]
  },
  {
   "cell_type": "code",
   "execution_count": 603,
   "metadata": {},
   "outputs": [
    {
     "name": "stdout",
     "output_type": "stream",
     "text": [
      "string\n"
     ]
    }
   ],
   "source": [
    "print(amazon_df_clean.dtypes['date-yyyy-mm'])"
   ]
  },
  {
   "attachments": {},
   "cell_type": "markdown",
   "metadata": {},
   "source": [
    "### b. If it is of ‘object’ type, we need to convert the type into datetime"
   ]
  },
  {
   "cell_type": "code",
   "execution_count": 604,
   "metadata": {},
   "outputs": [
    {
     "data": {
      "text/plain": [
       "0      1998-01-01\n",
       "1      1999-01-01\n",
       "2      2000-01-01\n",
       "3      2001-01-01\n",
       "4      2002-01-01\n",
       "          ...    \n",
       "6449   2012-12-01\n",
       "6450   2013-12-01\n",
       "6451   2014-12-01\n",
       "6452   2015-12-01\n",
       "6453   2016-12-01\n",
       "Name: date-yyyy-mm, Length: 6454, dtype: datetime64[ns]"
      ]
     },
     "execution_count": 604,
     "metadata": {},
     "output_type": "execute_result"
    }
   ],
   "source": [
    "pd.to_datetime(amazon_df_clean['date-yyyy-mm'])"
   ]
  },
  {
   "attachments": {},
   "cell_type": "markdown",
   "metadata": {},
   "source": [
    "### c. For conversion you need to make changes again in read_csv method, put third parameter into it for parsing dates (you need to figure out by yourself regarding third parameter)"
   ]
  },
  {
   "cell_type": "code",
   "execution_count": 605,
   "metadata": {},
   "outputs": [],
   "source": [
    "amazon_df_date = pd.read_csv(\n",
    "    AMAZON_CSV_PATH,\n",
    "    usecols=lambda x: x != \"date\",\n",
    "    parse_dates={'date':['year', 'month']},\n",
    "    date_format='%Y-%m'\n",
    "    )"
   ]
  },
  {
   "cell_type": "code",
   "execution_count": 606,
   "metadata": {},
   "outputs": [
    {
     "data": {
      "text/plain": [
       "date       object\n",
       "state      object\n",
       "number    float64\n",
       "dtype: object"
      ]
     },
     "execution_count": 606,
     "metadata": {},
     "output_type": "execute_result"
    }
   ],
   "source": [
    "amazon_df_date.dtypes"
   ]
  },
  {
   "cell_type": "code",
   "execution_count": 607,
   "metadata": {},
   "outputs": [
    {
     "data": {
      "text/html": [
       "<div>\n",
       "<style scoped>\n",
       "    .dataframe tbody tr th:only-of-type {\n",
       "        vertical-align: middle;\n",
       "    }\n",
       "\n",
       "    .dataframe tbody tr th {\n",
       "        vertical-align: top;\n",
       "    }\n",
       "\n",
       "    .dataframe thead th {\n",
       "        text-align: right;\n",
       "    }\n",
       "</style>\n",
       "<table border=\"1\" class=\"dataframe\">\n",
       "  <thead>\n",
       "    <tr style=\"text-align: right;\">\n",
       "      <th></th>\n",
       "      <th>date</th>\n",
       "      <th>state</th>\n",
       "      <th>number</th>\n",
       "    </tr>\n",
       "  </thead>\n",
       "  <tbody>\n",
       "    <tr>\n",
       "      <th>0</th>\n",
       "      <td>1998 Janeiro</td>\n",
       "      <td>Acre</td>\n",
       "      <td>0.0</td>\n",
       "    </tr>\n",
       "    <tr>\n",
       "      <th>1</th>\n",
       "      <td>1999 Janeiro</td>\n",
       "      <td>Acre</td>\n",
       "      <td>0.0</td>\n",
       "    </tr>\n",
       "    <tr>\n",
       "      <th>2</th>\n",
       "      <td>2000 Janeiro</td>\n",
       "      <td>Acre</td>\n",
       "      <td>0.0</td>\n",
       "    </tr>\n",
       "    <tr>\n",
       "      <th>3</th>\n",
       "      <td>2001 Janeiro</td>\n",
       "      <td>Acre</td>\n",
       "      <td>0.0</td>\n",
       "    </tr>\n",
       "    <tr>\n",
       "      <th>4</th>\n",
       "      <td>2002 Janeiro</td>\n",
       "      <td>Acre</td>\n",
       "      <td>0.0</td>\n",
       "    </tr>\n",
       "    <tr>\n",
       "      <th>...</th>\n",
       "      <td>...</td>\n",
       "      <td>...</td>\n",
       "      <td>...</td>\n",
       "    </tr>\n",
       "    <tr>\n",
       "      <th>6449</th>\n",
       "      <td>2012 Dezembro</td>\n",
       "      <td>Tocantins</td>\n",
       "      <td>128.0</td>\n",
       "    </tr>\n",
       "    <tr>\n",
       "      <th>6450</th>\n",
       "      <td>2013 Dezembro</td>\n",
       "      <td>Tocantins</td>\n",
       "      <td>85.0</td>\n",
       "    </tr>\n",
       "    <tr>\n",
       "      <th>6451</th>\n",
       "      <td>2014 Dezembro</td>\n",
       "      <td>Tocantins</td>\n",
       "      <td>223.0</td>\n",
       "    </tr>\n",
       "    <tr>\n",
       "      <th>6452</th>\n",
       "      <td>2015 Dezembro</td>\n",
       "      <td>Tocantins</td>\n",
       "      <td>373.0</td>\n",
       "    </tr>\n",
       "    <tr>\n",
       "      <th>6453</th>\n",
       "      <td>2016 Dezembro</td>\n",
       "      <td>Tocantins</td>\n",
       "      <td>119.0</td>\n",
       "    </tr>\n",
       "  </tbody>\n",
       "</table>\n",
       "<p>6454 rows × 3 columns</p>\n",
       "</div>"
      ],
      "text/plain": [
       "               date      state  number\n",
       "0      1998 Janeiro       Acre     0.0\n",
       "1      1999 Janeiro       Acre     0.0\n",
       "2      2000 Janeiro       Acre     0.0\n",
       "3      2001 Janeiro       Acre     0.0\n",
       "4      2002 Janeiro       Acre     0.0\n",
       "...             ...        ...     ...\n",
       "6449  2012 Dezembro  Tocantins   128.0\n",
       "6450  2013 Dezembro  Tocantins    85.0\n",
       "6451  2014 Dezembro  Tocantins   223.0\n",
       "6452  2015 Dezembro  Tocantins   373.0\n",
       "6453  2016 Dezembro  Tocantins   119.0\n",
       "\n",
       "[6454 rows x 3 columns]"
      ]
     },
     "execution_count": 607,
     "metadata": {},
     "output_type": "execute_result"
    }
   ],
   "source": [
    "amazon_df_date"
   ]
  },
  {
   "attachments": {},
   "cell_type": "markdown",
   "metadata": {},
   "source": [
    "The date_parser argument is deprecated since version 2.0.0. The documentations states: Use date_format instead, or read in as object and then apply to_datetime() as-needed.\n",
    "\n",
    "The documentation for the date_format argument states: If used in conjunction with parse_dates, will parse dates according to this format. For anything more complex, please read in as object and then apply to_datetime() as-needed.\n",
    "\n",
    "In this situation, I believe that it is too complex to perform month word translation to numbers within the read_csv method."
   ]
  },
  {
   "cell_type": "code",
   "execution_count": 608,
   "metadata": {},
   "outputs": [],
   "source": [
    "amazon_df_date['date'] = amazon_df_date['date'].replace(unicode_character_replacement_ç, regex=True)"
   ]
  },
  {
   "cell_type": "code",
   "execution_count": 609,
   "metadata": {},
   "outputs": [],
   "source": [
    "portuguese_month_number_dict = {\"janeiro\": \"01\",\n",
    "                               \"fevereiro\": \"02\",\n",
    "                               \"março\": \"03\",\n",
    "                               \"abril\": \"04\",\n",
    "                               \"maio\": \"05\",\n",
    "                               \"junho\": \"06\",\n",
    "                               \"julho\": \"07\",\n",
    "                               \"agosto\": \"08\",\n",
    "                               \"setembro\": \"09\",\n",
    "                               \"outubro\": \"10\",\n",
    "                               \"novembro\": \"11\",\n",
    "                               \"dezembro\": \"12\"\n",
    "}"
   ]
  },
  {
   "cell_type": "code",
   "execution_count": 610,
   "metadata": {},
   "outputs": [],
   "source": [
    "amazon_df_date['date'] = (amazon_df_date['date']\n",
    "                          .str\n",
    "                          .replace(\" \", \"-\")\n",
    "                          .replace(portuguese_month_number_dict)\n",
    "                          .str\n",
    "                          .lower()\n",
    "                          .replace(portuguese_month_number_dict, regex=True)\n",
    "                          )"
   ]
  },
  {
   "cell_type": "code",
   "execution_count": 611,
   "metadata": {},
   "outputs": [],
   "source": [
    "amazon_df_date['date'] = pd.to_datetime(amazon_df_date['date'])"
   ]
  },
  {
   "cell_type": "code",
   "execution_count": 612,
   "metadata": {},
   "outputs": [
    {
     "data": {
      "text/html": [
       "<div>\n",
       "<style scoped>\n",
       "    .dataframe tbody tr th:only-of-type {\n",
       "        vertical-align: middle;\n",
       "    }\n",
       "\n",
       "    .dataframe tbody tr th {\n",
       "        vertical-align: top;\n",
       "    }\n",
       "\n",
       "    .dataframe thead th {\n",
       "        text-align: right;\n",
       "    }\n",
       "</style>\n",
       "<table border=\"1\" class=\"dataframe\">\n",
       "  <thead>\n",
       "    <tr style=\"text-align: right;\">\n",
       "      <th></th>\n",
       "      <th>date</th>\n",
       "      <th>state</th>\n",
       "      <th>number</th>\n",
       "    </tr>\n",
       "  </thead>\n",
       "  <tbody>\n",
       "    <tr>\n",
       "      <th>0</th>\n",
       "      <td>1998-01-01</td>\n",
       "      <td>Acre</td>\n",
       "      <td>0.0</td>\n",
       "    </tr>\n",
       "    <tr>\n",
       "      <th>1</th>\n",
       "      <td>1999-01-01</td>\n",
       "      <td>Acre</td>\n",
       "      <td>0.0</td>\n",
       "    </tr>\n",
       "    <tr>\n",
       "      <th>2</th>\n",
       "      <td>2000-01-01</td>\n",
       "      <td>Acre</td>\n",
       "      <td>0.0</td>\n",
       "    </tr>\n",
       "    <tr>\n",
       "      <th>3</th>\n",
       "      <td>2001-01-01</td>\n",
       "      <td>Acre</td>\n",
       "      <td>0.0</td>\n",
       "    </tr>\n",
       "    <tr>\n",
       "      <th>4</th>\n",
       "      <td>2002-01-01</td>\n",
       "      <td>Acre</td>\n",
       "      <td>0.0</td>\n",
       "    </tr>\n",
       "    <tr>\n",
       "      <th>...</th>\n",
       "      <td>...</td>\n",
       "      <td>...</td>\n",
       "      <td>...</td>\n",
       "    </tr>\n",
       "    <tr>\n",
       "      <th>6449</th>\n",
       "      <td>2012-12-01</td>\n",
       "      <td>Tocantins</td>\n",
       "      <td>128.0</td>\n",
       "    </tr>\n",
       "    <tr>\n",
       "      <th>6450</th>\n",
       "      <td>2013-12-01</td>\n",
       "      <td>Tocantins</td>\n",
       "      <td>85.0</td>\n",
       "    </tr>\n",
       "    <tr>\n",
       "      <th>6451</th>\n",
       "      <td>2014-12-01</td>\n",
       "      <td>Tocantins</td>\n",
       "      <td>223.0</td>\n",
       "    </tr>\n",
       "    <tr>\n",
       "      <th>6452</th>\n",
       "      <td>2015-12-01</td>\n",
       "      <td>Tocantins</td>\n",
       "      <td>373.0</td>\n",
       "    </tr>\n",
       "    <tr>\n",
       "      <th>6453</th>\n",
       "      <td>2016-12-01</td>\n",
       "      <td>Tocantins</td>\n",
       "      <td>119.0</td>\n",
       "    </tr>\n",
       "  </tbody>\n",
       "</table>\n",
       "<p>6454 rows × 3 columns</p>\n",
       "</div>"
      ],
      "text/plain": [
       "           date      state  number\n",
       "0    1998-01-01       Acre     0.0\n",
       "1    1999-01-01       Acre     0.0\n",
       "2    2000-01-01       Acre     0.0\n",
       "3    2001-01-01       Acre     0.0\n",
       "4    2002-01-01       Acre     0.0\n",
       "...         ...        ...     ...\n",
       "6449 2012-12-01  Tocantins   128.0\n",
       "6450 2013-12-01  Tocantins    85.0\n",
       "6451 2014-12-01  Tocantins   223.0\n",
       "6452 2015-12-01  Tocantins   373.0\n",
       "6453 2016-12-01  Tocantins   119.0\n",
       "\n",
       "[6454 rows x 3 columns]"
      ]
     },
     "execution_count": 612,
     "metadata": {},
     "output_type": "execute_result"
    }
   ],
   "source": [
    "amazon_df_date"
   ]
  },
  {
   "attachments": {},
   "cell_type": "markdown",
   "metadata": {},
   "source": [
    "### d. Please check after making changes what is the data type of date column is (it should be datetime)"
   ]
  },
  {
   "cell_type": "code",
   "execution_count": 613,
   "metadata": {},
   "outputs": [
    {
     "data": {
      "text/plain": [
       "date      datetime64[ns]\n",
       "state             object\n",
       "number           float64\n",
       "dtype: object"
      ]
     },
     "execution_count": 613,
     "metadata": {},
     "output_type": "execute_result"
    }
   ],
   "source": [
    "amazon_df_date.dtypes"
   ]
  },
  {
   "attachments": {},
   "cell_type": "markdown",
   "metadata": {},
   "source": [
    "## 4. Display top 5 rows of the dataset."
   ]
  },
  {
   "cell_type": "code",
   "execution_count": 614,
   "metadata": {},
   "outputs": [
    {
     "data": {
      "text/html": [
       "<div>\n",
       "<style scoped>\n",
       "    .dataframe tbody tr th:only-of-type {\n",
       "        vertical-align: middle;\n",
       "    }\n",
       "\n",
       "    .dataframe tbody tr th {\n",
       "        vertical-align: top;\n",
       "    }\n",
       "\n",
       "    .dataframe thead th {\n",
       "        text-align: right;\n",
       "    }\n",
       "</style>\n",
       "<table border=\"1\" class=\"dataframe\">\n",
       "  <thead>\n",
       "    <tr style=\"text-align: right;\">\n",
       "      <th></th>\n",
       "      <th>date-yyyy-mm</th>\n",
       "      <th>state</th>\n",
       "      <th>number</th>\n",
       "    </tr>\n",
       "  </thead>\n",
       "  <tbody>\n",
       "    <tr>\n",
       "      <th>0</th>\n",
       "      <td>1998-01</td>\n",
       "      <td>Acre</td>\n",
       "      <td>0</td>\n",
       "    </tr>\n",
       "    <tr>\n",
       "      <th>1</th>\n",
       "      <td>1999-01</td>\n",
       "      <td>Acre</td>\n",
       "      <td>0</td>\n",
       "    </tr>\n",
       "    <tr>\n",
       "      <th>2</th>\n",
       "      <td>2000-01</td>\n",
       "      <td>Acre</td>\n",
       "      <td>0</td>\n",
       "    </tr>\n",
       "    <tr>\n",
       "      <th>3</th>\n",
       "      <td>2001-01</td>\n",
       "      <td>Acre</td>\n",
       "      <td>0</td>\n",
       "    </tr>\n",
       "    <tr>\n",
       "      <th>4</th>\n",
       "      <td>2002-01</td>\n",
       "      <td>Acre</td>\n",
       "      <td>0</td>\n",
       "    </tr>\n",
       "  </tbody>\n",
       "</table>\n",
       "</div>"
      ],
      "text/plain": [
       "  date-yyyy-mm state  number\n",
       "0      1998-01  Acre       0\n",
       "1      1999-01  Acre       0\n",
       "2      2000-01  Acre       0\n",
       "3      2001-01  Acre       0\n",
       "4      2002-01  Acre       0"
      ]
     },
     "execution_count": 614,
     "metadata": {},
     "output_type": "execute_result"
    }
   ],
   "source": [
    "amazon_df_clean.head()"
   ]
  },
  {
   "attachments": {},
   "cell_type": "markdown",
   "metadata": {},
   "source": [
    "## 5. Check the last 5 rows."
   ]
  },
  {
   "cell_type": "code",
   "execution_count": 615,
   "metadata": {},
   "outputs": [
    {
     "data": {
      "text/html": [
       "<div>\n",
       "<style scoped>\n",
       "    .dataframe tbody tr th:only-of-type {\n",
       "        vertical-align: middle;\n",
       "    }\n",
       "\n",
       "    .dataframe tbody tr th {\n",
       "        vertical-align: top;\n",
       "    }\n",
       "\n",
       "    .dataframe thead th {\n",
       "        text-align: right;\n",
       "    }\n",
       "</style>\n",
       "<table border=\"1\" class=\"dataframe\">\n",
       "  <thead>\n",
       "    <tr style=\"text-align: right;\">\n",
       "      <th></th>\n",
       "      <th>date-yyyy-mm</th>\n",
       "      <th>state</th>\n",
       "      <th>number</th>\n",
       "    </tr>\n",
       "  </thead>\n",
       "  <tbody>\n",
       "    <tr>\n",
       "      <th>6449</th>\n",
       "      <td>2012-12</td>\n",
       "      <td>Tocantins</td>\n",
       "      <td>128</td>\n",
       "    </tr>\n",
       "    <tr>\n",
       "      <th>6450</th>\n",
       "      <td>2013-12</td>\n",
       "      <td>Tocantins</td>\n",
       "      <td>85</td>\n",
       "    </tr>\n",
       "    <tr>\n",
       "      <th>6451</th>\n",
       "      <td>2014-12</td>\n",
       "      <td>Tocantins</td>\n",
       "      <td>223</td>\n",
       "    </tr>\n",
       "    <tr>\n",
       "      <th>6452</th>\n",
       "      <td>2015-12</td>\n",
       "      <td>Tocantins</td>\n",
       "      <td>373</td>\n",
       "    </tr>\n",
       "    <tr>\n",
       "      <th>6453</th>\n",
       "      <td>2016-12</td>\n",
       "      <td>Tocantins</td>\n",
       "      <td>119</td>\n",
       "    </tr>\n",
       "  </tbody>\n",
       "</table>\n",
       "</div>"
      ],
      "text/plain": [
       "     date-yyyy-mm      state  number\n",
       "6449      2012-12  Tocantins     128\n",
       "6450      2013-12  Tocantins      85\n",
       "6451      2014-12  Tocantins     223\n",
       "6452      2015-12  Tocantins     373\n",
       "6453      2016-12  Tocantins     119"
      ]
     },
     "execution_count": 615,
     "metadata": {},
     "output_type": "execute_result"
    }
   ],
   "source": [
    "amazon_df_clean.tail()"
   ]
  },
  {
   "attachments": {},
   "cell_type": "markdown",
   "metadata": {},
   "source": [
    "## 6. Find the shape of our dataset (number of rows and number of columns)."
   ]
  },
  {
   "attachments": {},
   "cell_type": "markdown",
   "metadata": {},
   "source": [
    "### a. Kindly print number of rows and columns separately"
   ]
  },
  {
   "cell_type": "code",
   "execution_count": 616,
   "metadata": {},
   "outputs": [
    {
     "name": "stdout",
     "output_type": "stream",
     "text": [
      "Number of rows:     6454\n",
      "Number of columns:  3\n"
     ]
    }
   ],
   "source": [
    "print(f\"{'Number of rows: ':<20}{amazon_df_clean.shape[0]}\\n\\\n",
    "{'Number of columns: ':<20}{amazon_df_clean.shape[1]}\")"
   ]
  },
  {
   "attachments": {},
   "cell_type": "markdown",
   "metadata": {},
   "source": [
    "## 7. Getting information about our dataset like total number rows, total number of columns, datatypes of each column and memory requirement."
   ]
  },
  {
   "cell_type": "code",
   "execution_count": 617,
   "metadata": {},
   "outputs": [
    {
     "name": "stdout",
     "output_type": "stream",
     "text": [
      "<class 'pandas.core.frame.DataFrame'>\n",
      "RangeIndex: 6454 entries, 0 to 6453\n",
      "Data columns (total 3 columns):\n",
      " #   Column        Non-Null Count  Dtype \n",
      "---  ------        --------------  ----- \n",
      " 0   date-yyyy-mm  6454 non-null   string\n",
      " 1   state         6454 non-null   string\n",
      " 2   number        6454 non-null   Int64 \n",
      "dtypes: Int64(1), string(2)\n",
      "memory usage: 157.7 KB\n"
     ]
    }
   ],
   "source": [
    "amazon_df_clean.info()"
   ]
  },
  {
   "attachments": {},
   "cell_type": "markdown",
   "metadata": {},
   "source": [
    "## 8. Check for duplicate data and drop them."
   ]
  },
  {
   "attachments": {},
   "cell_type": "markdown",
   "metadata": {},
   "source": [
    "### a. You can use duplicated () method"
   ]
  },
  {
   "cell_type": "code",
   "execution_count": 618,
   "metadata": {},
   "outputs": [
    {
     "data": {
      "text/html": [
       "<div>\n",
       "<style scoped>\n",
       "    .dataframe tbody tr th:only-of-type {\n",
       "        vertical-align: middle;\n",
       "    }\n",
       "\n",
       "    .dataframe tbody tr th {\n",
       "        vertical-align: top;\n",
       "    }\n",
       "\n",
       "    .dataframe thead th {\n",
       "        text-align: right;\n",
       "    }\n",
       "</style>\n",
       "<table border=\"1\" class=\"dataframe\">\n",
       "  <thead>\n",
       "    <tr style=\"text-align: right;\">\n",
       "      <th></th>\n",
       "      <th>date-yyyy-mm</th>\n",
       "      <th>state</th>\n",
       "      <th>number</th>\n",
       "    </tr>\n",
       "  </thead>\n",
       "  <tbody>\n",
       "    <tr>\n",
       "      <th>258</th>\n",
       "      <td>2017-01</td>\n",
       "      <td>Alagoas</td>\n",
       "      <td>38</td>\n",
       "    </tr>\n",
       "    <tr>\n",
       "      <th>259</th>\n",
       "      <td>2017-01</td>\n",
       "      <td>Alagoas</td>\n",
       "      <td>38</td>\n",
       "    </tr>\n",
       "    <tr>\n",
       "      <th>2391</th>\n",
       "      <td>1998-01</td>\n",
       "      <td>Mato Grosso</td>\n",
       "      <td>0</td>\n",
       "    </tr>\n",
       "    <tr>\n",
       "      <th>2411</th>\n",
       "      <td>1998-02</td>\n",
       "      <td>Mato Grosso</td>\n",
       "      <td>0</td>\n",
       "    </tr>\n",
       "    <tr>\n",
       "      <th>2431</th>\n",
       "      <td>1998-03</td>\n",
       "      <td>Mato Grosso</td>\n",
       "      <td>0</td>\n",
       "    </tr>\n",
       "    <tr>\n",
       "      <th>...</th>\n",
       "      <td>...</td>\n",
       "      <td>...</td>\n",
       "      <td>...</td>\n",
       "    </tr>\n",
       "    <tr>\n",
       "      <th>4841</th>\n",
       "      <td>1998-04</td>\n",
       "      <td>Rio</td>\n",
       "      <td>0</td>\n",
       "    </tr>\n",
       "    <tr>\n",
       "      <th>4861</th>\n",
       "      <td>1998-05</td>\n",
       "      <td>Rio</td>\n",
       "      <td>0</td>\n",
       "    </tr>\n",
       "    <tr>\n",
       "      <th>4864</th>\n",
       "      <td>2001-05</td>\n",
       "      <td>Rio</td>\n",
       "      <td>4</td>\n",
       "    </tr>\n",
       "    <tr>\n",
       "      <th>4910</th>\n",
       "      <td>2007-07</td>\n",
       "      <td>Rio</td>\n",
       "      <td>7</td>\n",
       "    </tr>\n",
       "    <tr>\n",
       "      <th>4932</th>\n",
       "      <td>2009-08</td>\n",
       "      <td>Rio</td>\n",
       "      <td>1</td>\n",
       "    </tr>\n",
       "  </tbody>\n",
       "</table>\n",
       "<p>61 rows × 3 columns</p>\n",
       "</div>"
      ],
      "text/plain": [
       "     date-yyyy-mm        state  number\n",
       "258       2017-01      Alagoas      38\n",
       "259       2017-01      Alagoas      38\n",
       "2391      1998-01  Mato Grosso       0\n",
       "2411      1998-02  Mato Grosso       0\n",
       "2431      1998-03  Mato Grosso       0\n",
       "...           ...          ...     ...\n",
       "4841      1998-04          Rio       0\n",
       "4861      1998-05          Rio       0\n",
       "4864      2001-05          Rio       4\n",
       "4910      2007-07          Rio       7\n",
       "4932      2009-08          Rio       1\n",
       "\n",
       "[61 rows x 3 columns]"
      ]
     },
     "execution_count": 618,
     "metadata": {},
     "output_type": "execute_result"
    }
   ],
   "source": [
    "amazon_df_clean.loc[amazon_df_clean.duplicated(keep=False)]"
   ]
  },
  {
   "attachments": {},
   "cell_type": "markdown",
   "metadata": {},
   "source": [
    "### b. Please mention how many duplicate values are removed"
   ]
  },
  {
   "cell_type": "code",
   "execution_count": 619,
   "metadata": {},
   "outputs": [
    {
     "name": "stdout",
     "output_type": "stream",
     "text": [
      "33 duplicate values were removed.\n"
     ]
    }
   ],
   "source": [
    "print(f\"{len(amazon_df_clean) - len(amazon_df_clean.drop_duplicates())} duplicate values were removed.\")"
   ]
  },
  {
   "cell_type": "code",
   "execution_count": 620,
   "metadata": {},
   "outputs": [],
   "source": [
    "amazon_df_clean = amazon_df_clean.drop_duplicates()"
   ]
  },
  {
   "attachments": {},
   "cell_type": "markdown",
   "metadata": {},
   "source": [
    "## 9. Check null values in the dataset."
   ]
  },
  {
   "attachments": {},
   "cell_type": "markdown",
   "metadata": {},
   "source": [
    "### When we write isnull() method it creates boolean table"
   ]
  },
  {
   "cell_type": "code",
   "execution_count": 621,
   "metadata": {},
   "outputs": [
    {
     "data": {
      "text/html": [
       "<div>\n",
       "<style scoped>\n",
       "    .dataframe tbody tr th:only-of-type {\n",
       "        vertical-align: middle;\n",
       "    }\n",
       "\n",
       "    .dataframe tbody tr th {\n",
       "        vertical-align: top;\n",
       "    }\n",
       "\n",
       "    .dataframe thead th {\n",
       "        text-align: right;\n",
       "    }\n",
       "</style>\n",
       "<table border=\"1\" class=\"dataframe\">\n",
       "  <thead>\n",
       "    <tr style=\"text-align: right;\">\n",
       "      <th></th>\n",
       "      <th>date-yyyy-mm</th>\n",
       "      <th>state</th>\n",
       "      <th>number</th>\n",
       "    </tr>\n",
       "  </thead>\n",
       "  <tbody>\n",
       "    <tr>\n",
       "      <th>Has NaN or N/A</th>\n",
       "      <td>False</td>\n",
       "      <td>False</td>\n",
       "      <td>False</td>\n",
       "    </tr>\n",
       "  </tbody>\n",
       "</table>\n",
       "</div>"
      ],
      "text/plain": [
       "                date-yyyy-mm  state  number\n",
       "Has NaN or N/A         False  False   False"
      ]
     },
     "metadata": {},
     "output_type": "display_data"
    }
   ],
   "source": [
    "force_show_all_columns(amazon_df_clean.isna().any().to_frame(name='Has NaN or N/A').transpose())"
   ]
  },
  {
   "attachments": {},
   "cell_type": "markdown",
   "metadata": {},
   "source": [
    "### Now you have to count that is there any missing value in the dataset or not ?"
   ]
  },
  {
   "cell_type": "code",
   "execution_count": 622,
   "metadata": {},
   "outputs": [
    {
     "data": {
      "text/html": [
       "<div>\n",
       "<style scoped>\n",
       "    .dataframe tbody tr th:only-of-type {\n",
       "        vertical-align: middle;\n",
       "    }\n",
       "\n",
       "    .dataframe tbody tr th {\n",
       "        vertical-align: top;\n",
       "    }\n",
       "\n",
       "    .dataframe thead th {\n",
       "        text-align: right;\n",
       "    }\n",
       "</style>\n",
       "<table border=\"1\" class=\"dataframe\">\n",
       "  <thead>\n",
       "    <tr style=\"text-align: right;\">\n",
       "      <th></th>\n",
       "      <th>date-yyyy-mm</th>\n",
       "      <th>state</th>\n",
       "      <th>number</th>\n",
       "    </tr>\n",
       "  </thead>\n",
       "  <tbody>\n",
       "    <tr>\n",
       "      <th># of null, empty, N/A</th>\n",
       "      <td>0</td>\n",
       "      <td>0</td>\n",
       "      <td>0</td>\n",
       "    </tr>\n",
       "  </tbody>\n",
       "</table>\n",
       "</div>"
      ],
      "text/plain": [
       "                       date-yyyy-mm  state  number\n",
       "# of null, empty, N/A             0      0       0"
      ]
     },
     "metadata": {},
     "output_type": "display_data"
    }
   ],
   "source": [
    "null_amazon_df = (amazon_df_clean.isna() | amazon_df_clean.eq('')).astype('bool')\n",
    "\n",
    "null_amazon_count_df = (\n",
    "    null_amazon_df\n",
    "    .sum(axis=0)\n",
    "    .to_frame(name='# of null, empty, N/A')\n",
    "    .transpose()\n",
    ")\n",
    "\n",
    "force_show_all_columns(null_amazon_count_df)"
   ]
  },
  {
   "cell_type": "code",
   "execution_count": 623,
   "metadata": {},
   "outputs": [
    {
     "data": {
      "text/plain": [
       "0"
      ]
     },
     "execution_count": 623,
     "metadata": {},
     "output_type": "execute_result"
    }
   ],
   "source": [
    "num_of_missing_values_in_dataset = list(null_amazon_count_df.sum(axis=1).values)[0]\n",
    "num_of_missing_values_in_dataset"
   ]
  },
  {
   "attachments": {},
   "cell_type": "markdown",
   "metadata": {},
   "source": [
    "### a. Please add a comment if you find any null value"
   ]
  },
  {
   "cell_type": "code",
   "execution_count": 624,
   "metadata": {},
   "outputs": [
    {
     "data": {
      "text/html": [
       "<h1>There are no missing values in the dataset.</h2>"
      ],
      "text/plain": [
       "<IPython.core.display.HTML object>"
      ]
     },
     "metadata": {},
     "output_type": "display_data"
    }
   ],
   "source": [
    "from IPython.display import HTML\n",
    "\n",
    "display(HTML(f\"\"\"<h1>There {'are no missing values' if num_of_missing_values_in_dataset <= 0\n",
    "    else 'is 1 missing value' if num_of_missing_values_in_dataset == 1\n",
    "    else f'are {num_of_missing_values_in_dataset} missing values'} in the dataset.</h2>\"\"\"))"
   ]
  },
  {
   "attachments": {},
   "cell_type": "markdown",
   "metadata": {},
   "source": [
    "## 10. Get overall statistics about the data frame."
   ]
  },
  {
   "attachments": {},
   "cell_type": "markdown",
   "metadata": {},
   "source": [
    "### a. Here you will find that you are getting only numeric columns"
   ]
  },
  {
   "cell_type": "code",
   "execution_count": 625,
   "metadata": {},
   "outputs": [
    {
     "data": {
      "text/html": [
       "<div>\n",
       "<style scoped>\n",
       "    .dataframe tbody tr th:only-of-type {\n",
       "        vertical-align: middle;\n",
       "    }\n",
       "\n",
       "    .dataframe tbody tr th {\n",
       "        vertical-align: top;\n",
       "    }\n",
       "\n",
       "    .dataframe thead th {\n",
       "        text-align: right;\n",
       "    }\n",
       "</style>\n",
       "<table border=\"1\" class=\"dataframe\">\n",
       "  <thead>\n",
       "    <tr style=\"text-align: right;\">\n",
       "      <th></th>\n",
       "      <th>number</th>\n",
       "    </tr>\n",
       "  </thead>\n",
       "  <tbody>\n",
       "    <tr>\n",
       "      <th>count</th>\n",
       "      <td>6421.0</td>\n",
       "    </tr>\n",
       "    <tr>\n",
       "      <th>mean</th>\n",
       "      <td>108.826974</td>\n",
       "    </tr>\n",
       "    <tr>\n",
       "      <th>std</th>\n",
       "      <td>191.155472</td>\n",
       "    </tr>\n",
       "    <tr>\n",
       "      <th>min</th>\n",
       "      <td>0.0</td>\n",
       "    </tr>\n",
       "    <tr>\n",
       "      <th>25%</th>\n",
       "      <td>3.0</td>\n",
       "    </tr>\n",
       "    <tr>\n",
       "      <th>50%</th>\n",
       "      <td>25.0</td>\n",
       "    </tr>\n",
       "    <tr>\n",
       "      <th>75%</th>\n",
       "      <td>114.0</td>\n",
       "    </tr>\n",
       "    <tr>\n",
       "      <th>max</th>\n",
       "      <td>998.0</td>\n",
       "    </tr>\n",
       "  </tbody>\n",
       "</table>\n",
       "</div>"
      ],
      "text/plain": [
       "           number\n",
       "count      6421.0\n",
       "mean   108.826974\n",
       "std    191.155472\n",
       "min           0.0\n",
       "25%           3.0\n",
       "50%          25.0\n",
       "75%         114.0\n",
       "max         998.0"
      ]
     },
     "execution_count": 625,
     "metadata": {},
     "output_type": "execute_result"
    }
   ],
   "source": [
    "amazon_df_clean.describe()"
   ]
  },
  {
   "attachments": {},
   "cell_type": "markdown",
   "metadata": {},
   "source": [
    "### b. Kindly show categorical columns as well, if you find any warning then kindly add extra parameters in method."
   ]
  },
  {
   "cell_type": "code",
   "execution_count": 626,
   "metadata": {},
   "outputs": [
    {
     "data": {
      "text/html": [
       "<div>\n",
       "<style scoped>\n",
       "    .dataframe tbody tr th:only-of-type {\n",
       "        vertical-align: middle;\n",
       "    }\n",
       "\n",
       "    .dataframe tbody tr th {\n",
       "        vertical-align: top;\n",
       "    }\n",
       "\n",
       "    .dataframe thead th {\n",
       "        text-align: right;\n",
       "    }\n",
       "</style>\n",
       "<table border=\"1\" class=\"dataframe\">\n",
       "  <thead>\n",
       "    <tr style=\"text-align: right;\">\n",
       "      <th></th>\n",
       "      <th>date-yyyy-mm</th>\n",
       "      <th>state</th>\n",
       "      <th>number</th>\n",
       "    </tr>\n",
       "  </thead>\n",
       "  <tbody>\n",
       "    <tr>\n",
       "      <th>count</th>\n",
       "      <td>6421</td>\n",
       "      <td>6421</td>\n",
       "      <td>6421.0</td>\n",
       "    </tr>\n",
       "    <tr>\n",
       "      <th>unique</th>\n",
       "      <td>239</td>\n",
       "      <td>23</td>\n",
       "      <td>&lt;NA&gt;</td>\n",
       "    </tr>\n",
       "    <tr>\n",
       "      <th>top</th>\n",
       "      <td>2017-06</td>\n",
       "      <td>Rio</td>\n",
       "      <td>&lt;NA&gt;</td>\n",
       "    </tr>\n",
       "    <tr>\n",
       "      <th>freq</th>\n",
       "      <td>27</td>\n",
       "      <td>696</td>\n",
       "      <td>&lt;NA&gt;</td>\n",
       "    </tr>\n",
       "    <tr>\n",
       "      <th>mean</th>\n",
       "      <td>NaN</td>\n",
       "      <td>NaN</td>\n",
       "      <td>108.826974</td>\n",
       "    </tr>\n",
       "    <tr>\n",
       "      <th>std</th>\n",
       "      <td>NaN</td>\n",
       "      <td>NaN</td>\n",
       "      <td>191.155472</td>\n",
       "    </tr>\n",
       "    <tr>\n",
       "      <th>min</th>\n",
       "      <td>NaN</td>\n",
       "      <td>NaN</td>\n",
       "      <td>0.0</td>\n",
       "    </tr>\n",
       "    <tr>\n",
       "      <th>25%</th>\n",
       "      <td>NaN</td>\n",
       "      <td>NaN</td>\n",
       "      <td>3.0</td>\n",
       "    </tr>\n",
       "    <tr>\n",
       "      <th>50%</th>\n",
       "      <td>NaN</td>\n",
       "      <td>NaN</td>\n",
       "      <td>25.0</td>\n",
       "    </tr>\n",
       "    <tr>\n",
       "      <th>75%</th>\n",
       "      <td>NaN</td>\n",
       "      <td>NaN</td>\n",
       "      <td>114.0</td>\n",
       "    </tr>\n",
       "    <tr>\n",
       "      <th>max</th>\n",
       "      <td>NaN</td>\n",
       "      <td>NaN</td>\n",
       "      <td>998.0</td>\n",
       "    </tr>\n",
       "  </tbody>\n",
       "</table>\n",
       "</div>"
      ],
      "text/plain": [
       "       date-yyyy-mm state      number\n",
       "count          6421  6421      6421.0\n",
       "unique          239    23        <NA>\n",
       "top         2017-06   Rio        <NA>\n",
       "freq             27   696        <NA>\n",
       "mean            NaN   NaN  108.826974\n",
       "std             NaN   NaN  191.155472\n",
       "min             NaN   NaN         0.0\n",
       "25%             NaN   NaN         3.0\n",
       "50%             NaN   NaN        25.0\n",
       "75%             NaN   NaN       114.0\n",
       "max             NaN   NaN       998.0"
      ]
     },
     "execution_count": 626,
     "metadata": {},
     "output_type": "execute_result"
    }
   ],
   "source": [
    "amazon_df_clean.describe(include='all')"
   ]
  },
  {
   "attachments": {},
   "cell_type": "markdown",
   "metadata": {},
   "source": [
    "## 11. Rename month names to english."
   ]
  },
  {
   "attachments": {},
   "cell_type": "markdown",
   "metadata": {},
   "source": [
    "### a. You will some columns in different language, you need to change them into english"
   ]
  },
  {
   "cell_type": "code",
   "execution_count": 627,
   "metadata": {},
   "outputs": [],
   "source": [
    "portuguese_month_english_dict = {\"janeiro\": \"january\",\n",
    "                               \"fevereiro\": \"february\",\n",
    "                               \"março\": \"march\",\n",
    "                               \"abril\": \"april\",\n",
    "                               \"maio\": \"may\",\n",
    "                               \"junho\": \"june\",\n",
    "                               \"julho\": \"july\",\n",
    "                               \"agosto\": \"august\",\n",
    "                               \"setembro\": \"september\",\n",
    "                               \"outubro\": \"october\",\n",
    "                               \"novembro\": \"november\",\n",
    "                               \"dezembro\": \"december\"\n",
    "}"
   ]
  },
  {
   "attachments": {},
   "cell_type": "markdown",
   "metadata": {},
   "source": [
    "## 12. Total number of fires registered."
   ]
  },
  {
   "cell_type": "code",
   "execution_count": 628,
   "metadata": {},
   "outputs": [
    {
     "data": {
      "text/plain": [
       "698778"
      ]
     },
     "execution_count": 628,
     "metadata": {},
     "output_type": "execute_result"
    }
   ],
   "source": [
    "amazon_df_clean['number'].sum()"
   ]
  },
  {
   "attachments": {},
   "cell_type": "markdown",
   "metadata": {},
   "source": [
    "## 13. In which month was the maximum number of forest fires reported?"
   ]
  },
  {
   "attachments": {},
   "cell_type": "markdown",
   "metadata": {},
   "source": [
    "### a. You need to create proper stats and showing them with the help of bar plot"
   ]
  },
  {
   "cell_type": "code",
   "execution_count": 629,
   "metadata": {},
   "outputs": [
    {
     "data": {
      "text/html": [
       "<div>\n",
       "<style scoped>\n",
       "    .dataframe tbody tr th:only-of-type {\n",
       "        vertical-align: middle;\n",
       "    }\n",
       "\n",
       "    .dataframe tbody tr th {\n",
       "        vertical-align: top;\n",
       "    }\n",
       "\n",
       "    .dataframe thead th {\n",
       "        text-align: right;\n",
       "    }\n",
       "</style>\n",
       "<table border=\"1\" class=\"dataframe\">\n",
       "  <thead>\n",
       "    <tr style=\"text-align: right;\">\n",
       "      <th></th>\n",
       "      <th>date-yyyy-mm</th>\n",
       "      <th>state</th>\n",
       "      <th>number</th>\n",
       "    </tr>\n",
       "  </thead>\n",
       "  <tbody>\n",
       "    <tr>\n",
       "      <th>0</th>\n",
       "      <td>1998-01</td>\n",
       "      <td>Acre</td>\n",
       "      <td>0</td>\n",
       "    </tr>\n",
       "    <tr>\n",
       "      <th>1</th>\n",
       "      <td>1999-01</td>\n",
       "      <td>Acre</td>\n",
       "      <td>0</td>\n",
       "    </tr>\n",
       "    <tr>\n",
       "      <th>2</th>\n",
       "      <td>2000-01</td>\n",
       "      <td>Acre</td>\n",
       "      <td>0</td>\n",
       "    </tr>\n",
       "    <tr>\n",
       "      <th>3</th>\n",
       "      <td>2001-01</td>\n",
       "      <td>Acre</td>\n",
       "      <td>0</td>\n",
       "    </tr>\n",
       "    <tr>\n",
       "      <th>4</th>\n",
       "      <td>2002-01</td>\n",
       "      <td>Acre</td>\n",
       "      <td>0</td>\n",
       "    </tr>\n",
       "    <tr>\n",
       "      <th>...</th>\n",
       "      <td>...</td>\n",
       "      <td>...</td>\n",
       "      <td>...</td>\n",
       "    </tr>\n",
       "    <tr>\n",
       "      <th>6449</th>\n",
       "      <td>2012-12</td>\n",
       "      <td>Tocantins</td>\n",
       "      <td>128</td>\n",
       "    </tr>\n",
       "    <tr>\n",
       "      <th>6450</th>\n",
       "      <td>2013-12</td>\n",
       "      <td>Tocantins</td>\n",
       "      <td>85</td>\n",
       "    </tr>\n",
       "    <tr>\n",
       "      <th>6451</th>\n",
       "      <td>2014-12</td>\n",
       "      <td>Tocantins</td>\n",
       "      <td>223</td>\n",
       "    </tr>\n",
       "    <tr>\n",
       "      <th>6452</th>\n",
       "      <td>2015-12</td>\n",
       "      <td>Tocantins</td>\n",
       "      <td>373</td>\n",
       "    </tr>\n",
       "    <tr>\n",
       "      <th>6453</th>\n",
       "      <td>2016-12</td>\n",
       "      <td>Tocantins</td>\n",
       "      <td>119</td>\n",
       "    </tr>\n",
       "  </tbody>\n",
       "</table>\n",
       "<p>6421 rows × 3 columns</p>\n",
       "</div>"
      ],
      "text/plain": [
       "     date-yyyy-mm      state  number\n",
       "0         1998-01       Acre       0\n",
       "1         1999-01       Acre       0\n",
       "2         2000-01       Acre       0\n",
       "3         2001-01       Acre       0\n",
       "4         2002-01       Acre       0\n",
       "...           ...        ...     ...\n",
       "6449      2012-12  Tocantins     128\n",
       "6450      2013-12  Tocantins      85\n",
       "6451      2014-12  Tocantins     223\n",
       "6452      2015-12  Tocantins     373\n",
       "6453      2016-12  Tocantins     119\n",
       "\n",
       "[6421 rows x 3 columns]"
      ]
     },
     "execution_count": 629,
     "metadata": {},
     "output_type": "execute_result"
    }
   ],
   "source": [
    "amazon_df_clean"
   ]
  },
  {
   "cell_type": "code",
   "execution_count": 630,
   "metadata": {},
   "outputs": [],
   "source": [
    "amazon_df_month_number = amazon_df_clean.copy()\n",
    "amazon_df_month_number['month'] = amazon_df_month_number['date-yyyy-mm'].str[-2:]\n",
    "amazon_df_month_number = amazon_df_month_number[['month', 'number']]"
   ]
  },
  {
   "cell_type": "code",
   "execution_count": 631,
   "metadata": {},
   "outputs": [
    {
     "data": {
      "text/html": [
       "<div>\n",
       "<style scoped>\n",
       "    .dataframe tbody tr th:only-of-type {\n",
       "        vertical-align: middle;\n",
       "    }\n",
       "\n",
       "    .dataframe tbody tr th {\n",
       "        vertical-align: top;\n",
       "    }\n",
       "\n",
       "    .dataframe thead th {\n",
       "        text-align: right;\n",
       "    }\n",
       "</style>\n",
       "<table border=\"1\" class=\"dataframe\">\n",
       "  <thead>\n",
       "    <tr style=\"text-align: right;\">\n",
       "      <th></th>\n",
       "      <th>month</th>\n",
       "      <th>number</th>\n",
       "    </tr>\n",
       "  </thead>\n",
       "  <tbody>\n",
       "    <tr>\n",
       "      <th>0</th>\n",
       "      <td>01</td>\n",
       "      <td>0</td>\n",
       "    </tr>\n",
       "    <tr>\n",
       "      <th>1</th>\n",
       "      <td>01</td>\n",
       "      <td>0</td>\n",
       "    </tr>\n",
       "    <tr>\n",
       "      <th>2</th>\n",
       "      <td>01</td>\n",
       "      <td>0</td>\n",
       "    </tr>\n",
       "    <tr>\n",
       "      <th>3</th>\n",
       "      <td>01</td>\n",
       "      <td>0</td>\n",
       "    </tr>\n",
       "    <tr>\n",
       "      <th>4</th>\n",
       "      <td>01</td>\n",
       "      <td>0</td>\n",
       "    </tr>\n",
       "    <tr>\n",
       "      <th>...</th>\n",
       "      <td>...</td>\n",
       "      <td>...</td>\n",
       "    </tr>\n",
       "    <tr>\n",
       "      <th>6449</th>\n",
       "      <td>12</td>\n",
       "      <td>128</td>\n",
       "    </tr>\n",
       "    <tr>\n",
       "      <th>6450</th>\n",
       "      <td>12</td>\n",
       "      <td>85</td>\n",
       "    </tr>\n",
       "    <tr>\n",
       "      <th>6451</th>\n",
       "      <td>12</td>\n",
       "      <td>223</td>\n",
       "    </tr>\n",
       "    <tr>\n",
       "      <th>6452</th>\n",
       "      <td>12</td>\n",
       "      <td>373</td>\n",
       "    </tr>\n",
       "    <tr>\n",
       "      <th>6453</th>\n",
       "      <td>12</td>\n",
       "      <td>119</td>\n",
       "    </tr>\n",
       "  </tbody>\n",
       "</table>\n",
       "<p>6421 rows × 2 columns</p>\n",
       "</div>"
      ],
      "text/plain": [
       "     month  number\n",
       "0       01       0\n",
       "1       01       0\n",
       "2       01       0\n",
       "3       01       0\n",
       "4       01       0\n",
       "...    ...     ...\n",
       "6449    12     128\n",
       "6450    12      85\n",
       "6451    12     223\n",
       "6452    12     373\n",
       "6453    12     119\n",
       "\n",
       "[6421 rows x 2 columns]"
      ]
     },
     "execution_count": 631,
     "metadata": {},
     "output_type": "execute_result"
    }
   ],
   "source": [
    "amazon_df_month_number"
   ]
  },
  {
   "cell_type": "code",
   "execution_count": 632,
   "metadata": {},
   "outputs": [
    {
     "data": {
      "text/plain": [
       "<Axes: xlabel='month'>"
      ]
     },
     "execution_count": 632,
     "metadata": {},
     "output_type": "execute_result"
    },
    {
     "data": {
      "image/png": "[encoded data removed]",
      "text/plain": [
       "<Figure size 640x480 with 1 Axes>"
      ]
     },
     "metadata": {},
     "output_type": "display_data"
    }
   ],
   "source": [
    "amazon_df_month_number.groupby('month').sum().plot.bar(rot=0)"
   ]
  },
  {
   "attachments": {},
   "cell_type": "markdown",
   "metadata": {},
   "source": [
    "### b. Mention in your comment what did you observe"
   ]
  },
  {
   "attachments": {},
   "cell_type": "markdown",
   "metadata": {},
   "source": [
    "Monthly average number of forest fires."
   ]
  },
  {
   "cell_type": "code",
   "execution_count": 633,
   "metadata": {},
   "outputs": [
    {
     "data": {
      "text/plain": [
       "number    58231.5\n",
       "dtype: float64"
      ]
     },
     "execution_count": 633,
     "metadata": {},
     "output_type": "execute_result"
    }
   ],
   "source": [
    "amazon_df_month_number.groupby('month').sum().mean()"
   ]
  },
  {
   "attachments": {},
   "cell_type": "markdown",
   "metadata": {},
   "source": [
    "Months February through May had the lowest number of forest fires, while July, August, October and November had the highest number of forest fires.\n",
    "\n",
    "June, September and December are months which had an average number of forest fires based on the monthly average."
   ]
  },
  {
   "attachments": {},
   "cell_type": "markdown",
   "metadata": {},
   "source": [
    "## 14. In which year was the maximum number of forest fires reported?"
   ]
  },
  {
   "cell_type": "code",
   "execution_count": 634,
   "metadata": {},
   "outputs": [],
   "source": [
    "amazon_df_year_number = amazon_df_clean.copy()\n",
    "amazon_df_year_number['year'] = amazon_df_year_number['date-yyyy-mm'].str[:4]\n",
    "amazon_df_year_number = amazon_df_year_number[['year', 'number']]"
   ]
  },
  {
   "attachments": {},
   "cell_type": "markdown",
   "metadata": {},
   "source": [
    "### a. Please visualize your output with barplot"
   ]
  },
  {
   "attachments": {},
   "cell_type": "markdown",
   "metadata": {},
   "source": [
    "The maximum number of forest fires was reported in 2003."
   ]
  },
  {
   "cell_type": "code",
   "execution_count": 635,
   "metadata": {},
   "outputs": [
    {
     "data": {
      "text/plain": [
       "<Axes: xlabel='year'>"
      ]
     },
     "execution_count": 635,
     "metadata": {},
     "output_type": "execute_result"
    },
    {
     "data": {
      "image/png": "[encoded data removed]",
      "text/plain": [
       "<Figure size 640x480 with 1 Axes>"
      ]
     },
     "metadata": {},
     "output_type": "display_data"
    }
   ],
   "source": [
    "amazon_df_year_number.groupby('year').sum().plot.bar()"
   ]
  },
  {
   "attachments": {},
   "cell_type": "markdown",
   "metadata": {},
   "source": [
    "## 15. Which state has the maximum number of forest fires reported?"
   ]
  },
  {
   "cell_type": "code",
   "execution_count": 636,
   "metadata": {},
   "outputs": [],
   "source": [
    "amazon_df_state_number = amazon_df_clean.copy()\n",
    "amazon_df_state_number = amazon_df_state_number[['state', 'number']]"
   ]
  },
  {
   "attachments": {},
   "cell_type": "markdown",
   "metadata": {},
   "source": [
    "### a. Visualization should be there"
   ]
  },
  {
   "attachments": {},
   "cell_type": "markdown",
   "metadata": {},
   "source": [
    "The maximum number of forest fires was reported in the state of Mato Grosso."
   ]
  },
  {
   "cell_type": "code",
   "execution_count": 637,
   "metadata": {},
   "outputs": [],
   "source": [
    "total_number_of_fires_reported_by_state = amazon_df_state_number.groupby('state').sum()"
   ]
  },
  {
   "cell_type": "code",
   "execution_count": 638,
   "metadata": {},
   "outputs": [
    {
     "data": {
      "text/plain": [
       "<Axes: xlabel='state'>"
      ]
     },
     "execution_count": 638,
     "metadata": {},
     "output_type": "execute_result"
    },
    {
     "data": {
      "image/png": "[encoded data removed]",
      "text/plain": [
       "<Figure size 640x480 with 1 Axes>"
      ]
     },
     "metadata": {},
     "output_type": "display_data"
    }
   ],
   "source": [
    "total_number_of_fires_reported_by_state.plot.bar()"
   ]
  },
  {
   "attachments": {},
   "cell_type": "markdown",
   "metadata": {},
   "source": [
    "### b. If find that barplot is overlapping, then please fix it using rotation"
   ]
  },
  {
   "attachments": {},
   "cell_type": "markdown",
   "metadata": {},
   "source": [
    "The barplot is not overlapping!"
   ]
  },
  {
   "attachments": {},
   "cell_type": "markdown",
   "metadata": {},
   "source": [
    "## 16. Find total number of fires were reported in amazonas (state of brazil)"
   ]
  },
  {
   "attachments": {},
   "cell_type": "markdown",
   "metadata": {},
   "source": [
    "### a. Add in comment the number of reports"
   ]
  },
  {
   "cell_type": "code",
   "execution_count": 639,
   "metadata": {},
   "outputs": [
    {
     "name": "stdout",
     "output_type": "stream",
     "text": [
      "The total number of fires reported in amazonas (state of brazil) was 30647 fires.\n"
     ]
    }
   ],
   "source": [
    "print(f\"\"\"The total number of fires reported in amazonas (state of brazil) was {\n",
    "      amazon_df_state_number\n",
    "      .groupby('state')\n",
    "      .sum()\n",
    "      .loc['Amazonas']\n",
    "      .values[0]\n",
    "      } fires.\"\"\")"
   ]
  },
  {
   "attachments": {},
   "cell_type": "markdown",
   "metadata": {},
   "source": [
    "## 17. Display number of fires were reported in amazon (year-wise)"
   ]
  },
  {
   "attachments": {},
   "cell_type": "markdown",
   "metadata": {},
   "source": [
    "### a. Kindly visualize it using barplot after having groupby"
   ]
  },
  {
   "cell_type": "code",
   "execution_count": 640,
   "metadata": {},
   "outputs": [
    {
     "data": {
      "text/plain": [
       "<Axes: xlabel='year'>"
      ]
     },
     "execution_count": 640,
     "metadata": {},
     "output_type": "execute_result"
    },
    {
     "data": {
      "image/png": "[encoded data removed]",
      "text/plain": [
       "<Figure size 640x480 with 1 Axes>"
      ]
     },
     "metadata": {},
     "output_type": "display_data"
    }
   ],
   "source": [
    "amazon_df_year_number.groupby('year').sum().plot.bar()"
   ]
  },
  {
   "attachments": {},
   "cell_type": "markdown",
   "metadata": {},
   "source": [
    "### b. Please take care of plot overlapping (it should be neat and clean)"
   ]
  },
  {
   "cell_type": "code",
   "execution_count": 641,
   "metadata": {},
   "outputs": [
    {
     "data": {
      "text/plain": [
       "<Axes: xlabel='year'>"
      ]
     },
     "execution_count": 641,
     "metadata": {},
     "output_type": "execute_result"
    },
    {
     "data": {
      "image/png": "[encoded data removed]",
      "text/plain": [
       "<Figure size 1000x500 with 1 Axes>"
      ]
     },
     "metadata": {},
     "output_type": "display_data"
    }
   ],
   "source": [
    "amazon_df_year_number.groupby('year').sum().plot.bar(rot=45, figsize=(10, 5))"
   ]
  },
  {
   "attachments": {},
   "cell_type": "markdown",
   "metadata": {},
   "source": [
    "## 18. Display number of fires were reported in amazon (day-wise)"
   ]
  },
  {
   "attachments": {},
   "cell_type": "markdown",
   "metadata": {},
   "source": [
    "### a. You need to visualize the result using weekdays name"
   ]
  },
  {
   "cell_type": "code",
   "execution_count": 642,
   "metadata": {},
   "outputs": [],
   "source": [
    "day_of_week_name_dict = {0: \"Monday\",\n",
    "                         1: \"Tuesday\",\n",
    "                         2: \"Wednesday\",\n",
    "                         3: \"Thursday\",\n",
    "                         4: \"Friday\",\n",
    "                         5: \"Saturday\",\n",
    "                         6: \"Sunday\"}"
   ]
  },
  {
   "cell_type": "code",
   "execution_count": 643,
   "metadata": {},
   "outputs": [],
   "source": [
    "amazon_df_weekday_number = amazon_df_clean.copy()\n",
    "amazon_df_weekday_number['weekday'] = (pd.to_datetime(\n",
    "                                        amazon_df_weekday_number['date-yyyy-mm'],\n",
    "                                        format='%Y-%m')\n",
    "                                       .dt\n",
    "                                       .dayofweek\n",
    "                                       )\n",
    "amazon_df_weekday_number = amazon_df_weekday_number[['weekday', 'number']]"
   ]
  },
  {
   "cell_type": "code",
   "execution_count": 644,
   "metadata": {},
   "outputs": [
    {
     "data": {
      "text/html": [
       "<div>\n",
       "<style scoped>\n",
       "    .dataframe tbody tr th:only-of-type {\n",
       "        vertical-align: middle;\n",
       "    }\n",
       "\n",
       "    .dataframe tbody tr th {\n",
       "        vertical-align: top;\n",
       "    }\n",
       "\n",
       "    .dataframe thead th {\n",
       "        text-align: right;\n",
       "    }\n",
       "</style>\n",
       "<table border=\"1\" class=\"dataframe\">\n",
       "  <thead>\n",
       "    <tr style=\"text-align: right;\">\n",
       "      <th></th>\n",
       "      <th>weekday</th>\n",
       "      <th>number</th>\n",
       "    </tr>\n",
       "  </thead>\n",
       "  <tbody>\n",
       "    <tr>\n",
       "      <th>0</th>\n",
       "      <td>3</td>\n",
       "      <td>0</td>\n",
       "    </tr>\n",
       "    <tr>\n",
       "      <th>1</th>\n",
       "      <td>4</td>\n",
       "      <td>0</td>\n",
       "    </tr>\n",
       "    <tr>\n",
       "      <th>2</th>\n",
       "      <td>5</td>\n",
       "      <td>0</td>\n",
       "    </tr>\n",
       "    <tr>\n",
       "      <th>3</th>\n",
       "      <td>0</td>\n",
       "      <td>0</td>\n",
       "    </tr>\n",
       "    <tr>\n",
       "      <th>4</th>\n",
       "      <td>1</td>\n",
       "      <td>0</td>\n",
       "    </tr>\n",
       "    <tr>\n",
       "      <th>...</th>\n",
       "      <td>...</td>\n",
       "      <td>...</td>\n",
       "    </tr>\n",
       "    <tr>\n",
       "      <th>6449</th>\n",
       "      <td>5</td>\n",
       "      <td>128</td>\n",
       "    </tr>\n",
       "    <tr>\n",
       "      <th>6450</th>\n",
       "      <td>6</td>\n",
       "      <td>85</td>\n",
       "    </tr>\n",
       "    <tr>\n",
       "      <th>6451</th>\n",
       "      <td>0</td>\n",
       "      <td>223</td>\n",
       "    </tr>\n",
       "    <tr>\n",
       "      <th>6452</th>\n",
       "      <td>1</td>\n",
       "      <td>373</td>\n",
       "    </tr>\n",
       "    <tr>\n",
       "      <th>6453</th>\n",
       "      <td>3</td>\n",
       "      <td>119</td>\n",
       "    </tr>\n",
       "  </tbody>\n",
       "</table>\n",
       "<p>6421 rows × 2 columns</p>\n",
       "</div>"
      ],
      "text/plain": [
       "      weekday  number\n",
       "0           3       0\n",
       "1           4       0\n",
       "2           5       0\n",
       "3           0       0\n",
       "4           1       0\n",
       "...       ...     ...\n",
       "6449        5     128\n",
       "6450        6      85\n",
       "6451        0     223\n",
       "6452        1     373\n",
       "6453        3     119\n",
       "\n",
       "[6421 rows x 2 columns]"
      ]
     },
     "execution_count": 644,
     "metadata": {},
     "output_type": "execute_result"
    }
   ],
   "source": [
    "amazon_df_weekday_number"
   ]
  },
  {
   "cell_type": "code",
   "execution_count": 645,
   "metadata": {},
   "outputs": [],
   "source": [
    "amazon_df_weekday_number['weekday'] = amazon_df_weekday_number['weekday'].replace(day_of_week_name_dict)"
   ]
  },
  {
   "cell_type": "code",
   "execution_count": 646,
   "metadata": {},
   "outputs": [],
   "source": [
    "amazon_df_weekday_number['weekday'] = amazon_df_weekday_number['weekday'].astype(\"category\")"
   ]
  },
  {
   "cell_type": "code",
   "execution_count": 647,
   "metadata": {},
   "outputs": [],
   "source": [
    "amazon_df_weekday_number['weekday'] = (amazon_df_weekday_number['weekday']\n",
    "                                       .cat\n",
    "                                       .reorder_categories(\n",
    "                                        ['Monday', 'Tuesday', 'Wednesday', 'Thursday', 'Friday', 'Saturday', 'Sunday'],\n",
    "                                        ordered=True)\n",
    "                                       )"
   ]
  },
  {
   "cell_type": "code",
   "execution_count": 648,
   "metadata": {},
   "outputs": [
    {
     "data": {
      "text/plain": [
       "<Axes: xlabel='weekday'>"
      ]
     },
     "execution_count": 648,
     "metadata": {},
     "output_type": "execute_result"
    },
    {
     "data": {
      "image/png": "[encoded data removed]",
      "text/plain": [
       "<Figure size 640x480 with 1 Axes>"
      ]
     },
     "metadata": {},
     "output_type": "display_data"
    }
   ],
   "source": [
    "amazon_df_weekday_number.groupby('weekday').sum().plot.bar(rot=45)"
   ]
  },
  {
   "cell_type": "code",
   "execution_count": 649,
   "metadata": {},
   "outputs": [
    {
     "data": {
      "text/html": [
       "<div>\n",
       "<style scoped>\n",
       "    .dataframe tbody tr th:only-of-type {\n",
       "        vertical-align: middle;\n",
       "    }\n",
       "\n",
       "    .dataframe tbody tr th {\n",
       "        vertical-align: top;\n",
       "    }\n",
       "\n",
       "    .dataframe thead th {\n",
       "        text-align: right;\n",
       "    }\n",
       "</style>\n",
       "<table border=\"1\" class=\"dataframe\">\n",
       "  <thead>\n",
       "    <tr style=\"text-align: right;\">\n",
       "      <th></th>\n",
       "      <th>number</th>\n",
       "    </tr>\n",
       "    <tr>\n",
       "      <th>weekday</th>\n",
       "      <th></th>\n",
       "    </tr>\n",
       "  </thead>\n",
       "  <tbody>\n",
       "    <tr>\n",
       "      <th>Sunday</th>\n",
       "      <td>94824</td>\n",
       "    </tr>\n",
       "    <tr>\n",
       "      <th>Friday</th>\n",
       "      <td>95574</td>\n",
       "    </tr>\n",
       "    <tr>\n",
       "      <th>Monday</th>\n",
       "      <td>96382</td>\n",
       "    </tr>\n",
       "    <tr>\n",
       "      <th>Thursday</th>\n",
       "      <td>100328</td>\n",
       "    </tr>\n",
       "    <tr>\n",
       "      <th>Tuesday</th>\n",
       "      <td>100774</td>\n",
       "    </tr>\n",
       "    <tr>\n",
       "      <th>Saturday</th>\n",
       "      <td>101203</td>\n",
       "    </tr>\n",
       "    <tr>\n",
       "      <th>Wednesday</th>\n",
       "      <td>109693</td>\n",
       "    </tr>\n",
       "  </tbody>\n",
       "</table>\n",
       "</div>"
      ],
      "text/plain": [
       "           number\n",
       "weekday          \n",
       "Sunday      94824\n",
       "Friday      95574\n",
       "Monday      96382\n",
       "Thursday   100328\n",
       "Tuesday    100774\n",
       "Saturday   101203\n",
       "Wednesday  109693"
      ]
     },
     "execution_count": 649,
     "metadata": {},
     "output_type": "execute_result"
    }
   ],
   "source": [
    "amazon_df_weekday_number.groupby('weekday').sum().sort_values('number')"
   ]
  },
  {
   "attachments": {},
   "cell_type": "markdown",
   "metadata": {},
   "source": [
    "### b. Don’t forget to mention your observation in comment"
   ]
  },
  {
   "attachments": {},
   "cell_type": "markdown",
   "metadata": {},
   "source": [
    "The day of the week with the highest number of fires reported was Wednesday.\n",
    "\n",
    "The day of the week with the lowest number of fires reported was Sunday."
   ]
  },
  {
   "attachments": {},
   "cell_type": "markdown",
   "metadata": {},
   "source": [
    "## 19. Find the total number of fires reported in 2015 and visualize data based on each ‘month’."
   ]
  },
  {
   "attachments": {},
   "cell_type": "markdown",
   "metadata": {},
   "source": [
    "### a. Showing output with beautiful barplot"
   ]
  },
  {
   "cell_type": "code",
   "execution_count": 650,
   "metadata": {},
   "outputs": [],
   "source": [
    "amazon_df_year_month_number = amazon_df_clean.copy()\n",
    "amazon_df_year_month_number['year'] = amazon_df_year_month_number['date-yyyy-mm'].str[:4]\n",
    "amazon_df_year_month_number['month'] = amazon_df_year_month_number['date-yyyy-mm'].str[-2:]\n",
    "amazon_df_year_month_number = amazon_df_year_month_number[['month', 'year', 'number']]"
   ]
  },
  {
   "cell_type": "code",
   "execution_count": 651,
   "metadata": {},
   "outputs": [
    {
     "name": "stdout",
     "output_type": "stream",
     "text": [
      "698778 fires reported in 2015.\n"
     ]
    }
   ],
   "source": [
    "print(f\"{amazon_df_year_month_number.groupby('year').sum(numeric_only=True).sum().values[0]} fires reported in 2015.\")"
   ]
  },
  {
   "cell_type": "code",
   "execution_count": 652,
   "metadata": {},
   "outputs": [
    {
     "data": {
      "text/html": [
       "<div>\n",
       "<style scoped>\n",
       "    .dataframe tbody tr th:only-of-type {\n",
       "        vertical-align: middle;\n",
       "    }\n",
       "\n",
       "    .dataframe tbody tr th {\n",
       "        vertical-align: top;\n",
       "    }\n",
       "\n",
       "    .dataframe thead th {\n",
       "        text-align: right;\n",
       "    }\n",
       "</style>\n",
       "<table border=\"1\" class=\"dataframe\">\n",
       "  <thead>\n",
       "    <tr style=\"text-align: right;\">\n",
       "      <th></th>\n",
       "      <th>number</th>\n",
       "    </tr>\n",
       "    <tr>\n",
       "      <th>year</th>\n",
       "      <th></th>\n",
       "    </tr>\n",
       "  </thead>\n",
       "  <tbody>\n",
       "    <tr>\n",
       "      <th>1998</th>\n",
       "      <td>20014</td>\n",
       "    </tr>\n",
       "    <tr>\n",
       "      <th>1999</th>\n",
       "      <td>26879</td>\n",
       "    </tr>\n",
       "    <tr>\n",
       "      <th>2000</th>\n",
       "      <td>27348</td>\n",
       "    </tr>\n",
       "    <tr>\n",
       "      <th>2001</th>\n",
       "      <td>29055</td>\n",
       "    </tr>\n",
       "    <tr>\n",
       "      <th>2002</th>\n",
       "      <td>37389</td>\n",
       "    </tr>\n",
       "    <tr>\n",
       "      <th>2003</th>\n",
       "      <td>42756</td>\n",
       "    </tr>\n",
       "    <tr>\n",
       "      <th>2004</th>\n",
       "      <td>38448</td>\n",
       "    </tr>\n",
       "    <tr>\n",
       "      <th>2005</th>\n",
       "      <td>35003</td>\n",
       "    </tr>\n",
       "    <tr>\n",
       "      <th>2006</th>\n",
       "      <td>33821</td>\n",
       "    </tr>\n",
       "    <tr>\n",
       "      <th>2007</th>\n",
       "      <td>33026</td>\n",
       "    </tr>\n",
       "    <tr>\n",
       "      <th>2008</th>\n",
       "      <td>29378</td>\n",
       "    </tr>\n",
       "    <tr>\n",
       "      <th>2009</th>\n",
       "      <td>39115</td>\n",
       "    </tr>\n",
       "    <tr>\n",
       "      <th>2010</th>\n",
       "      <td>37035</td>\n",
       "    </tr>\n",
       "    <tr>\n",
       "      <th>2011</th>\n",
       "      <td>34632</td>\n",
       "    </tr>\n",
       "    <tr>\n",
       "      <th>2012</th>\n",
       "      <td>40084</td>\n",
       "    </tr>\n",
       "    <tr>\n",
       "      <th>2013</th>\n",
       "      <td>35138</td>\n",
       "    </tr>\n",
       "    <tr>\n",
       "      <th>2014</th>\n",
       "      <td>39621</td>\n",
       "    </tr>\n",
       "    <tr>\n",
       "      <th>2015</th>\n",
       "      <td>41208</td>\n",
       "    </tr>\n",
       "    <tr>\n",
       "      <th>2016</th>\n",
       "      <td>42209</td>\n",
       "    </tr>\n",
       "    <tr>\n",
       "      <th>2017</th>\n",
       "      <td>36619</td>\n",
       "    </tr>\n",
       "  </tbody>\n",
       "</table>\n",
       "</div>"
      ],
      "text/plain": [
       "      number\n",
       "year        \n",
       "1998   20014\n",
       "1999   26879\n",
       "2000   27348\n",
       "2001   29055\n",
       "2002   37389\n",
       "2003   42756\n",
       "2004   38448\n",
       "2005   35003\n",
       "2006   33821\n",
       "2007   33026\n",
       "2008   29378\n",
       "2009   39115\n",
       "2010   37035\n",
       "2011   34632\n",
       "2012   40084\n",
       "2013   35138\n",
       "2014   39621\n",
       "2015   41208\n",
       "2016   42209\n",
       "2017   36619"
      ]
     },
     "execution_count": 652,
     "metadata": {},
     "output_type": "execute_result"
    }
   ],
   "source": [
    "amazon_df_year_month_number.groupby('year').sum(numeric_only=True)"
   ]
  },
  {
   "cell_type": "code",
   "execution_count": 653,
   "metadata": {},
   "outputs": [
    {
     "data": {
      "text/plain": [
       "<Axes: title={'center': 'Number Of Fires Reported In The Amazon In 2015'}, xlabel='month'>"
      ]
     },
     "execution_count": 653,
     "metadata": {},
     "output_type": "execute_result"
    },
    {
     "data": {
      "image/png": "[encoded data removed]",
      "text/plain": [
       "<Figure size 640x480 with 1 Axes>"
      ]
     },
     "metadata": {},
     "output_type": "display_data"
    }
   ],
   "source": [
    "(amazon_df_year_month_number\n",
    "    .loc[amazon_df_year_month_number['year'] == '2015']\n",
    "    .groupby('month')\n",
    "    .sum()\n",
    "    .plot\n",
    "    .bar(title='Number of fires reported in the Amazon in 2015'.title(), rot=0)\n",
    "    )"
   ]
  },
  {
   "attachments": {},
   "cell_type": "markdown",
   "metadata": {},
   "source": [
    "### b. Mention your observation in comment"
   ]
  },
  {
   "attachments": {},
   "cell_type": "markdown",
   "metadata": {},
   "source": [
    "Contrary to the overall monthly reporting trends, in 2015 specifically, January was the month with the highest number of fires reported."
   ]
  },
  {
   "attachments": {},
   "cell_type": "markdown",
   "metadata": {},
   "source": [
    "## 20. Find the average number of fires reported from highest to lowest (state-wise)."
   ]
  },
  {
   "attachments": {},
   "cell_type": "markdown",
   "metadata": {},
   "source": [
    "### a. Visualization should be there with proper observation"
   ]
  },
  {
   "cell_type": "code",
   "execution_count": 654,
   "metadata": {},
   "outputs": [],
   "source": [
    "avg_number_of_fires_reported_by_state = (amazon_df_state_number\n",
    " .groupby('state')\n",
    " .mean()\n",
    " .sort_values('number', ascending=False)\n",
    ")"
   ]
  },
  {
   "attachments": {},
   "cell_type": "markdown",
   "metadata": {},
   "source": [
    "Sao Paulo has the highest average number of fires reported, while their total number of fires reported is relatively low.\n",
    "\n",
    "Rio has a large total number of fires reported, while their average number of fires reported is relatively lower.\n",
    "\n",
    "This means that Sao Paulo has a more evenly spread number of fires throughout the year, while Rio has a less even distribution of fire reports throughout the year."
   ]
  },
  {
   "cell_type": "code",
   "execution_count": 655,
   "metadata": {},
   "outputs": [
    {
     "data": {
      "image/png": "[encoded data removed]",
      "text/plain": [
       "<Figure size 1500x900 with 2 Axes>"
      ]
     },
     "metadata": {},
     "output_type": "display_data"
    }
   ],
   "source": [
    "fig, axs = plt.subplots(2, 1, figsize=(15,9))\n",
    "\n",
    "plt.subplot(211)\n",
    "sns.barplot(x=avg_number_of_fires_reported_by_state.index,\n",
    "            y=avg_number_of_fires_reported_by_state['number'], color='navy')\n",
    "axs[0].get_xaxis().set_visible(False)\n",
    "plt.title('Average number of fires reported, from highest to lowest (state-wise)'.title())\n",
    "\n",
    "plt.subplot(212)\n",
    "sns.barplot(x=total_number_of_fires_reported_by_state.index, y=total_number_of_fires_reported_by_state['number'],\n",
    "            order=avg_number_of_fires_reported_by_state.index, color='navy')\n",
    "plt.xticks(rotation=45)\n",
    "plt.title('Total reported fires per state'.title());"
   ]
  },
  {
   "attachments": {},
   "cell_type": "markdown",
   "metadata": {},
   "source": [
    "## 21. To find the state names where fires were reported in 'dec' month."
   ]
  },
  {
   "cell_type": "code",
   "execution_count": 656,
   "metadata": {},
   "outputs": [],
   "source": [
    "amazon_df_state_month_number = amazon_df_clean.copy()\n",
    "amazon_df_state_month_number['month'] = amazon_df_state_month_number['date-yyyy-mm'].str[-2:]\n",
    "amazon_df_state_month_number = amazon_df_state_month_number[['month', 'state', 'number']]"
   ]
  },
  {
   "cell_type": "code",
   "execution_count": 657,
   "metadata": {},
   "outputs": [],
   "source": [
    "total_number_of_fires_in_dec_by_state = (amazon_df_state_month_number\n",
    "                                                       .loc[amazon_df_state_month_number['month'] == '12']\n",
    "                                                       .groupby('state')\n",
    "                                                       .sum(numeric_only=True)\n",
    "                                                       .sort_values('number', ascending=False)\n",
    ")"
   ]
  },
  {
   "cell_type": "code",
   "execution_count": 658,
   "metadata": {},
   "outputs": [
    {
     "data": {
      "image/png": "[encoded data removed]",
      "text/plain": [
       "<Figure size 1500x900 with 1 Axes>"
      ]
     },
     "metadata": {},
     "output_type": "display_data"
    }
   ],
   "source": [
    "fig, ax = plt.subplots(1, 1, figsize=(15,9))\n",
    "\n",
    "bars = ax.bar(x=total_number_of_fires_in_dec_by_state.index,\n",
    "              height=total_number_of_fires_in_dec_by_state['number'])\n",
    "\n",
    "plt.xticks(rotation=45)\n",
    "ax.bar_label(bars)\n",
    "plt.title('Number of Fires reported in December, per state'.title());"
   ]
  },
  {
   "attachments": {},
   "cell_type": "markdown",
   "metadata": {},
   "source": [
    "## Bonus: Export dataframe to desired location with no index column"
   ]
  },
  {
   "attachments": {},
   "cell_type": "markdown",
   "metadata": {},
   "source": [
    "### Data Visualization/Analysis Additions Before Exporting"
   ]
  },
  {
   "cell_type": "code",
   "execution_count": 87,
   "metadata": {},
   "outputs": [],
   "source": [
    "amazon_df_clean.columns = amazon_df_clean.columns.str.replace('_', ' ').str.title()"
   ]
  },
  {
   "attachments": {},
   "cell_type": "markdown",
   "metadata": {},
   "source": [
    "### Export Cleaned Dataframe to File"
   ]
  },
  {
   "cell_type": "code",
   "execution_count": 88,
   "metadata": {},
   "outputs": [],
   "source": [
    "amazon_df_clean.to_csv('amazon_clean.csv', index=False)"
   ]
  }
 ],
 "metadata": {
  "kernelspec": {
   "display_name": "base",
   "language": "python",
   "name": "python3"
  },
  "language_info": {
   "codemirror_mode": {
    "name": "ipython",
    "version": 3
   },
   "file_extension": ".py",
   "mimetype": "text/x-python",
   "name": "python",
   "nbconvert_exporter": "python",
   "pygments_lexer": "ipython3",
   "version": "3.11.3"
  },
  "orig_nbformat": 4
 },
 "nbformat": 4,
 "nbformat_minor": 2
}
