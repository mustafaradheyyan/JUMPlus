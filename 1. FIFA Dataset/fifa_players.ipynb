{
 "cells": [
  {
   "attachments": {},
   "cell_type": "markdown",
   "metadata": {},
   "source": [
    "#### Author: Mustafa Radheyyan\n",
    "#### Date: 04/03/2023\n",
    "#### Assignment: Cognixia JUMPlus Python Project 1\n",
    "~~~~~~~~~~~~~~~~~~~~~~~~~~~~~~~~~~~~~~~~~~~~~~~~~"
   ]
  },
  {
   "attachments": {},
   "cell_type": "markdown",
   "metadata": {},
   "source": [
    "#### Imports and Constants"
   ]
  },
  {
   "attachments": {},
   "cell_type": "markdown",
   "metadata": {},
   "source": [
    "If CurrencyConverter is not installed, then uncomment below and install it"
   ]
  },
  {
   "cell_type": "code",
   "execution_count": null,
   "metadata": {},
   "outputs": [],
   "source": [
    "# %pip install CurrencyConverter"
   ]
  },
  {
   "cell_type": "code",
   "execution_count": null,
   "metadata": {},
   "outputs": [],
   "source": [
    "import pandas as pd"
   ]
  },
  {
   "cell_type": "code",
   "execution_count": null,
   "metadata": {},
   "outputs": [],
   "source": [
    "FIFA_PLAYERS_CSV_PATH = 'players_20.csv'"
   ]
  },
  {
   "cell_type": "code",
   "execution_count": null,
   "metadata": {},
   "outputs": [],
   "source": [
    "TOP_FIVE = 5\n",
    "TOP_TEN = 10"
   ]
  },
  {
   "attachments": {},
   "cell_type": "markdown",
   "metadata": {},
   "source": [
    "Helper functions for displaying Pandas DataFrame and Series objects within a context manager"
   ]
  },
  {
   "cell_type": "code",
   "execution_count": null,
   "metadata": {},
   "outputs": [],
   "source": [
    "def force_show_all_columns(df):\n",
    "    with pd.option_context('display.max_columns', None, 'display.width', None):\n",
    "        display(df)"
   ]
  },
  {
   "cell_type": "code",
   "execution_count": null,
   "metadata": {},
   "outputs": [],
   "source": [
    "def force_show_all_rows(df):\n",
    "    with pd.option_context('display.max_rows', None, 'display.width', None):\n",
    "        display(df)"
   ]
  },
  {
   "cell_type": "code",
   "execution_count": null,
   "metadata": {},
   "outputs": [],
   "source": [
    "def force_show_max_width(df):\n",
    "    with pd.option_context('display.max_colwidth', None, 'display.width', None):\n",
    "        display(df)"
   ]
  },
  {
   "cell_type": "code",
   "execution_count": null,
   "metadata": {},
   "outputs": [],
   "source": [
    "def compact_style(df):\n",
    "    df = (\n",
    "        df.style.set_table_styles([\n",
    "            {\"selector\": \"tr\", \"props\": \"line-height: 12px;\"},\n",
    "            {\"selector\": \"td,th\", \"props\": \"line-height: inherit; padding: 1;\"}\n",
    "]))\n",
    "    return df"
   ]
  },
  {
   "attachments": {},
   "cell_type": "markdown",
   "metadata": {},
   "source": [
    "## 1. Load the csv file and show <span style=\"color:#FF6000;font-style:oblique;\">top 5 records</span> from it."
   ]
  },
  {
   "attachments": {},
   "cell_type": "markdown",
   "metadata": {},
   "source": [
    "Before setting the index column to be \"sofifa_id\", I verified that the values of the column were completely unique."
   ]
  },
  {
   "cell_type": "code",
   "execution_count": null,
   "metadata": {},
   "outputs": [],
   "source": [
    "fifa_players_df = pd.read_csv(FIFA_PLAYERS_CSV_PATH)\n",
    "print(f\"The number of unique IDs is: {len(fifa_players_df.sofifa_id.unique())}, compared to the number of rows total: {len(fifa_players_df)}\")\n",
    "fifa_players_df = pd.read_csv(FIFA_PLAYERS_CSV_PATH, index_col='sofifa_id')\n",
    "fifa_players_df.head()"
   ]
  },
  {
   "attachments": {},
   "cell_type": "markdown",
   "metadata": {},
   "source": [
    "## <span style=\"color:gold;font-style:italic;\">Data Cleaning</span>"
   ]
  },
  {
   "attachments": {},
   "cell_type": "markdown",
   "metadata": {},
   "source": [
    "#### Examining the data types of the DataFrame's columns"
   ]
  },
  {
   "cell_type": "code",
   "execution_count": null,
   "metadata": {},
   "outputs": [],
   "source": [
    "print(list(fifa_players_df.columns))"
   ]
  },
  {
   "cell_type": "code",
   "execution_count": null,
   "metadata": {},
   "outputs": [],
   "source": [
    "def show_df_dtypes(df):\n",
    "    dtypes_df = df.dtypes\n",
    "    dtypes_df = (\n",
    "        dtypes_df\n",
    "        .astype(\"str\")\n",
    "        .to_frame(name=\"dtype\")\n",
    "    )\n",
    "    dtypes_df.index.names = [\"column\"]\n",
    "    \n",
    "    dtypes_df = (\n",
    "        dtypes_df\n",
    "        .sort_values('dtype', key=lambda col: col.str.lower())\n",
    "    )\n",
    "    dtypes_df = compact_style(dtypes_df)\n",
    "    \n",
    "    force_show_all_rows(dtypes_df)"
   ]
  },
  {
   "cell_type": "code",
   "execution_count": null,
   "metadata": {},
   "outputs": [],
   "source": [
    "show_df_dtypes(fifa_players_df)"
   ]
  },
  {
   "attachments": {},
   "cell_type": "markdown",
   "metadata": {},
   "source": [
    "#### Data Cleaning Functions"
   ]
  },
  {
   "attachments": {},
   "cell_type": "markdown",
   "metadata": {},
   "source": [
    "Initializing the currency converter with daily Euro FX values"
   ]
  },
  {
   "cell_type": "code",
   "execution_count": null,
   "metadata": {},
   "outputs": [],
   "source": [
    "from currency_converter import CurrencyConverter, SINGLE_DAY_ECB_URL\n",
    "\n",
    "# Load the packaged data (might not be up to date)\n",
    "c = CurrencyConverter()\n",
    "\n",
    "# Dowload only the latest available day. Current value is:\n",
    "# https://www.ecb.europa.eu/stats/eurofxref/eurofxref.zip\n",
    "c = CurrencyConverter(SINGLE_DAY_ECB_URL)"
   ]
  },
  {
   "attachments": {},
   "cell_type": "markdown",
   "metadata": {},
   "source": [
    "Helper function to convert currency using passed in arguments"
   ]
  },
  {
   "cell_type": "code",
   "execution_count": null,
   "metadata": {},
   "outputs": [],
   "source": [
    "def convert_currency(value, from_cur, to_cur):\n",
    "    return c.convert(value, from_cur, to_cur)"
   ]
  },
  {
   "attachments": {},
   "cell_type": "markdown",
   "metadata": {},
   "source": [
    "Testing out the currency function separately"
   ]
  },
  {
   "cell_type": "code",
   "execution_count": null,
   "metadata": {},
   "outputs": [],
   "source": [
    "convert_currency(10, 'EUR', 'USD')"
   ]
  },
  {
   "attachments": {},
   "cell_type": "markdown",
   "metadata": {},
   "source": [
    "Extract individual unique values from object (string) column formatted as such: \"abc, def, ghi\""
   ]
  },
  {
   "cell_type": "code",
   "execution_count": null,
   "metadata": {},
   "outputs": [],
   "source": [
    "def extract_csv_column(df: pd.DataFrame):\n",
    "    df = (\n",
    "        df.str.split()\n",
    "          .explode()\n",
    "          .str.replace(',', \"\")\n",
    "          .drop_duplicates()\n",
    "          )\n",
    "    return df"
   ]
  },
  {
   "attachments": {},
   "cell_type": "markdown",
   "metadata": {},
   "source": [
    "Retrieve all of the unique soccer player positions from the DataFrame"
   ]
  },
  {
   "cell_type": "code",
   "execution_count": null,
   "metadata": {},
   "outputs": [],
   "source": [
    "player_positions_column = extract_csv_column(fifa_players_df['player_positions']) \n",
    "combination_position_column = pd.concat([fifa_players_df['nation_position'], fifa_players_df['team_position'], player_positions_column])\n",
    "print(list((\n",
    "    combination_position_column\n",
    "    .dropna()\n",
    "    .drop_duplicates()\n",
    "    .sort_values()\n",
    "    )))"
   ]
  },
  {
   "cell_type": "code",
   "execution_count": null,
   "metadata": {},
   "outputs": [],
   "source": [
    "print([column for column in sorted(list(fifa_players_df.columns)) if len(column) <= 3 and (column != \"age\" and column != \"dob\")])"
   ]
  },
  {
   "cell_type": "code",
   "execution_count": null,
   "metadata": {},
   "outputs": [],
   "source": [
    "position_names_from_columns = ['cam', 'cb', 'cdm', 'cf', 'cm', 'lam', 'lb', 'lcb', 'lcm', 'ldm', 'lf', 'lm', 'ls', 'lw', 'lwb', 'ram', 'rb', 'rcb', 'rcm', 'rdm', 'rf', 'rm', 'rs', 'rw', 'rwb', 'st']\n",
    "position_names_from_rows = ['CAM', 'CB', 'CDM', 'CF', 'CM', 'GK', 'LAM', 'LB', 'LCB', 'LCM', 'LDM', 'LF', 'LM', 'LS', 'LW', 'LWB', 'RAM', 'RB', 'RCB', 'RCM', 'RDM', 'RES', 'RF', 'RM', 'RS', 'RW', 'RWB', 'ST', 'SUB']"
   ]
  },
  {
   "cell_type": "code",
   "execution_count": null,
   "metadata": {},
   "outputs": [],
   "source": [
    "column_position_uppercase = [position.upper() for position in position_names_from_columns]\n",
    "column_position_uppercase.extend(position_names_from_rows)\n",
    "unique_position_names = set(column_position_uppercase)\n",
    "print(sorted(unique_position_names))"
   ]
  },
  {
   "attachments": {},
   "cell_type": "markdown",
   "metadata": {},
   "source": [
    "Dictionary for replacing abbreviated position names with full words"
   ]
  },
  {
   "cell_type": "code",
   "execution_count": null,
   "metadata": {},
   "outputs": [],
   "source": [
    "soccer_position_abbreviation_dict = {\n",
    "    'CAM': \"Center Attacking Midfielder\", 'CB': \"Center Back\", 'CDM': \"Center Defending Midfielder\", 'CF': \"Center Forward\",\n",
    "    'CM': \"Center Midfielder\", 'GK': \"Goalkeeper\", 'LAM': \"Left Attacking Midfielder\", 'LB': \"Left Back\",\n",
    "    'LCB': \"Left Center Back\", 'LCM': \"Left Center Midfielder\", 'LDM': \"Left Defensive Midfielder\", 'LF': \"Left Forward\", 'LM': \"Left Midfielder\",\n",
    "    'LS': \"Left Striker\", 'LW': \"Left Wing\", 'LWB': \"Left Wing Back\", 'RAM': \"Right Attacking Midfielder\", \n",
    "    'RB': \"Right Back\", 'RCB': \"Right Center Back\", 'RCM': \"Right Center Midfielder\", 'RDM': \"Right Defensive Midfielder\",\n",
    "    'RES': \"Reserve\", 'RF': \"Right Forward\", 'RM': \"Right Midfielder\", 'RS': \"Right Striker\", 'RW': \"Right Wing\",\n",
    "    'RWB': \"Right Wing Back\", 'ST': \"Striker\", 'SUB': \"Substitute\"\n",
    "}"
   ]
  },
  {
   "attachments": {},
   "cell_type": "markdown",
   "metadata": {},
   "source": [
    "Make soccer position abbreviation key lowercase and value snake case"
   ]
  },
  {
   "cell_type": "code",
   "execution_count": null,
   "metadata": {},
   "outputs": [],
   "source": [
    "column_abbreviation_dict = {key.lower(): soccer_position_abbreviation_dict[key].replace(\" \", \"_\").lower() for key in soccer_position_abbreviation_dict}"
   ]
  },
  {
   "cell_type": "code",
   "execution_count": null,
   "metadata": {},
   "outputs": [],
   "source": [
    "real_face_replacement_dict = {\n",
    "    \"Yes\": True,\n",
    "    \"No\": False\n",
    "}"
   ]
  },
  {
   "attachments": {},
   "cell_type": "markdown",
   "metadata": {},
   "source": [
    "Dictionary for replacing data types of DataFrame columns\n",
    "\n",
    "Ex reasoning: Change type of column \"contract_valid_until\" from float64 to Int64, requiring a capital I in \"Int\" in order to accept NaN values"
   ]
  },
  {
   "cell_type": "code",
   "execution_count": null,
   "metadata": {},
   "outputs": [],
   "source": [
    "dtype_conversions = {'contract_valid_until': 'Int64',\n",
    "                     'nation_jersey_number': 'Int64',\n",
    "                     'nation_position': 'category',\n",
    "                     'team_position': \"category\",\n",
    "                     'player_positions': \"category\",\n",
    "                     \"club\": 'category',\n",
    "                     \"nationality\": 'category',\n",
    "                     \"loaned_from\": 'category',\n",
    "                     \"preferred_foot\": 'category',\n",
    "                     \"body_type\": 'category',\n",
    "                     \"work_rate\": 'category'}"
   ]
  },
  {
   "attachments": {},
   "cell_type": "markdown",
   "metadata": {},
   "source": [
    "Dictionary for replacing columns \"team_position\" and \"nation_position\" abbreviated values with full words, as well as \"real_face\" boolean replacement"
   ]
  },
  {
   "cell_type": "code",
   "execution_count": null,
   "metadata": {},
   "outputs": [],
   "source": [
    "value_conversions = {\n",
    "    'team_position': soccer_position_abbreviation_dict,\n",
    "    'nation_position': soccer_position_abbreviation_dict,\n",
    "    'real_face': real_face_replacement_dict\n",
    "}"
   ]
  },
  {
   "attachments": {},
   "cell_type": "markdown",
   "metadata": {},
   "source": [
    "Line 2: Replace abbreviated column names with full words<br/><br/>\n",
    "Line 3: Change data types of columns with type conversions<br/><br/>\n",
    "Line 4: Replace column values with value conversions<br/><br/>\n",
    "Lines 6-8: Add \"salary_eur\" column to DataFrame\n",
    "* Line 6: Only proceed with adding \"salary_eur\" column if it is not already a column, and if \"wage_eur\" is a valid column.\n",
    "* Line 7: Create a \"salary_eur\" column in the DataFrame by multiplying the \"wage_eur\" column by 52.\n",
    "* Line 8: Move \"salary_eur\" column to index of \"wage_eur\" column. DataFrame.insert(loc, column, value) where df.pop will return the removed column.<br/>\n",
    "\n",
    "Lines 10-12: Convert columns to date type\n",
    "* Line 10: Specify columns to be converted to date type\n",
    "* Lines 11-12: Change type of DataFrame columns to datetime"
   ]
  },
  {
   "cell_type": "code",
   "execution_count": null,
   "metadata": {},
   "outputs": [],
   "source": [
    "def data_cleaning(df):\n",
    "    df = df.rename(columns=column_abbreviation_dict)\n",
    "    df = df.astype(dtype_conversions)\n",
    "    df = df.replace(value_conversions)\n",
    "    \n",
    "    if 'salary_eur' not in df.columns and 'wage_eur' in df.columns:\n",
    "        df['salary_eur'] = df['wage_eur'].multiply(52)\n",
    "        df.insert(list(df.columns).index(\"wage_eur\"), 'salary_eur', df.pop('salary_eur'))\n",
    "    \n",
    "    date_columns = ['dob', 'joined']\n",
    "    for column in date_columns:\n",
    "        df[column] = pd.to_datetime(df[column])\n",
    "    return df"
   ]
  },
  {
   "attachments": {},
   "cell_type": "markdown",
   "metadata": {},
   "source": [
    "Line 2: Get columns of type datetime64<br/><br/>\n",
    "Lines 3-4: Change column date format to MM/DD/YYYY (American Standard). This will convert the column to an object type (string) instead of datetime"
   ]
  },
  {
   "cell_type": "code",
   "execution_count": null,
   "metadata": {},
   "outputs": [],
   "source": [
    "def americanize_dates(df):\n",
    "    date_columns = list(df.select_dtypes('datetime64[ns]').columns)\n",
    "    for column in date_columns:\n",
    "        df[column] = df[column].dt.strftime('%m/%d/%Y')\n",
    "    return df"
   ]
  },
  {
   "attachments": {},
   "cell_type": "markdown",
   "metadata": {},
   "source": [
    "Line 2: Get list of columns which end in \"_cm\" or \"_kg\"<br/><br/>\n",
    "Line 3: Create column replacement dictionary, replacing \"_cm\" with \"_in\" and \"_kg\" with \"_lb\"<br/><br/>\n",
    "Lines 5-21: Loop through columns from Line 2 and create new columns as well as convert columns\n",
    "* Lines 6-18: For \"_cm\" columns, convert cm to inches and create column to display the \"_cm\" column in feet (feet and inches)\n",
    "    * Line 7: Convert column to inches\n",
    "    * Line 9: Get name of column before \"_cm\" ending\n",
    "    * Line 10: Create the new column name for the column to display in feet\n",
    "    * Line 13: Get a series object of feet by dividing the column with \"_cm\" column (now converted to inch values) by 12\n",
    "    * Line 14: Get a series object of inches by modding the column with \"_cm\" column (now converted to inch values) by 12\n",
    "    * Line 16: Construct a string feet column (in feet and inches) by adding the series objects from Lines 12-13\n",
    "    * Line 26: Insert feet column from Line 15 into DataFrame, at the index of the \"_cm\" column\n",
    "* Lines 28-29: Convert \"_kg\" column to pounds (lb)\n",
    "    * Line 29: Convert column to pounds\n",
    "\n",
    "Line 31: Rename all columns which ended in \"_cm\" or \"_kg\""
   ]
  },
  {
   "cell_type": "code",
   "execution_count": null,
   "metadata": {},
   "outputs": [],
   "source": [
    "def americanize_units(df):\n",
    "    unit_columns = [column for column in list(df.columns) if column.endswith('_cm') or column.endswith('_kg')]\n",
    "    american_unit_columns = {column: column.replace('_cm', '_in') if column.endswith(\"_cm\") else column.replace('_kg', '_lb') for column in unit_columns}\n",
    "    \n",
    "    for column in unit_columns:\n",
    "        if column.endswith(\"_cm\"):\n",
    "            df[column] = round(df[column].multiply(0.393701), 2)\n",
    "            \n",
    "            column_identifier = column[:column.rfind('_cm')]\n",
    "            new_column_name = f'{column_identifier}_feet'\n",
    "            \n",
    "            if new_column_name not in list(df.columns):\n",
    "                feet_series = (df[column].divide(12))\n",
    "                inches_series = (df[column].mod(12))\n",
    "                \n",
    "                feet_column = (\n",
    "                    feet_series\n",
    "                    .astype(int)\n",
    "                    .astype(str)\n",
    "                    + ' ft ' \n",
    "                    + round(inches_series, 1)\n",
    "                    .astype(str) \n",
    "                    + ' in'\n",
    "                )\n",
    "                \n",
    "                df.insert(list(df.columns).index(column), new_column_name, feet_column)\n",
    "            \n",
    "        elif column.endswith(\"_kg\"):\n",
    "            df[column] = round(df[column].multiply(2.20462262185), 2)\n",
    "            \n",
    "    df = df.rename(columns=american_unit_columns)\n",
    "    return df"
   ]
  },
  {
   "attachments": {},
   "cell_type": "markdown",
   "metadata": {},
   "source": [
    "Line 2: Get list of columns which end in \"_eur\"<br/><br/>\n",
    "Line 3: Create column replacement dictionary, replacing \"_eur\" with \"_usd\"<br/><br/>\n",
    "Lines 5-6: Loop through columns from Line 2 (\"_eur\" columns) and convert columns from EUR to USD\n",
    "* Line 6: Convert column to USD by applying the convert currency function\n",
    "\n",
    "Line 7: Rename all columns which ended in \"_eur\""
   ]
  },
  {
   "cell_type": "code",
   "execution_count": null,
   "metadata": {},
   "outputs": [],
   "source": [
    "def dollarize(df):\n",
    "    unit_columns = [column for column in list(df.columns) if column.endswith('_eur')]\n",
    "    usd_columns = {column: column.replace('_eur', '_usd') for column in unit_columns}\n",
    "    \n",
    "    for column in unit_columns:\n",
    "        df[column] = df[column].apply(convert_currency, args=('EUR', 'USD'))\n",
    "    df = df.rename(columns=usd_columns)\n",
    "    return df"
   ]
  },
  {
   "attachments": {},
   "cell_type": "markdown",
   "metadata": {},
   "source": [
    "Line 2: Get DataFrame of replacement weight and height units<br/><br/>\n",
    "Line 3: Get DataFrame of replaced date values<br/><br/>\n",
    "Line 4: Get DataFrame of replaced currency values"
   ]
  },
  {
   "cell_type": "code",
   "execution_count": null,
   "metadata": {},
   "outputs": [],
   "source": [
    "def americanize(df):\n",
    "    americanized_df = americanize_units(df)\n",
    "    americanized_df = americanize_dates(americanized_df)\n",
    "    americanized_df = dollarize(americanized_df)\n",
    "    return americanized_df"
   ]
  },
  {
   "attachments": {},
   "cell_type": "markdown",
   "metadata": {},
   "source": [
    "Perform data cleaning operations"
   ]
  },
  {
   "cell_type": "code",
   "execution_count": null,
   "metadata": {},
   "outputs": [],
   "source": [
    "fifa_players_df = data_cleaning(fifa_players_df)\n",
    "force_show_all_columns(fifa_players_df.head())"
   ]
  },
  {
   "attachments": {},
   "cell_type": "markdown",
   "metadata": {},
   "source": [
    "Perform \"Americanization\" of DataFrame columns' units and standards"
   ]
  },
  {
   "cell_type": "code",
   "execution_count": null,
   "metadata": {},
   "outputs": [],
   "source": [
    "fifa_players_df = americanize(fifa_players_df)\n",
    "force_show_all_columns(fifa_players_df.head())"
   ]
  },
  {
   "attachments": {},
   "cell_type": "markdown",
   "metadata": {},
   "source": [
    "Saving output to CSV for simple Tableau support"
   ]
  },
  {
   "cell_type": "code",
   "execution_count": null,
   "metadata": {},
   "outputs": [],
   "source": [
    "fifa_players_df.to_csv('fifa_players.csv')"
   ]
  },
  {
   "attachments": {},
   "cell_type": "markdown",
   "metadata": {},
   "source": [
    "Saving output to Parquet for storage and speed optimization"
   ]
  },
  {
   "cell_type": "code",
   "execution_count": null,
   "metadata": {},
   "outputs": [],
   "source": [
    "fifa_players_df.to_parquet('fifa_players.parquet')"
   ]
  },
  {
   "attachments": {},
   "cell_type": "markdown",
   "metadata": {},
   "source": [
    "## 2. How you would be able to see each <span style=\"color:#FF6000;font-style:oblique;\">column's name</span>?"
   ]
  },
  {
   "cell_type": "code",
   "execution_count": null,
   "metadata": {},
   "outputs": [],
   "source": [
    "fifa_player_column_list = list(fifa_players_df.reset_index().columns)"
   ]
  },
  {
   "cell_type": "code",
   "execution_count": null,
   "metadata": {},
   "outputs": [],
   "source": [
    "print(fifa_player_column_list)"
   ]
  },
  {
   "cell_type": "code",
   "execution_count": null,
   "metadata": {},
   "outputs": [],
   "source": [
    "force_show_all_columns(fifa_players_df.head())"
   ]
  },
  {
   "attachments": {},
   "cell_type": "markdown",
   "metadata": {},
   "source": [
    "## 3. Show the <span style=\"color:#FF6000;font-style:oblique;\">number of rows and columns</span> in the dataset. "
   ]
  },
  {
   "cell_type": "code",
   "execution_count": null,
   "metadata": {},
   "outputs": [],
   "source": [
    "fifa_players_df.reset_index().info()"
   ]
  },
  {
   "cell_type": "code",
   "execution_count": null,
   "metadata": {},
   "outputs": [],
   "source": [
    "fifa_players_df.reset_index().shape"
   ]
  },
  {
   "attachments": {},
   "cell_type": "markdown",
   "metadata": {},
   "source": [
    "### Rows"
   ]
  },
  {
   "cell_type": "code",
   "execution_count": null,
   "metadata": {},
   "outputs": [],
   "source": [
    "len(fifa_players_df)"
   ]
  },
  {
   "attachments": {},
   "cell_type": "markdown",
   "metadata": {},
   "source": [
    "### Columns"
   ]
  },
  {
   "cell_type": "code",
   "execution_count": null,
   "metadata": {},
   "outputs": [],
   "source": [
    "len(fifa_players_df.reset_index().columns)"
   ]
  },
  {
   "attachments": {},
   "cell_type": "markdown",
   "metadata": {},
   "source": [
    "## 4. Show the <span style=\"color:#FF6000;font-style:oblique;\">number of players in each country</span>."
   ]
  },
  {
   "cell_type": "code",
   "execution_count": null,
   "metadata": {},
   "outputs": [],
   "source": [
    "columns_with_country_string = [column for column in fifa_player_column_list if \"nation\" in column]\n",
    "print(columns_with_country_string)\n",
    "country_column = columns_with_country_string[columns_with_country_string.index(\"nationality\")]"
   ]
  },
  {
   "cell_type": "code",
   "execution_count": null,
   "metadata": {},
   "outputs": [],
   "source": [
    "fifa_players_countries = (\n",
    "    fifa_players_df\n",
    "    .groupby(country_column)\n",
    "    .size()\n",
    "    .to_frame(name='player count')\n",
    ")\n",
    "print(f\"There are {len(fifa_players_countries)} countries and {fifa_players_countries['player count'].sum()} players total.\")\n",
    "force_show_all_rows(compact_style(fifa_players_countries))"
   ]
  },
  {
   "attachments": {},
   "cell_type": "markdown",
   "metadata": {},
   "source": [
    "## 5. Show the <span style=\"color:#FF6000;font-style:oblique;\">top 10 countries with the highest amount of players</span>."
   ]
  },
  {
   "cell_type": "code",
   "execution_count": null,
   "metadata": {},
   "outputs": [],
   "source": [
    "top_10_player_count_countries = (\n",
    "    fifa_players_countries\n",
    "    .nlargest(TOP_TEN, 'player count')\n",
    "    .reset_index()\n",
    "    .rename_axis('rank')\n",
    ")\n",
    "top_10_player_count_countries.index += 1\n",
    "top_10_player_count_countries"
   ]
  },
  {
   "attachments": {},
   "cell_type": "markdown",
   "metadata": {},
   "source": [
    "## 6. Create a <span style=\"color:#FF6000;font-style:oblique;\">bar plot</span> of the top 5 countries with the highest number of players, and fill the bars in green"
   ]
  },
  {
   "cell_type": "code",
   "execution_count": null,
   "metadata": {},
   "outputs": [],
   "source": [
    "top_5_player_count_countries = top_10_player_count_countries.head()\n",
    "\n",
    "chart_title = f'Top {TOP_FIVE} Countries by Number of FIFA Soccer Players'\n",
    "chart_x_label = 'Country'\n",
    "chart_y_label = 'Number of Players'\n",
    "\n",
    "ax = top_5_player_count_countries.set_index(country_column).plot.bar(color='green', rot=45, width=0.7, legend=None, title=chart_title, xlabel=chart_x_label, ylabel=chart_y_label)"
   ]
  },
  {
   "attachments": {},
   "cell_type": "markdown",
   "metadata": {},
   "source": [
    "## 7. Display the short name and wages for the top 5 players."
   ]
  },
  {
   "cell_type": "code",
   "execution_count": null,
   "metadata": {},
   "outputs": [],
   "source": [
    "columns_with_name_string = [column for column in fifa_player_column_list if \"name\" in column]\n",
    "print(columns_with_name_string)\n",
    "short_name_column = columns_with_name_string[columns_with_name_string.index('short_name')]"
   ]
  },
  {
   "cell_type": "code",
   "execution_count": null,
   "metadata": {},
   "outputs": [],
   "source": [
    "columns_with_wage_string = [column for column in fifa_player_column_list if \"wage\" in column]\n",
    "print(columns_with_wage_string)\n",
    "wage_column = columns_with_wage_string[columns_with_wage_string.index('wage_usd')]"
   ]
  },
  {
   "cell_type": "code",
   "execution_count": null,
   "metadata": {},
   "outputs": [],
   "source": [
    "fifa_players_df.head()[[short_name_column, wage_column]]"
   ]
  },
  {
   "attachments": {},
   "cell_type": "markdown",
   "metadata": {},
   "source": [
    "## 8. Display the short name and wages for the top 5 players with the highest salaries."
   ]
  },
  {
   "cell_type": "code",
   "execution_count": null,
   "metadata": {},
   "outputs": [],
   "source": [
    "columns_with_salary_string = [column for column in fifa_player_column_list if \"salary\" in column]\n",
    "print(columns_with_salary_string)\n",
    "salary_column = columns_with_salary_string[columns_with_salary_string.index('salary_usd')]"
   ]
  },
  {
   "cell_type": "code",
   "execution_count": null,
   "metadata": {},
   "outputs": [],
   "source": [
    "top_5_salaries_players = fifa_players_df[[short_name_column, salary_column]].nlargest(TOP_FIVE, salary_column)\n",
    "top_5_salaries_players"
   ]
  },
  {
   "attachments": {},
   "cell_type": "markdown",
   "metadata": {},
   "source": [
    "## 9. Create a bar plot of the previous bullet point."
   ]
  },
  {
   "cell_type": "code",
   "execution_count": null,
   "metadata": {},
   "outputs": [],
   "source": [
    "from matplotlib.ticker import FuncFormatter\n",
    "\n",
    "def millions(x, pos):\n",
    "    'The two args are the value and tick position'\n",
    "    return '%1.1fM' % (x * 1e-6)\n",
    "\n",
    "formatter = FuncFormatter(millions)"
   ]
  },
  {
   "cell_type": "code",
   "execution_count": null,
   "metadata": {},
   "outputs": [],
   "source": [
    "chart_title = f'Top {TOP_FIVE} Highest Paid FIFA Soccer Players'\n",
    "chart_x_label = 'Name'\n",
    "chart_y_label = f\"Salary ({salary_column[salary_column.rfind('_') + 1:].upper()})\"\n",
    "\n",
    "ax = top_5_salaries_players.set_index(short_name_column).plot.bar(color='green', rot=45, width=0.6, legend=None, title=chart_title, xlabel=chart_x_label, ylabel=chart_y_label)\n",
    "\n",
    "ax.yaxis.set_major_formatter(formatter)"
   ]
  },
  {
   "attachments": {},
   "cell_type": "markdown",
   "metadata": {},
   "source": [
    "## 10. Show top 10 records of Germany."
   ]
  },
  {
   "cell_type": "code",
   "execution_count": null,
   "metadata": {},
   "outputs": [],
   "source": [
    "german_fifa_players = fifa_players_df.loc[fifa_players_df[country_column] == 'Germany']\n",
    "first_ten_german_fifa_players = german_fifa_players.head(TOP_TEN)\n",
    "force_show_all_columns(first_ten_german_fifa_players)"
   ]
  },
  {
   "attachments": {},
   "cell_type": "markdown",
   "metadata": {},
   "source": [
    "## 11. Show the top 5 records of Germany players who have a maximum height, weight and wage"
   ]
  },
  {
   "attachments": {},
   "cell_type": "markdown",
   "metadata": {},
   "source": [
    "### Maximum height"
   ]
  },
  {
   "cell_type": "code",
   "execution_count": null,
   "metadata": {},
   "outputs": [],
   "source": [
    "columns_with_height_string = [column for column in fifa_player_column_list if \"height\" in column]\n",
    "print(columns_with_height_string)\n",
    "height_column = columns_with_height_string[columns_with_height_string.index('height_in')]"
   ]
  },
  {
   "cell_type": "code",
   "execution_count": null,
   "metadata": {},
   "outputs": [],
   "source": [
    "top_height_german_fifa_players = german_fifa_players.nlargest(TOP_FIVE, height_column)\n",
    "top_height_german_fifa_players.insert(0, height_column, top_height_german_fifa_players.pop(height_column))\n",
    "force_show_all_columns(top_height_german_fifa_players)"
   ]
  },
  {
   "attachments": {},
   "cell_type": "markdown",
   "metadata": {},
   "source": [
    "### Maximum weight"
   ]
  },
  {
   "cell_type": "code",
   "execution_count": null,
   "metadata": {},
   "outputs": [],
   "source": [
    "columns_with_weight_string = [column for column in fifa_player_column_list if \"weight\" in column]\n",
    "print(columns_with_weight_string)\n",
    "weight_column = columns_with_weight_string[columns_with_weight_string.index('weight_lb')]"
   ]
  },
  {
   "cell_type": "code",
   "execution_count": null,
   "metadata": {},
   "outputs": [],
   "source": [
    "top_weight_german_fifa_players = german_fifa_players.nlargest(TOP_FIVE, weight_column)\n",
    "top_weight_german_fifa_players.insert(0, weight_column, top_weight_german_fifa_players.pop(weight_column))\n",
    "force_show_all_columns(top_weight_german_fifa_players)"
   ]
  },
  {
   "attachments": {},
   "cell_type": "markdown",
   "metadata": {},
   "source": [
    "### Maximum wages"
   ]
  },
  {
   "cell_type": "code",
   "execution_count": null,
   "metadata": {},
   "outputs": [],
   "source": [
    "top_wage_german_fifa_players = german_fifa_players.nlargest(TOP_FIVE, wage_column)\n",
    "top_wage_german_fifa_players.insert(0, wage_column, top_wage_german_fifa_players.pop(wage_column))\n",
    "force_show_all_columns(top_wage_german_fifa_players)"
   ]
  },
  {
   "attachments": {},
   "cell_type": "markdown",
   "metadata": {},
   "source": [
    "## 12. Display the short name and wages of the top 5 Germany players."
   ]
  },
  {
   "cell_type": "code",
   "execution_count": null,
   "metadata": {},
   "outputs": [],
   "source": [
    "first_five_german_fifa_players = first_ten_german_fifa_players.head()\n",
    "first_five_german_fifa_players[[short_name_column, wage_column]]"
   ]
  },
  {
   "attachments": {},
   "cell_type": "markdown",
   "metadata": {},
   "source": [
    "## 13. Show top 5 players who have the best shooting skills among all the players with short names."
   ]
  },
  {
   "cell_type": "code",
   "execution_count": null,
   "metadata": {},
   "outputs": [],
   "source": [
    "columns_with_soccer_shoot_string = [column for column in fifa_player_column_list if \"shoot\" in column]\n",
    "print(columns_with_soccer_shoot_string)\n",
    "soccer_shooting_column = columns_with_soccer_shoot_string[columns_with_soccer_shoot_string.index('shooting')]"
   ]
  },
  {
   "cell_type": "code",
   "execution_count": null,
   "metadata": {},
   "outputs": [],
   "source": [
    "top_5_players_shooting = (\n",
    "    fifa_players_df\n",
    "    .dropna(subset=[short_name_column])\n",
    "    .sort_values(soccer_shooting_column, ascending=False)\n",
    "    .head()\n",
    ")\n",
    "top_5_players_shooting.insert(0, soccer_shooting_column, top_5_players_shooting.pop(soccer_shooting_column))\n",
    "force_show_all_columns(top_5_players_shooting)"
   ]
  },
  {
   "attachments": {},
   "cell_type": "markdown",
   "metadata": {},
   "source": [
    "## 14. Show top 5 players records (short name, defending, nationality, and club) that have awesome defending skills."
   ]
  },
  {
   "cell_type": "code",
   "execution_count": null,
   "metadata": {},
   "outputs": [],
   "source": [
    "columns_with_soccer_defend_string = [column for column in fifa_player_column_list if \"defend\" in column]\n",
    "print(columns_with_soccer_defend_string)\n",
    "soccer_defending_column = columns_with_soccer_defend_string[columns_with_soccer_defend_string.index('defending')]"
   ]
  },
  {
   "cell_type": "code",
   "execution_count": null,
   "metadata": {},
   "outputs": [],
   "source": [
    "top_5_players_defending = (\n",
    "    fifa_players_df\n",
    "    .dropna(subset=[short_name_column])\n",
    "    .nlargest(TOP_FIVE, soccer_defending_column)\n",
    ")\n",
    "top_5_players_defending[[short_name_column, soccer_defending_column, country_column, \"club\"]]"
   ]
  },
  {
   "attachments": {},
   "cell_type": "markdown",
   "metadata": {},
   "source": [
    "## 15. Show wage records of the top 5 players of the 'Real Madrid' team"
   ]
  },
  {
   "cell_type": "code",
   "execution_count": null,
   "metadata": {},
   "outputs": [],
   "source": [
    "TEAM_NAME = 'Real Madrid'"
   ]
  },
  {
   "attachments": {},
   "cell_type": "markdown",
   "metadata": {},
   "source": [
    "Checks which columns the \"Real Madrid\" value is located in (lines 1-7) and assigns it to the most relevant column (line 9)"
   ]
  },
  {
   "cell_type": "code",
   "execution_count": null,
   "metadata": {},
   "outputs": [],
   "source": [
    "real_madrid_column_list = list((\n",
    "    fifa_players_df\n",
    "    .columns[\n",
    "        fifa_players_df\n",
    "        .isin([TEAM_NAME])\n",
    "        .any()\n",
    "        ]))\n",
    "print(real_madrid_column_list)\n",
    "real_madrid_column = real_madrid_column_list[real_madrid_column_list.index('club')]"
   ]
  },
  {
   "attachments": {},
   "cell_type": "markdown",
   "metadata": {},
   "source": [
    "Get DataFrame where 'club' column values are equal to \"Real Madrid\""
   ]
  },
  {
   "cell_type": "code",
   "execution_count": null,
   "metadata": {},
   "outputs": [],
   "source": [
    "real_madrid_df = fifa_players_df.loc[fifa_players_df[real_madrid_column] == TEAM_NAME]"
   ]
  },
  {
   "cell_type": "code",
   "execution_count": null,
   "metadata": {},
   "outputs": [],
   "source": [
    "top_wage_real_madrid_players = real_madrid_df.nlargest(TOP_FIVE, wage_column)\n",
    "top_wage_real_madrid_players.insert(0, wage_column, top_wage_real_madrid_players.pop(wage_column))\n",
    "force_show_all_columns(top_wage_real_madrid_players)"
   ]
  },
  {
   "attachments": {},
   "cell_type": "markdown",
   "metadata": {},
   "source": [
    "## 16. Show shooting records of top 5 players of 'Real Madrid' team."
   ]
  },
  {
   "cell_type": "code",
   "execution_count": null,
   "metadata": {},
   "outputs": [],
   "source": [
    "top_shooting_real_madrid_players = real_madrid_df.nlargest(TOP_FIVE, soccer_shooting_column)\n",
    "top_shooting_real_madrid_players.insert(0, soccer_shooting_column, top_shooting_real_madrid_players.pop(soccer_shooting_column))\n",
    "force_show_all_columns(top_shooting_real_madrid_players)"
   ]
  },
  {
   "attachments": {},
   "cell_type": "markdown",
   "metadata": {},
   "source": [
    "## 17. Show defending records of top 5 players of 'Real Madrid' team."
   ]
  },
  {
   "cell_type": "code",
   "execution_count": null,
   "metadata": {},
   "outputs": [],
   "source": [
    "top_defending_real_madrid_players = real_madrid_df.nlargest(TOP_FIVE, soccer_defending_column)\n",
    "top_defending_real_madrid_players.insert(0, soccer_defending_column, top_defending_real_madrid_players.pop(soccer_defending_column))\n",
    "force_show_all_columns(top_defending_real_madrid_players)"
   ]
  },
  {
   "attachments": {},
   "cell_type": "markdown",
   "metadata": {},
   "source": [
    "## 18. Show nationality records of top 5 players of 'Real Madrid' team."
   ]
  },
  {
   "cell_type": "code",
   "execution_count": null,
   "metadata": {},
   "outputs": [],
   "source": [
    "real_madrid_players_nationality = real_madrid_df.head()[[country_column, short_name_column, real_madrid_column, \"player_url\"]]"
   ]
  },
  {
   "cell_type": "code",
   "execution_count": null,
   "metadata": {},
   "outputs": [],
   "source": [
    "def path_to_image_html(path):\n",
    "    return '<img src=\"'+ path + '\" width=\"60\" >'"
   ]
  },
  {
   "attachments": {},
   "cell_type": "markdown",
   "metadata": {},
   "source": [
    "Webscrape Wikipedia page for flag of countries in DataFrame and save this URL value to DataFrame column \"flag\""
   ]
  },
  {
   "cell_type": "code",
   "execution_count": null,
   "metadata": {},
   "outputs": [],
   "source": [
    "import requests\n",
    "from bs4 import BeautifulSoup\n",
    "\n",
    "flag_list = []\n",
    "\n",
    "for item in real_madrid_players_nationality[country_column]:\n",
    "    url = 'https://en.wikipedia.org/wiki/File:Flag_of_' + str(item) + '.svg'\n",
    "    r = requests.get(url)\n",
    "    soup = BeautifulSoup(r.text, \"lxml\")\n",
    "    \n",
    "    flag_url = soup.find('span', {'class':'mw-filepage-other-resolutions'}).findAll('a')[0]['href']\n",
    "    flag_list.append(flag_url)\n",
    "    \n",
    "real_madrid_players_nationality['flag'] = flag_list"
   ]
  },
  {
   "cell_type": "code",
   "execution_count": null,
   "metadata": {},
   "outputs": [],
   "source": [
    "force_show_max_width(real_madrid_players_nationality)\n",
    "real_madrid_players_nationality['flag'] = flag_list"
   ]
  },
  {
   "attachments": {},
   "cell_type": "markdown",
   "metadata": {},
   "source": [
    "Function to make URL clickable and to open in browser in a new tab"
   ]
  },
  {
   "cell_type": "code",
   "execution_count": null,
   "metadata": {},
   "outputs": [],
   "source": [
    "def make_clickable(url, name):\n",
    "    if not (bool(BeautifulSoup(name, \"html.parser\").find())):\n",
    "        return '<a href=\"{}\" rel=\"noopener noreferrer\" target=\"_blank\">{}</a>'.format(url,name)\n",
    "    else:\n",
    "        return name"
   ]
  },
  {
   "attachments": {},
   "cell_type": "markdown",
   "metadata": {},
   "source": [
    "Line 3: Apply make_clickable function to \"short_name\" column so that the player's sofifa URL is accessible through the \"short_name\" column value<br></br>\n",
    "Line 5: Display HTML rendering of DataFrame with the flag URL being displayed as an image<br></br>"
   ]
  },
  {
   "cell_type": "code",
   "execution_count": null,
   "metadata": {},
   "outputs": [],
   "source": [
    "from IPython.core.display import HTML\n",
    "\n",
    "real_madrid_players_nationality['short_name'] = real_madrid_players_nationality.apply(lambda x: make_clickable(x['player_url'], x['short_name']), axis=1)\n",
    "\n",
    "HTML(real_madrid_players_nationality[[real_madrid_column, short_name_column, country_column, 'flag']].to_html(escape=False, formatters=dict(flag=path_to_image_html)))"
   ]
  },
  {
   "attachments": {},
   "cell_type": "markdown",
   "metadata": {},
   "source": [
    "## Extensions"
   ]
  },
  {
   "attachments": {},
   "cell_type": "markdown",
   "metadata": {},
   "source": [
    "### Player age versus average salary line graph"
   ]
  },
  {
   "attachments": {},
   "cell_type": "markdown",
   "metadata": {},
   "source": [
    "Plots age vs average salary line graph, using the count of age as the color gradient for the line"
   ]
  },
  {
   "cell_type": "code",
   "execution_count": 493,
   "metadata": {},
   "outputs": [
    {
     "data": {
      "image/png": "[encoded data removed]",
      "text/plain": [
       "<Figure size 640x480 with 2 Axes>"
      ]
     },
     "metadata": {},
     "output_type": "display_data"
    }
   ],
   "source": [
    "import numpy as np\n",
    "import matplotlib.pyplot as plt\n",
    "from matplotlib.collections import LineCollection\n",
    "\n",
    "x = fifa_players_df.groupby('age')[salary_column].mean(salary_column).index.to_numpy() # Array of ages\n",
    "y = fifa_players_df.groupby('age')[salary_column].mean(salary_column).to_numpy() # Array of average salaries\n",
    "dydx = fifa_players_df.groupby('age').size().to_numpy()  # Array of count of age\n",
    "\n",
    "# Create a set of line segments so that we can color them individually\n",
    "# This creates the points as an N x 1 x 2 array so that we can stack points\n",
    "# together easily to get the segments. The segments array for line collection\n",
    "# needs to be (numlines) x (points per line) x 2 (for x and y)\n",
    "points = np.array([x, y]).T.reshape(-1, 1, 2)\n",
    "segments = np.concatenate([points[:-1], points[1:]], axis=1)\n",
    "\n",
    "fig, ax = plt.subplots()\n",
    "\n",
    "# Create a continuous norm to map from data points to colors\n",
    "norm = plt.Normalize(dydx.min(), dydx.max())\n",
    "lc = LineCollection(segments, cmap='YlOrRd', norm=norm)\n",
    "# Set the values used for colormapping\n",
    "lc.set_array(dydx)\n",
    "lc.set_linewidth(2)\n",
    "line = ax.add_collection(lc)\n",
    "axcb = fig.colorbar(line, ax=ax)\n",
    "axcb.set_label('Age Count')\n",
    "\n",
    "ax.set_xlim(x.min() - 2, x.max() + 2)\n",
    "ax.set_ylim(0, y.max() + 100000)\n",
    "\n",
    "ax.set_xlabel(\"Age\", labelpad=10)\n",
    "ax.set_ylabel(\"Avg. Salary (USD)\", labelpad=10)\n",
    "ax.yaxis.set_major_formatter(formatter)\n",
    "\n",
    "ax.set_title('Player Age vs Salary')\n",
    "\n",
    "plt.show()"
   ]
  }
 ],
 "metadata": {
  "kernelspec": {
   "display_name": "base",
   "language": "python",
   "name": "python3"
  },
  "language_info": {
   "codemirror_mode": {
    "name": "ipython",
    "version": 3
   },
   "file_extension": ".py",
   "mimetype": "text/x-python",
   "name": "python",
   "nbconvert_exporter": "python",
   "pygments_lexer": "ipython3",
   "version": "3.10.10"
  },
  "orig_nbformat": 4
 },
 "nbformat": 4,
 "nbformat_minor": 2
}
